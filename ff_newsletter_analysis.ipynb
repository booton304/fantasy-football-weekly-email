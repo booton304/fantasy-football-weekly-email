{
 "cells": [
  {
   "cell_type": "code",
   "execution_count": 166,
   "metadata": {},
   "outputs": [],
   "source": [
    "import os\n",
    "import base64\n",
    "import time\n",
    "import dateutil.parser as parser\n",
    "#from googleapiclient.discovery import build\n",
    "from google_auth_oauthlib.flow import InstalledAppFlow\n",
    "from google.auth.transport.requests import Request\n",
    "import pandas as pd\n",
    "import numpy as np\n",
    "\n",
    "from email.header import decode_header\n",
    "import re\n",
    "import urllib.parse\n",
    "import quopri\n",
    "from io import BytesIO\n",
    "import ast\n",
    "import imaplib\n",
    "import email\n",
    "from dotenv import load_dotenv\n",
    "\n",
    "load_dotenv('/Users/yushunli/env.')\n",
    "\n",
    "#Load the user name and passwd from yaml file\n",
    "user, password = os.getenv('GMAIL_USER'), os.getenv('GMAIL_PW')\n",
    "\n",
    "import plotly.express as px\n",
    "from plotly.subplots import make_subplots"
   ]
  },
  {
   "cell_type": "code",
   "execution_count": 3,
   "metadata": {},
   "outputs": [
    {
     "data": {
      "text/plain": [
       "('OK', [b'4199'])"
      ]
     },
     "execution_count": 3,
     "metadata": {},
     "output_type": "execute_result"
    }
   ],
   "source": [
    "#URL for IMAP connection\n",
    "imap_url = 'imap.gmail.com'\n",
    "\n",
    "# Connection with GMAIL using SSL\n",
    "my_mail = imaplib.IMAP4_SSL(imap_url)\n",
    "\n",
    "# Log in using your credentials\n",
    "my_mail.login(user, password)\n",
    "\n",
    "# Select the Inbox to fetch messages\n",
    "my_mail.select('Inbox')"
   ]
  },
  {
   "cell_type": "code",
   "execution_count": 4,
   "metadata": {},
   "outputs": [],
   "source": [
    "#Define Key and Value for email search\n",
    "#For other keys (criteria): https://gist.github.com/martinrusev/6121028#file-imap-search\n",
    "key = 'FROM'\n",
    "value = 'theffnewsletter@substack.com'\n",
    "_, data = my_mail.search(None, key, value)  #Search for emails with specific key and value\n",
    "\n",
    "mail_id_list = data[0].split()  #IDs of all emails that we want to fetch \n",
    "\n",
    "msgs = [] # empty list to capture all messages\n",
    "#Iterate through messages and extract data into the msgs list\n",
    "for num in mail_id_list:\n",
    "    typ, data = my_mail.fetch(num, '(RFC822)') #RFC822 returns whole message (BODY fetches just body)\n",
    "    msgs.append(data)"
   ]
  },
  {
   "cell_type": "code",
   "execution_count": 5,
   "metadata": {},
   "outputs": [],
   "source": [
    "#convert msgs to a dataframe\n",
    "df = pd.DataFrame(msgs, columns=['raw_message', 'random'])"
   ]
  },
  {
   "cell_type": "code",
   "execution_count": 31,
   "metadata": {},
   "outputs": [
    {
     "data": {
      "text/html": [
       "<div>\n",
       "<style scoped>\n",
       "    .dataframe tbody tr th:only-of-type {\n",
       "        vertical-align: middle;\n",
       "    }\n",
       "\n",
       "    .dataframe tbody tr th {\n",
       "        vertical-align: top;\n",
       "    }\n",
       "\n",
       "    .dataframe thead th {\n",
       "        text-align: right;\n",
       "    }\n",
       "</style>\n",
       "<table border=\"1\" class=\"dataframe\">\n",
       "  <thead>\n",
       "    <tr style=\"text-align: right;\">\n",
       "      <th></th>\n",
       "      <th>subject</th>\n",
       "      <th>date</th>\n",
       "      <th>body</th>\n",
       "    </tr>\n",
       "  </thead>\n",
       "  <tbody>\n",
       "    <tr>\n",
       "      <th>31</th>\n",
       "      <td>\"Were Brady and Brees even that good, or was i...</td>\n",
       "      <td>2021-09-30</td>\n",
       "      <td>View this post on the web at https://email.mg2...</td>\n",
       "    </tr>\n",
       "    <tr>\n",
       "      <th>16</th>\n",
       "      <td>57 Nuggets From Week 1</td>\n",
       "      <td>2022-09-15</td>\n",
       "      <td>View this post on the web at https://theffnews...</td>\n",
       "    </tr>\n",
       "    <tr>\n",
       "      <th>2</th>\n",
       "      <td>Anthony Richardson Going 1.01 in Fantasy Baske...</td>\n",
       "      <td>2023-07-13</td>\n",
       "      <td>View this post on the web at https://theffnews...</td>\n",
       "    </tr>\n",
       "    <tr>\n",
       "      <th>26</th>\n",
       "      <td>Michael Pittman Jr. Has Arrived</td>\n",
       "      <td>2021-11-04</td>\n",
       "      <td>View this post on the web at https://email.mg2...</td>\n",
       "    </tr>\n",
       "    <tr>\n",
       "      <th>22</th>\n",
       "      <td>'Welcome to the “fantasy football is dumb and ...</td>\n",
       "      <td>2021-12-09</td>\n",
       "      <td>View this post on the web at https://email.mg2...</td>\n",
       "    </tr>\n",
       "    <tr>\n",
       "      <th>9</th>\n",
       "      <td>\"Dynasty RB1 gets changed more frequently than...</td>\n",
       "      <td>2022-11-10</td>\n",
       "      <td>View this post on the web at https://theffnews...</td>\n",
       "    </tr>\n",
       "    <tr>\n",
       "      <th>18</th>\n",
       "      <td>\"Don't mind me, I'm just going to stare at the...</td>\n",
       "      <td>2022-09-01</td>\n",
       "      <td>View this post on the web at https://theffnews...</td>\n",
       "    </tr>\n",
       "    <tr>\n",
       "      <th>3</th>\n",
       "      <td>Greg Dulcich is Goated</td>\n",
       "      <td>2023-07-06</td>\n",
       "      <td>View this post on the web at https://theffnews...</td>\n",
       "    </tr>\n",
       "    <tr>\n",
       "      <th>0</th>\n",
       "      <td>Training Camp Spice</td>\n",
       "      <td>2023-07-27</td>\n",
       "      <td>View this post on the web at https://theffnews...</td>\n",
       "    </tr>\n",
       "    <tr>\n",
       "      <th>39</th>\n",
       "      <td>Trey Lance, Tua Tagovailoa, and Donovan People...</td>\n",
       "      <td>2021-08-05</td>\n",
       "      <td>View this post on the web at https://email.mg2...</td>\n",
       "    </tr>\n",
       "  </tbody>\n",
       "</table>\n",
       "</div>"
      ],
      "text/plain": [
       "                                              subject        date   \n",
       "31  \"Were Brady and Brees even that good, or was i...  2021-09-30  \\\n",
       "16                             57 Nuggets From Week 1  2022-09-15   \n",
       "2   Anthony Richardson Going 1.01 in Fantasy Baske...  2023-07-13   \n",
       "26                    Michael Pittman Jr. Has Arrived  2021-11-04   \n",
       "22  'Welcome to the “fantasy football is dumb and ...  2021-12-09   \n",
       "9   \"Dynasty RB1 gets changed more frequently than...  2022-11-10   \n",
       "18  \"Don't mind me, I'm just going to stare at the...  2022-09-01   \n",
       "3                              Greg Dulcich is Goated  2023-07-06   \n",
       "0                                 Training Camp Spice  2023-07-27   \n",
       "39  Trey Lance, Tua Tagovailoa, and Donovan People...  2021-08-05   \n",
       "\n",
       "                                                 body  \n",
       "31  View this post on the web at https://email.mg2...  \n",
       "16  View this post on the web at https://theffnews...  \n",
       "2   View this post on the web at https://theffnews...  \n",
       "26  View this post on the web at https://email.mg2...  \n",
       "22  View this post on the web at https://email.mg2...  \n",
       "9   View this post on the web at https://theffnews...  \n",
       "18  View this post on the web at https://theffnews...  \n",
       "3   View this post on the web at https://theffnews...  \n",
       "0   View this post on the web at https://theffnews...  \n",
       "39  View this post on the web at https://email.mg2...  "
      ]
     },
     "execution_count": 31,
     "metadata": {},
     "output_type": "execute_result"
    }
   ],
   "source": [
    "subject = []\n",
    "date = []\n",
    "body = []\n",
    "for msg in msgs[::-1]:\n",
    "    for response_part in msg:\n",
    "        if type(response_part) is tuple:\n",
    "            my_msg=email.message_from_bytes((response_part[1]))\n",
    "            #print(\"_________________________________________\")\n",
    "            #print (\"subj:\", my_msg['subject'])\n",
    "            subject.append(my_msg['subject'])\n",
    "            date.append(my_msg['date'])\n",
    "            #print (\"from:\", my_msg['from'])\n",
    "            for part in my_msg.walk():  \n",
    "                #print(part.get_content_type())\n",
    "                if part.get_content_type() == 'text/plain':\n",
    "                    #print (part.get_payload())\n",
    "                    body.append(part.get_payload())\n",
    "\n",
    "#Remove the last element from the lists 'subject' and 'date'\n",
    "subject.pop()\n",
    "date.pop()\n",
    "\n",
    "#Create an empty dataframe\n",
    "df = pd.DataFrame()\n",
    "#Fill the dataframe with the lists\n",
    "df['subject'] = subject\n",
    "df['date'] = date\n",
    "df['body'] = body\n",
    "#convert the 'date' column to datetime format in 'yyyy-mm-dd' format\n",
    "df['date'] = pd.to_datetime(df['date']).dt.date\n",
    "\n",
    "def decode_text(text):\n",
    "    decoded_header = decode_header(text)\n",
    "    decoded_parts = [part.decode(encoding or 'utf8') if not isinstance(part, str) else part for part, encoding in decoded_header]\n",
    "    return ''.join(decoded_parts)\n",
    "\n",
    "df['subject'] = df['subject'].apply(decode_text)\n",
    "df['body'] = df['body'].apply(decode_text)\n",
    "df.sort_values(by='date', ascending=True, inplace=True)\n",
    "df.sample(10)"
   ]
  },
  {
   "cell_type": "code",
   "execution_count": 7,
   "metadata": {},
   "outputs": [],
   "source": [
    "def clean_email_body(email_body):\n",
    "    # Remove soft line breaks\n",
    "    email_body = email_body.replace('=\\r\\n', '')\n",
    "\n",
    "    # Replace unicode characters\n",
    "    email_body = re.sub(r'=[0-9A-Fa-f]{2}', '', email_body)\n",
    "\n",
    "    # Decode URLs\n",
    "    url_pattern = r'(http[s]?://(?:[a-zA-Z]|[0-9]|[$-_@.&+]|[!*\\\\(\\\\),]|(?:%[0-9a-fA-F][0-9a-fA-F]))+)'\n",
    "    urls = re.findall(url_pattern, email_body)\n",
    "    for url in urls:\n",
    "        decoded_url = urllib.parse.unquote(url)\n",
    "        email_body = email_body.replace(url, decoded_url)\n",
    "\n",
    "    # Replace =20 with a space\n",
    "    email_body = email_body.replace('=20', ' ')\n",
    "\n",
    "    return email_body\n"
   ]
  },
  {
   "cell_type": "code",
   "execution_count": 8,
   "metadata": {},
   "outputs": [],
   "source": [
    "def decode_quoted_printable(encoded_str):\n",
    "    decoded_bytes = quopri.decodestring(encoded_str)\n",
    "    decoded_str = decoded_bytes.decode('utf-8')\n",
    "    # Replace \"\\r\\n\" with \"\\n\"\n",
    "    decoded_str = decoded_str.replace('\\r\\n', '\\n')\n",
    "    return decoded_str"
   ]
  },
  {
   "cell_type": "code",
   "execution_count": 14,
   "metadata": {},
   "outputs": [],
   "source": [
    "def remove_http_links_in_brackets(text):\n",
    "    # The regular expression pattern below matches any text that:\n",
    "    # - starts with a '[' (escaped as '\\[')\n",
    "    # - is followed by any number of any characters (matched by '.*?')\n",
    "    # - contains 'http'\n",
    "    # - ends with a ']' (escaped as '\\]')\n",
    "    return re.sub(r'\\[.*?http.*?\\]', '(Player Highlighted)', text)"
   ]
  },
  {
   "cell_type": "code",
   "execution_count": 34,
   "metadata": {},
   "outputs": [],
   "source": [
    "def remove_intro_conclusion(text):\n",
    "    try:\n",
    "        # Remove introduction\n",
    "        intro_keyword = 'Welcome back!'\n",
    "        text = text.split(intro_keyword, 1)[1]  # Keep only the text after the intro_keyword\n",
    "\n",
    "        # Remove conclusion\n",
    "        conclusion_keyword = 'Unsubscribe'\n",
    "        text = text.rsplit(conclusion_keyword, 1)[0]  # Keep only the text before the conclusion_keyword\n",
    "\n",
    "        return text.strip()  # Remove leading and trailing whitespace\n",
    "\n",
    "    except IndexError:  # Handle case where keywords are not found\n",
    "        return text\n",
    "    \n",
    "    import re\n",
    "\n",
    "def remove_intro_conclusion2(text):\n",
    "    # Remove intro\n",
    "    intro_pattern = r'^(.*?As always, you can join the discussion on /r/fantasyfootball \\(Player Highlighted\\) and /r/DynastyFF \\(Player Highlighted\\))'\n",
    "    text = re.sub(intro_pattern, '', text, flags=re.DOTALL)\n",
    "    \n",
    "    # Remove conclusion\n",
    "    conclusion_pattern = r'(That’s it for now. Join our community on Patreon \\(Player Highlighted\\) and get all our rankings and access to our Discord chat! You can also follow me on Twitter \\(Player Highlighted\\) and Instagram \\(Player Highlighted\\) where I browse over 1,000 analysts and beat writers and retweet/post all the good stuff..*)$'\n",
    "    text = re.sub(conclusion_pattern, '', text, flags=re.DOTALL)\n",
    "    \n",
    "    return text\n"
   ]
  },
  {
   "cell_type": "code",
   "execution_count": 35,
   "metadata": {},
   "outputs": [
    {
     "data": {
      "text/html": [
       "<div>\n",
       "<style scoped>\n",
       "    .dataframe tbody tr th:only-of-type {\n",
       "        vertical-align: middle;\n",
       "    }\n",
       "\n",
       "    .dataframe tbody tr th {\n",
       "        vertical-align: top;\n",
       "    }\n",
       "\n",
       "    .dataframe thead th {\n",
       "        text-align: right;\n",
       "    }\n",
       "</style>\n",
       "<table border=\"1\" class=\"dataframe\">\n",
       "  <thead>\n",
       "    <tr style=\"text-align: right;\">\n",
       "      <th></th>\n",
       "      <th>subject</th>\n",
       "      <th>date</th>\n",
       "      <th>body</th>\n",
       "      <th>cleaned_body</th>\n",
       "    </tr>\n",
       "  </thead>\n",
       "  <tbody>\n",
       "    <tr>\n",
       "      <th>4</th>\n",
       "      <td>All your 1st round rookies are about to suck</td>\n",
       "      <td>2023-06-29</td>\n",
       "      <td>View this post on the web at https://theffnews...</td>\n",
       "      <td>This is one of the slower periods of the offse...</td>\n",
       "    </tr>\n",
       "    <tr>\n",
       "      <th>1</th>\n",
       "      <td>My boss gave me the franchise tag, so I held o...</td>\n",
       "      <td>2023-07-20</td>\n",
       "      <td>View this post on the web at https://theffnews...</td>\n",
       "      <td>Training camps are so close we can taste it.  ...</td>\n",
       "    </tr>\n",
       "    <tr>\n",
       "      <th>37</th>\n",
       "      <td>3 Weeks Until Kickoff!</td>\n",
       "      <td>2021-08-19</td>\n",
       "      <td>View this post on the web at https://email.mg2...</td>\n",
       "      <td>\\nNews and Notes:\\nKerryon Johnson (Player Hig...</td>\n",
       "    </tr>\n",
       "    <tr>\n",
       "      <th>11</th>\n",
       "      <td>🏈 \"Through seven weeks, Daniel Jones has more ...</td>\n",
       "      <td>2022-10-27</td>\n",
       "      <td>View this post on the web at https://theffnews...</td>\n",
       "      <td>I propose we invent a new version of fantasy f...</td>\n",
       "    </tr>\n",
       "    <tr>\n",
       "      <th>12</th>\n",
       "      <td>\"Russell Wilson has seven more bathrooms in hi...</td>\n",
       "      <td>2022-10-20</td>\n",
       "      <td>View this post on the web at https://theffnews...</td>\n",
       "      <td>We’re 1/3 through the season, so some of us ar...</td>\n",
       "    </tr>\n",
       "    <tr>\n",
       "      <th>29</th>\n",
       "      <td>Hope you're ready for Kadarius, Hollywood, Sch...</td>\n",
       "      <td>2021-10-14</td>\n",
       "      <td>View this post on the web at https://email.mg2...</td>\n",
       "      <td>We’re getting excited by about half the NFL th...</td>\n",
       "    </tr>\n",
       "    <tr>\n",
       "      <th>21</th>\n",
       "      <td>\"Next year when the fantasy football playoffs ...</td>\n",
       "      <td>2021-12-23</td>\n",
       "      <td>View this post on the web at https://email.mg2...</td>\n",
       "      <td>View this post on the web at https://email.mg2...</td>\n",
       "    </tr>\n",
       "    <tr>\n",
       "      <th>10</th>\n",
       "      <td>\"Zach Wilson is like if Patrick Mahomes played...</td>\n",
       "      <td>2022-11-03</td>\n",
       "      <td>View this post on the web at https://theffnews...</td>\n",
       "      <td>Whew. It was a week of trades for the record b...</td>\n",
       "    </tr>\n",
       "    <tr>\n",
       "      <th>18</th>\n",
       "      <td>\"Don't mind me, I'm just going to stare at the...</td>\n",
       "      <td>2022-09-01</td>\n",
       "      <td>View this post on the web at https://theffnews...</td>\n",
       "      <td>In just one short week, we’ll have real footba...</td>\n",
       "    </tr>\n",
       "    <tr>\n",
       "      <th>17</th>\n",
       "      <td>I compile a quick/easy summary of the best FF ...</td>\n",
       "      <td>2022-09-08</td>\n",
       "      <td>View this post on the web at https://theffnews...</td>\n",
       "      <td>We made it. Real football begins today. Let’s ...</td>\n",
       "    </tr>\n",
       "  </tbody>\n",
       "</table>\n",
       "</div>"
      ],
      "text/plain": [
       "                                              subject        date   \n",
       "4        All your 1st round rookies are about to suck  2023-06-29  \\\n",
       "1   My boss gave me the franchise tag, so I held o...  2023-07-20   \n",
       "37                             3 Weeks Until Kickoff!  2021-08-19   \n",
       "11  🏈 \"Through seven weeks, Daniel Jones has more ...  2022-10-27   \n",
       "12  \"Russell Wilson has seven more bathrooms in hi...  2022-10-20   \n",
       "29  Hope you're ready for Kadarius, Hollywood, Sch...  2021-10-14   \n",
       "21  \"Next year when the fantasy football playoffs ...  2021-12-23   \n",
       "10  \"Zach Wilson is like if Patrick Mahomes played...  2022-11-03   \n",
       "18  \"Don't mind me, I'm just going to stare at the...  2022-09-01   \n",
       "17  I compile a quick/easy summary of the best FF ...  2022-09-08   \n",
       "\n",
       "                                                 body   \n",
       "4   View this post on the web at https://theffnews...  \\\n",
       "1   View this post on the web at https://theffnews...   \n",
       "37  View this post on the web at https://email.mg2...   \n",
       "11  View this post on the web at https://theffnews...   \n",
       "12  View this post on the web at https://theffnews...   \n",
       "29  View this post on the web at https://email.mg2...   \n",
       "21  View this post on the web at https://email.mg2...   \n",
       "10  View this post on the web at https://theffnews...   \n",
       "18  View this post on the web at https://theffnews...   \n",
       "17  View this post on the web at https://theffnews...   \n",
       "\n",
       "                                         cleaned_body  \n",
       "4   This is one of the slower periods of the offse...  \n",
       "1   Training camps are so close we can taste it.  ...  \n",
       "37  \\nNews and Notes:\\nKerryon Johnson (Player Hig...  \n",
       "11  I propose we invent a new version of fantasy f...  \n",
       "12  We’re 1/3 through the season, so some of us ar...  \n",
       "29  We’re getting excited by about half the NFL th...  \n",
       "21  View this post on the web at https://email.mg2...  \n",
       "10  Whew. It was a week of trades for the record b...  \n",
       "18  In just one short week, we’ll have real footba...  \n",
       "17  We made it. Real football begins today. Let’s ...  "
      ]
     },
     "execution_count": 35,
     "metadata": {},
     "output_type": "execute_result"
    }
   ],
   "source": [
    "cleaned = []\n",
    "\n",
    "for body in df.body:\n",
    "    text = decode_quoted_printable(body)\n",
    "    text = remove_http_links_in_brackets(text)\n",
    "    text = remove_intro_conclusion(text)\n",
    "    text = remove_intro_conclusion2(text)\n",
    "    cleaned.append(text)\n",
    "\n",
    "df['cleaned_body'] = cleaned\n",
    "df.sample(10)"
   ]
  },
  {
   "cell_type": "code",
   "execution_count": 36,
   "metadata": {},
   "outputs": [
    {
     "name": "stdout",
     "output_type": "stream",
     "text": [
      "Training camps are so close we can taste it.  Here’s your last week of headlines and analysis that are unadulterated by the sensationalist feast we’re all about to partake in.\n",
      "Now let’s get to it.\n",
      "Analysis & Hype:\n",
      "Since 2019 when Deebo entered the league:\n",
      "Deebo Samuel:\n",
      "• 340 targets\n",
      "• 123 carries\n",
      "Austin Ekeler (Player Highlighted)\n",
      "• 394 targets\n",
      "• 658 carries\n",
      "Who’s the real “wide back”?\n",
      "Nico Collins (Player Highlighted) in 2021: \n",
      "• 13% Target Share \n",
      "• 16% Target per Route Run\n",
      "Nico Collins in 2022: \n",
      "• 20% Target Share \n",
      "• 25% Target Per Route Run\n",
      "RB leaders by yards after contact per attempt (2022 - min. 100 touches)\n",
      "1 Tony Pollard \n",
      "2 Nick Chubb \n",
      "3 Tyler Allgeier \n",
      "4 D’Andre Swift (Player Highlighted)\n",
      "RB leaders by missed tackles forced per touch (2022 - min. 100 touches) \n",
      "1 David Montgomery \n",
      "2 Nick Chubb \n",
      "3 Rhamondre Stevenson \n",
      "4 D'Andre Swift\n",
      "Rhamondre Stevenson (Player Highlighted) is one of only five running backs over the last five years to have 69+ receptions and average 4.9 yards per carry.\n",
      "Fantasy PPR points per game since 2019: \n",
      "Mark Andrews: 14.24 \n",
      "Darren Waller (Player Highlighted): 13.81\n",
      "The Jaguars were 21st in passing plays that gained 25+ yards. Trevor Lawrence was 18th in percentage of 20+ yard attempts. Enter Calvin Ridley (Player Highlighted), who led the NFL in 20+ yard targets (back in 2020).\n",
      "60% of Lawrence's college passing touchdowns were on 7-9 routes (Corner, Post, Vertical). 53.6% of Ridley's touchdowns (Player Highlighted) have been on these routes.\n",
      "Marquise Brown (Player Highlighted) played 6 games with Kyler Murray and *without* Hopkins last year. Brown in Weeks 1-6: \n",
      "• WR8 in fantasy points per game (14.7)\n",
      "• WR16 by targets per route run (0.26) \n",
      "• WR4 in targets per game (10.3)\n",
      "• WR1 in team share of air yards (50.4%)\n",
      "Reminder of the last time we saw John Metchie (Player Highlighted) play (college):\n",
      "96/1142/8\n",
      "28.9% of DeAndre Hopkins (Player Highlighted) routes were Hooks in 2022. He averaged 2.78 yards per route run (YPRR) on these routes; that ranks in the upper 90th percentile of YPRR. (Minimum 200 total routes & 20% RR) Why is this important? That has been Ryan Tannehill's most targeted route since joining the Titans, and at 22% is one of the highest percent of total targets to a specific route since 2018.\n",
      "“Once again the Ryan Tannehill (Player Highlighted) [slander on Twitter] is out of control.” \n",
      "• EPA/dropback: +0.12 (No. 9 among 39 qualified QB since 2019) \n",
      "• Passer rating: 100.5 (No. 6) \n",
      "• Yards per attempt: 7.9 (No. 4) \n",
      "• Adjusted yards per attempt: 8.09 (No. 6) \n",
      "• Completion rate: 66.9% (No. 10) \n",
      "• TD/INT ratio: 2.7 (No. 10)\n",
      "Lions GM Brad Holmes: “Montgomery (Player Highlighted) does a little bit more in the passing game. And being able to add Gibbs, he's just so dynamic as a receiver.”\n",
      "Over the last 2 seasons:\n",
      "Fantasy points per game:\n",
      "• Josh Allen (Player Highlighted): 27.6\n",
      "• Patrick Mahomes: 26.4\n",
      "% of games as a top-3 QB\n",
      "• Allen: 48.5%\n",
      "• Mahomes: 26.5%\n",
      "% of games as a top-12 QB\n",
      "• Allen: 78.8%\n",
      "• Mahomes: 76.5%\n",
      "Over the final 8 games, Keenan Allen (Player Highlighted) averaged ~84 yards a game. Which is a pace of over 1,400 for the season.\n",
      "Only 15 WRs had 2.0+ YPRR (Player Highlighted) out wide & in the slot (min 150 routes run, min 20% slot rate) in 2022\n",
      "• Tyreek Hill \n",
      "• Justin Jefferson \n",
      "• Amon-Ra St. Brown\n",
      "• Stefon Diggs \n",
      "• Jaylen Waddle \n",
      "• Rashid Shaheed \n",
      "• Davante Adams \n",
      "• Cooper Kupp \n",
      "• Christian Watson \n",
      "• CeeDee Lamb\n",
      "• Chris Olave\n",
      "• Jerry Jeudy \n",
      "• Keenan Allen\n",
      "• Terry McLaurin\n",
      "• Drake London \n",
      "Reminder: Justin Fields (Player Highlighted) was #1 in Fantasy Points per snap in 2022\n",
      "Since Patrick Mahomes (Player Highlighted) took over as the starter in 2018, the Chiefs ranks in scoring rate per drives that did not end in kneel downs were... \n",
      "• 2nd (55.2%) \n",
      "• 2nd (53.3%) \n",
      "• 4th (50.7%) \n",
      "• 1st (51.6%) \n",
      "• 1st (48.8%)\n",
      "Highest Passer Rating on 20+ Yard Throw Attempts (Min. 200 Passing Attempts) \n",
      "• Tua Tagovailoa (Player Highlighted): 125.6\n",
      "• Daniel Jones: 119.4\n",
      "• Joe Burrow: 118.9\n",
      "• Josh Allen: 107.3\n",
      "• Jalen Hurts: 105.9\n",
      "Tua's 2022 season (Player Highlighted): \n",
      "• #1 in YPA (8.9) \n",
      "• #1 in deep pass EPA/att (+0.92) \n",
      "• #2 in EPA/att (+0.18) \n",
      "• #2 in first down rate (38.5%) \n",
      "• #2 in third down EPA/att (+0.29) \n",
      "• #2 in passer rating (105.5) \n",
      "• #3 in TD/att (6.3%) \n",
      "• #4 in red zone success rate (48.1%) \n",
      "• #5 in success rate (48.7%)\n",
      "Completion % on passes of 20+ yards (2022, min. 200 total attempts): \n",
      "• 49% - Geno Smith \n",
      "• 48% - Tua Tagovailoa (Player Highlighted) \n",
      "• 46% - Kirk Cousins \n",
      "• 43% - Joe Burrow, Jalen Hurts, Baker Mayfield, Ryan Tannehill, Davis Mills \n",
      "• 42% - Dak Prescott \n",
      "• 41% - Patrick Mahomes \n",
      "   […]\n",
      "• 29% - Aaron Rodgers, Jimmy Garoppolo \n",
      "• 27% - Andy Dalton \n",
      "• 26% - Lamar Jackson \n",
      "• 25% - Matthew Stafford \n",
      "• 22% - Kyler Murray \n",
      "• 21% - Marcus Mariota\n",
      "Cam Akers (Player Highlighted) was the RB4 in PPR over the last four weeks of 2022.\n",
      "Isaiah Likely (Player Highlighted) in three games with a snap rate north of 50% as a rookie: \n",
      "Week 8: 6 receptions-77 yards-1 TD (7 targets), PPR TE2 \n",
      "Week 9: 1-24-1 (5), TE9 \n",
      "Week 18: 8-103-0 (13), TE3\n",
      "Over Evan Engram (Player Highlighted)’s final 8 games (postseason included), he was Jacksonville’s WR1, leading with 66.8 YPG and 15.8 FPG. Over the full season, those numbers would have ranked 2nd-best among TEs, only behind Travis Kelce.\n",
      "Reddit thread on the correlation of rookie workout videos posted vs non football content. High hopes for guys like Roschon Johnson (Player Highlighted), Tank Dell, and Parker Washington.\n",
      "Veteran RB Leonard Fournette (Player Highlighted) is working out today for the Patriots.\n",
      "Chris Olave (Player Highlighted) ranked 6th in yards per route run as a rookie.\n",
      "“(Player Highlighted) impressed Jaguars players and staff members repeatedly this offseason with his play-making ability in the passing game.” - Jaguars beat writer John Shipley\n",
      "2022 NFL Routes Run Leaders\n",
      "1. Justin Jefferson- 654\n",
      "2. Adam Thielen (Jordan Addison (Player Highlighted)?)- 614\n",
      "3. Diontae Johnson- 599\n",
      "4. Michael Pittman- 598\n",
      "5. Davante Adams- 596\n",
      "Charting expected vs. actual fantasy points per route run. Drake London (Player Highlighted) would be a monster w/ positive regression + more routes.\n",
      "Last time Bill O'Brien was calling the plays in New England (Player Highlighted), Rob Gronkowski in the in-line role was the fantasy TE1 and Aaron Hernandez as the move TE was the TE3.\n",
      "The largest total value contract for any RB signed this offseason is Miles Sanders (Player Highlighted)’ 4-year, $25M deal with the Panthers.\n",
      "Cold Water:\n",
      "Players who did not sign new contracts and can ONLY play on the NFL franchise tag (which they haven’t signed (Player Highlighted) yet) this year:\n",
      "• Tony Pollard\n",
      "• Josh Jacobs\n",
      "• Saquon Barkley\n",
      "Josh Jacobs (Player Highlighted) does NOT plan on signing the franchise tag with the Las Vegas Raiders and will NOT be reporting to training camp.\n",
      "Of rookies since '12 that ran > 200 routes, Romeo Doubs (Player Highlighted) was in the\n",
      "• 46 percentile for PPR points / gm\n",
      "• 35 percentile for yards / gm\n",
      "• 38 percentile for yards / route run\n",
      "• 75 percentile for targets / route run\n",
      "Note: About ~100 receivers per year clear 200 routes\n",
      "Deeper analysis of our \"Cold Water on Achane (Player Highlighted)\" blurb from last week.\n",
      "The 2022 Broncos (Player Highlighted) punted on a league-high 49.7% of drives that did not end in kneel downs. It was the highest rate of punts per drive for a team since the 2018 Josh Rosen Cardinals (51.6%).\n",
      "The Colts (Player Highlighted) turned the ball over on a league-high 17.5% of possessions in 2022. That was the highest rate for a team since the 2019 Buccaneers (21.9%) when Jameis had the glorious 30/30 season.\n",
      "Besides Zach Wilson, Mac Jones (Player Highlighted) was the most pressure-sensitive QB in the NFL last year (according to Fantasy Points Data)\n",
      "When kept clean: \n",
      "• Catchable throw rate – 9th-best (83.3%) \n",
      "• Passer rating – 14th-best (99.3) \n",
      "When pressured: \n",
      "• Catchable throw rate – 31st-of-41 QB (54.5%) \n",
      "• Passer rating – 40th (26.4)\n",
      "Aaron Rodgers (Player Highlighted) failed to surpass 20 fantasy points in any game last year. Only one fantasy football quarterback finish inside the top-10.\n",
      "Who struggled the most catching their deep targets (15+ air yards, min: 18 tgts) in 2022:\n",
      "Davante Adams (Player Highlighted): 39% \n",
      "Jerry Jeudy: 39% \n",
      "Amari Cooper: 39%\n",
      "Terry McLaurin: 36%\n",
      "Allen Lazard: 33% \n",
      "Gabe Davis: 33% \n",
      "Courtland Sutton: 30%\n",
      "Garrett Wilson: 28% \n",
      "Marquise Brown: 27%\n",
      "Chris Olave: 25%\n",
      "Diontae Johnson: 24% \n",
      "QB’s Hit Most Often (2022): \n",
      "Kirk Cousins (Player Highlighted): 129\n",
      "Russell Wilson: 119\n",
      "Geno Smith: 108\n",
      "Justin Herbert: 107\n",
      "Daniel Jones: 101\n",
      "Davis Mills: 94\n",
      "5 of the last 6 times a team paid an RB (Player Highlighted), they regretted it & moved on: \n",
      "• Zeke: $90M, cut during deal \n",
      "• CMC: $64M, traded during deal \n",
      "• Cook: $63M, cut during deal \n",
      "• Gurley: $58M, cut during deal \n",
      "• Bell: $53M, cut during deal\n",
      "The 6th is Alvin Kamara, who could follow suit, given cap hits of $19M in 2024 & $29M in 2025\n",
      "“I won't show up. I won't play a down. And that's a play I could use.\" - Saquon Barkley (Player Highlighted) on his contract situation.\n",
      "Mike Vrabel (who played LB) had the most career receiving TDs on the Titans roster until they added DeAndre Hopkins (Player Highlighted) on Sunday.\n",
      "Chiefs beat writer Adam Teicher: “It's been a rough opening practice for WR Rashee Rice (Player Highlighted). Struggling with the heat, maybe. He briefly left practice earlier and now threw up in the middle of a drill.”\n",
      "The Fun Stuff:\n",
      "The Phat-Booty connection (Player Highlighted) will be one people tell their kids about.\n",
      "Find someone who will gas you up like the NFL interns will gas up Mac Jones (Player Highlighted)\n",
      "Bryce Young to Laviska Shenault (Player Highlighted) connection\n",
      "Support for the #BanKickers movement (Player Highlighted) is at an all-time high this week.\n",
      "“They forced it down our throats and we have to deal with it.” - Aaron Rodgers (Player Highlighted)\n",
      "Vegas doesn’t care (Player Highlighted) about you, DeAndre.\n",
      "Packers WRs (Player Highlighted) Madden 24 Rankings\n",
      "Roschon (Player Highlighted) 🤝 Ichiro\n",
      "Michael Thomas Training up the Saints rookies (Player Highlighted)!\n",
      "Mahomes (Player Highlighted) telling Hurts that he booked an Airbnb in Arizona for his family three months prior to the Super Bowl.\n",
      "Le’Veon “Flik” Bell (Player Highlighted) on the RB market.\n",
      "Josh Jacobs (Player Highlighted) was so close to signing an extension with the Raiders that he was sitting in a car in the parking lot of the team facility with his teammate Maxx Crosby.\n",
      "Join 20,000+ readers who get these summaries delivered each week! 👇\n",
      "_______________________________________________________________\n",
      "We’re getting excited by about half the NFL this week, so let’s get straight to it.\n",
      "-Will\n",
      "As always, you can join the discussion on these headlines in /r/fantasyfootball (Player Highlighted) and /r/DynastyFF (Player Highlighted)\n",
      "Analysis & Hype:\n",
      "All-Time TE Receiving Yards in First 5 NFL Games:1. Kyle Pitts (Player Highlighted): 3082. Aaron Hernandez: 3013. Jordan Reed: 298\n",
      "Most receptions among rookies without a drop this season:1. Kyle Pitts (Player Highlighted), TE Atlanta - 242. Rondale Moore, WR Arizona - 21\n",
      "Kyle Pitts (Player Highlighted) only passed blocked on 2 snaps in Week 5. He played 85% snaps wide or slot. He has been 80%+ the last two weeks. His ADOT has been 10.0+ the last three games.\n",
      "Kyle Pitts (Player Highlighted) has the 3rd best PFF receiving grade among Rookie WRs/TEs after Rondale Moore and Ja'Marr Chase.\n",
      "Cowboys targets over the past three weeks:Dalton Schultz (Player Highlighted) (22 targets)......CeeDee Lamb (12)Amari Cooper (12)Cedrick Wilson (7)Ezekiel Elliott (6)Tony Pollard (5)Blake Jarwin (5) Noah Brown (5)\n",
      "Dalton Schultz (Player Highlighted) led all TEs in target share in week 5 (28.6%)\n",
      "James Robinson (Player Highlighted) had PPF’s highest rushing grade in week 5.\n",
      "James Robinson (Player Highlighted)’s last three games with Carlos Hyde available:* 67% snaps* 54-of-70 RB touches (77.1%)* 10-of-13 RB targets* 10% target share* 6-of-9 RB carries inside 10\n",
      "Most missed tackles (Player Highlighted) forced per run (min. 55 attempts):1. Kareem Hunt- 0.332. Nick Chubb- 0.31\n",
      "Ja'Marr Chase (Player Highlighted) through first 5 games:23 Receptions453 Rec. Yards5 TDsRandy Moss through first 5 games:22 Receptions463 Rec. Yards6 TDs\n",
      "Ja'Marr Chase (Player Highlighted) is on pace for 1,550 yards (and 17 touchdowns), which would be the most yards ever by a rookie.1. Ja'Marr Chase, 2021 (1,550)2. Bill Groman, 1960 (1,473)3. Justin Jefferson, 2020 (1,400)4. Anquan Boldin, 2003 (1,377)5. Randy Moss, 1998 (1,313)6. Odell Beckham Jr., 2014 (1,305)Also has the 2nd-most fantasy points (trailing only Randy Moss) and 3rd-most receiving yards (trailing only Moss and Anquan Boldin) by any rookie WR through their first 5 games all-time.\n",
      "Ja’Marr Chase (Player Highlighted) has a perfect passer rating of 158.3 when targeted vs man coverage and (Player Highlighted):93.4 PFF Grade (1st)405 Yards (1st)5 TDs (1st)\n",
      "Ja’Marr Chase (Player Highlighted) is the betting favorite to win OROY (+350)Chase would be first WR to win since OBJ in 2013\n",
      "Ja’Marr Chase (Player Highlighted) on 20+ yard throws:(1st) 98.0 grade (1st) 6 catches (1st) 261 yards(1st) 4 TDs\n",
      "Top PFF grades among rookie wide receivers (Player Highlighted):1. Ja'Marr Chase, 79.92. Rondale Moore, 79.13. Kadarius Toney, 74.24. DeVonta Smith, 69.55. Amon-Ra St. Brown, 64.86. Jaylen Waddle, 63.7\n",
      "Lamar Jackson:• 67.1% comp.• 1,519 passing yards• 341 rushing yards• 10 total TDsJosh Allen:• 62.3% comp.• 1,370 passing yards• 188 rushing yards• 14 total TDsJalen Hurts (Player Highlighted):• 64.8% comp.• 1,365 passing yards• 256 rushing yards• 10 total TDs\n",
      "We’re down to just one player who has finished as a top-12 player at his position in each week this season.  Jalen Hurts (Player Highlighted).\n",
      "Justin Herbert (Player Highlighted) already has the most 300-yard games in a player's first two NFL seasons. There are 12 games left this season.\n",
      "Jimmy Johnson: \"In fact, if I was drafting in the NFL today out of all the players, my number 1 pick will be Justin Herbert (Player Highlighted).\" \"Over Mahomes.\"\n",
      "Justin Herbert (Player Highlighted) last 3 games: 12 TD 0 INT 3-0 vs Chiefs, Raiders, Browns\n",
      "Lamar Jackson (Player Highlighted):• 1st QB in NFL history to complete 85% of passes in 400-yard game. • Highest comp % in a 40-pass game in NFL history (86.0%).• Set a franchise-record 442 pass yards• Overcame largest deficit of his NFL career (19)\n",
      "Lamar Jackson (Player Highlighted)'s 1,860 combined passing and rushing yards this season are more than 18 NFL teams.\n",
      "“Lamar Jackson (Player Highlighted) now sits fifth in the NFL in passing yards with 1,519 through five games. That’s 29 more PASSING YARDS than Kansas City’s Patrick Mahomes and 149 more than Buffalo’s Josh Allen. Oh, and Jackson also has 341 rushing yards (8th most in the league).”\n",
      "Leading Wide Receivers In Air Yards (Player Highlighted):Davante Adams 728Courtland Sutton 644Stefon Diggs 636Mike Evans 636Mike Williams 589Terry McLaurin 588Brandin Cooks 575Tyreek Hill 574Marquise Brown 545Ja'Marr Chase 541DeVonta Smith 524\n",
      "Kadarius Toney (Player Highlighted) had a 93.3 PFF receiving grade in Week 5 — 1st among all WRs.\n",
      "Kadarius Toney (Player Highlighted) leads the NFL with 141 yards after the catch over the past two weeks.\n",
      "Kadarius Toney (Player Highlighted) is tied for 2nd in most missed tackles forced on receptions for all WRs with 9.\n",
      "“Amazingly, Kadarius Toney (Player Highlighted) only played 37 of 68 snaps for the #Giants and still had the game (10 catches, 189 yards) he did.”\n",
      "Kadarius Toney (Player Highlighted) broke Odell Beckham Jr's single-game Giants rookie receiving yards record. Toney finished with 189. Beckham had 185.\n",
      "Most receiving yards in a single game for a WR in their first five career games:1. Jerry Butler - 2552. Anquan Boldin - 217T3. Ken Burrow - 190T3. Randy Moss - 1905. Kadarius Toney (Player Highlighted) - 189\n",
      "“If Marquise Brown (Player Highlighted) had caught one of his three easy long scores vs Detroit, he would be the #6 fantasy WR on the year in PPR leagues with at least 19.1 PPR points and a score in every game. If he had caught all three, he would be WR1 on the year through four games.”\n",
      "“Marquise Brown (Player Highlighted) is just very casually the WR6 so far this season... scoring 19+ fantasy pts in 4 of his 5 games.  He has more fantasy pts than DJ Moore, Ja'Marr Chase, Justin Jefferson, DK Metcalf.”\n",
      "Mike Evans (Player Highlighted) through 5 games:393 yards and 4 TDsOn pace for: 1336 yards 14 TDs\n",
      "Dawson Knox (Player Highlighted) is the first Bills TE in team history with a TD in 4-straight games.\n",
      "Bills Week 5 WR/TE route rates:Emmanuel Sanders - 94% Dawson Knox (Player Highlighted) - 91% Stefon Diggs - 81%Cole Beasley - 53%Gabriel Davis - 22%\n",
      "Rondale Moore (Player Highlighted) ran more routes than Christian Kirk in Week 5 (3 carries + 6 targets).\n",
      "Antonio Brown (Player Highlighted) put up a 7-124-2 receiving line on 8 targets yesterday despite being shadowed by Xavien Howard. Impressive showing.\n",
      "“Mac Jones (Player Highlighted) (75.5) is the highest-graded rookie QB through the first five weeks, per @pff. He leads all rookies in:• Yards (1243)• Completions (135)• Comp % (71.1)• Adj. comp % (78.3)• Big time throws (7)• Passer rating (86.4)• 1st downs (62)”\n",
      "“Anybody else notice that Sam Darnold's \"resurgence\" seemed to coincide with an absurd number of DJ Moore (Player Highlighted) targets... And then today DJM has hardly been targeted todayand Darnold looks like he is playing for Adam Gase? Coincidence?”\n",
      "Cold Water:\n",
      "“Jonnu Smith (Player Highlighted) signed a $50M contract with NE in offseason. He ran six routes on 33 Mac Jones dropbacks yesterday.”\\\n",
      "Over Justin Fields (Player Highlighted)' three starts for the Bears, he's totaled 25 rushing yards.Over Tom Brady's last three starts for the Buccaneers, he's totaled 30 rushing yards.\n",
      "Jacksonville wide receiver targets, Week 5:Jamal Agnew: 8Tavon Austin: 5Marvin Jones: 5Laviska Shenault (Player Highlighted): 3\n",
      "John Lynch speaking about Brandon Aiyuk (Player Highlighted): \"He hasn't made the strides we expect him to\"\n",
      "Patrick Mahomes (Player Highlighted) interceptions:2019 — 52020 — 62021 — 6 (thru 5 games)\n",
      "Allen Robinson (Player Highlighted) has 35 yards or fewer in 4-of-5 games this year.\n",
      "/r/fantasyfootball thread (Player Highlighted): Who is the biggest lotto ticket currently on waivers right now?\"\n",
      "Potential Trade Targets:\n",
      "Top 8 Unrealized Air Yards (Player Highlighted):Courtland Sutton 267Robby Anderson 263Stefon Diggs 262Mike Evans 243AJ Brown 219Marvin Jones 217Elijah Moore 216Corey Davis 199\n",
      "Which TEs are playing from WR alignments (Player Highlighted) the most?1. Mike Gesicki - 96%2. Dan Arnold - 84.4%3. Logan Thomas - 79%4. Kyle Pitts - 78%5. Hunter Henry - 74%6. Travis Kelce - 72%7. TJ Hockenson - 68%8. Zach Ertz - 65%\n",
      "“D'Andre Swift (Player Highlighted) is currently your league leader in high-value touches (carries inside the 10-yard line and receptions) with an average of 7.2/game and has had 5 HVTs in every game this season.”\n",
      "“We’re 5 weeks in & D’Andre Swift (Player Highlighted) has more receptions than any other RB in the NFL.”\n",
      "Laviska Shenault (Player Highlighted) has forced 10 missed tackles on receptions — 1st among WRs.\n",
      "Top rushing yard performances from quarterbacks so far in 2021:1. Lamar Jackson, Week 2 vs KC: 107 yards2. Daniel Jones, Week 2 vs WAS: 95 yards3. Trey Lance (Player Highlighted), Week 5 vs ARI: 89 yards\n",
      "Bills final HB snap count this weekend:Zack Moss (Player Highlighted) 42Devin Singletary 15Out of 57\n",
      "All Bills Players (Player Highlighted): “The Bills have arguably the easiest remaining schedule this season.”\n",
      "“Javonte Williams (Player Highlighted) = League. Winner.His Final 9 Games…(Rush DVOA Rank)DAL (8th)PHI (23rd)LAC (31st)KC (32nd)DET (28thCIN (7thLVR (14th)LAC (31st)KC (32nd)”\n",
      "The Fun Stuff:\n",
      "Davante Adams (Player Highlighted) asked about the Packers-Bears rivalry: “I hate everybody that I play against.”\n",
      "*Diontae Johnson open deep*  Big Ben (Player Highlighted):\n",
      "“We gotta get Justin Herbert (Player Highlighted) a new last name. Bruh way too cold to be a HERBERT.”\n",
      "“A lot of people around the league say this might be the year (Player Highlighted) that everybody figures out Lamar.” They figured out he’s good.\n",
      "The Buffalo Bills (Player Highlighted) Twitter account bullying Nick Wright.\n",
      "“Lamar (Player Highlighted) gotta be the best passing RB in NFL history”\n",
      "“It's time somebody admits the truth.  The key to the Chiefs entire offense was Sammy Watkins (Player Highlighted).”\n",
      "The elusive double punt (Player Highlighted).\n",
      "👋 That’s it for now. Join our community on Patreon (Player Highlighted) and get all our rankings and access to our Discord chat! You can also follow us on Twitter (Player Highlighted), TikTok (Player Highlighted), and Instagram (Player Highlighted) where we browse over 1,000 analysts and beat writers and retweet/post all the good stuff.\n",
      "_______________________________________________________________\n",
      "We’re 1/3 through the season, so some of us are already picturing that trophy coming home, even though deep down we know we’ll somehow manage to miss the playoffs with the 2nd most points scored in the league.\n",
      "now let’s get to the good stuff.\n",
      "As always, you can join the discussion on this week’s headlines in /r/fantasyfootball (Player Highlighted) and /r/DynastyFF (Player Highlighted)\n",
      "Analysis & Hype:\n",
      "Most TDs (Player Highlighted) over the last 3 weeks: \n",
      "Austin Ekeler 6 \n",
      "Travis Kelce 5 \n",
      "Leonard Fournette 4 \n",
      "Taysom Hill 4\n",
      "Giants Rookie TE Daniel Bellinger (Player Highlighted) snap% by week: 48, 58, 60, 60, 74, 94.\n",
      "Most yards per route run for TEs (Player Highlighted)  \n",
      "1. Mark Andrews 2.32 \n",
      "2. Travis Kelce 2.08 \n",
      "3. David Njoku 1.96 \n",
      "4. Dallas Goedert 1.86 \n",
      "5. Pat Freiermuth 1.84 \n",
      "6. T.J. Hockenson 1.71 \n",
      "7. Kyle Pitts 1.67 \n",
      "8. Robert Tonyan 1.60 \n",
      "9. George Kittle 1.53 \n",
      "10. Tyler Higbee 1.46 \n",
      "11. Daniel Bellinger 1.39\n",
      "Most receiving yards among TEs (Player Highlighted) over the last 4 weeks: \n",
      "1. David Njoku (308) \n",
      "2. Mark Andrews (299) \n",
      "3. Travis Kelce (283) \n",
      "4. Dallas Goedert (215) \n",
      "5. Zach Ertz (210)\n",
      "Mark Andrews (Player Highlighted) has run 196 routes this year & hasn't been asked to pass-block once. Not one single snap.\n",
      "Most RB snaps (Player Highlighted) in the NFL this season: \n",
      "Saquon Barkley - 337 - 85.1% \n",
      "Leonard Fournette - 311 - 76.0% \n",
      "Joe Mixon - 309 - 73.2% \n",
      "Devin Singletary - 288 - 69.9%\n",
      "Breece Hall (Player Highlighted)'s percentage of team running back rushes by week this season:  \n",
      "1: 37.5% \n",
      "2: 50.0% \n",
      "3: 42.1% \n",
      "4: 65.4% \n",
      "5: 64.3% \n",
      "6: 76.9%  \n",
      "Hall now has been a top-15 running back (PPR) in each of his last five games.\n",
      "Packers RBs (Player Highlighted):\n",
      "@PFF  Rushing Grade Aaron Jones: 85.8 A.J. Dillon: 72.3  \n",
      "PFF Elusive Rating: Jones: 98.9 Dillon: 25.2  \n",
      "@fboutsiders  DVOA: Jones: 30.8% Dillon: -6.5%  \n",
      "@NextGenStats  Rush Yards Over Expected Per Attempt: Jones: 1.31 Dillon: -.04\n",
      "Austin Ekeler (Player Highlighted) is on pace to catch 116.2 passes this season. All-time NFL record: 2019 Christian McCaffrey at 116.\n",
      "Rhamondre Stevenson played almost 85% of New England's offensive snaps in week 6. He played 90% of their snaps last week. Those appear to be the two highest snap rates from a New England back in the regular season since Dion Lewis had an 85% snap share in Week 2 of the 2015 season.\n",
      "Which WRs create a step-plus of separation (Player Highlighted) most on routes v single-man coverage?  70% Tyler Lockett (8.4 avg route depth) \n",
      "69% Amari Cooper (8.9) 69% Cooper Kupp (8.9) \n",
      "68% Garrett Wilson (8.1) \n",
      "65% Stefon Diggs (8.3) \n",
      "65% AJ Brown (7.4) \n",
      "65% Jakobi Meyers (8.1)  \n",
      "per PFF min 30 routes\n",
      "Leaders in receiving yards per game amongst rookies (Player Highlighted):  \n",
      "Chris Olave - 78 \n",
      "Alec Pierce - 54 \n",
      "Drake London  - 51 \n",
      "Garrett Wilson - 48 \n",
      "George Pickens - 46 \n",
      "Romeo Doubs - 39 \n",
      "Jahan Dotson - 38 \n",
      "Breece Hall - 36 \n",
      "Treylon Burks - 32 \n",
      "Khalil Shakir -28\n",
      "Khalil Herbert (Player Highlighted) has 63 rushing attempts to David Montgomery's 62. Herbert has more rushing yards *after contact* (272) then Montgomery has rushing yards (246)\n",
      "Most missed tackles (Player Highlighted) forced the last 2 weeks:  \n",
      "Dameon Pierce: 17 \n",
      "Kenneth Walker: 14 \n",
      "Breece Hall: 10 \n",
      "Kenneth Walker (Player Highlighted) was on the field for 71% of Seattle's offensive snaps, per Next Gen Stats. He had a 10% target share while seeing 91% of his team's running back rushes. He leads the NFL in running back rush share so far here in Week 6.\n",
      "Brian Robinson Jr. (Player Highlighted) played 47% of the snaps last night, but handled 71% of the RB carries. He ended up with 17-60-1, while receiving all of the goal line and short yardage work, and running 6 routes.\n",
      "“Joe Burrow (Player Highlighted) has had a slow start to the season. He’s been slightly off up until yesterday.  What’s crazy about that? He’s still top 5 in the league in passing yards and passing TDs  “Off” Joe Burrow is still better than a majority of QBs.”\n",
      "“Amari Cooper (Player Highlighted) now has a 28% target share on the season. He has 11 or more targets in three out of the last four games.  Shaping up like a career year for Cooper in Cleveland.”\n",
      "\"We gotta get Aaron Jones (Player Highlighted) the ball more.. when he touches the ball good things happen\" - Aaron Rodgers\n",
      "“Greg Dulcich (Player Highlighted) registered an 81% route participation in his first NFL game. He saw 13% of the targets.  The Broncos offense is struggling, but the rookie has the allure of unknown upside as a talent -- more than we can say for a lot of TE options.  High-end TE2 with upside.”\n",
      "Avoided tackle rate (Player Highlighted) leaders through six weeks: (% of rushes on which a tackle was avoided)  \n",
      "52% - Kenneth Walker \n",
      "44% - Austin Ekeler \n",
      "43% - Nick Chubb, Dameon Pierce \n",
      "42% - Eno Benjamin 37% - CMC \n",
      "36% - Josh Jacobs, Michael Carter, David Montgomery \n",
      "34% - Aaron Jones\n",
      "Texans coach Lovie Smith said Dameon Pierce (Player Highlighted) “Needs to get at least 20 carries” a game.\n",
      "Robert Tonyan (Player Highlighted) routes per dropback rate by week:  \n",
      "1. 50% \n",
      "2. 48% \n",
      "3. 64% \n",
      "4. 59% \n",
      "5. 54% \n",
      "6. 82%  \n",
      "29 of Tonyan's 46 snaps yesterday were slot or wide. Team-high 12 targets for a 29% share.\n",
      "Current WR1s and % of points scored via TDs (Player Highlighted)...  \n",
      "Diggs 23.9% \n",
      "Kupp 20.2% \n",
      "Tyreek 8.9% 👀 \n",
      "Jefferson 13.6% \n",
      "Hollywood 16.4% \n",
      "Chase 22.1% \n",
      "Waddle 17.8% \n",
      "Davante 29.9% \n",
      "A.J. Brown 12.6%  \n",
      "Deebo 19.8% \n",
      "Amari  26.7% \n",
      "CeeDee 13.7%\n",
      "We saw Allen Lazard and Romeo Doubs (Player Highlighted) play as Green Bay's top-two receivers again in week 6. They both had a 20.5% target share today. Lazard has now been a top-30 WR in PPR formats in each of the last four weeks.\n",
      "Tyreek Hill (Player Highlighted) is on pace (with 1 extra game) to finish this season with 1,986 receiving yards The NFL record is 1,964 receiving yards by Calvin Johnson in 2012.\n",
      "Tyreek Hill and Jaylen Waddle (Player Highlighted) have played 6 games with 3 different starting QBs and they’re both still #1 and #5 in the league in total receiving yards respectively.\n",
      "Jags backfield update: Travis Etienne (Player Highlighted) played two more snaps than James Robinson in week 6. Robinson saw two more rush attempts, and Etienne had one more target. Etienne's yardage total: 108. Robinson's total: 55.\n",
      "Thread on /r/DynastyFF (Player Highlighted): Hit Rate Of Draft Picks Over The Last Couple Years.\n",
      "Cold Water:\n",
      "“Something about football feels off, right (Player Highlighted)? Sluggish? That's because the first 6 weeks of fantasy scoring are the lowest in THIRTEEN YEARS. Down 22% from last year We're seeing it in the primetime games. There's a severe shortage of consistently high-powered offenses”\n",
      "Matthew Stafford, Tom Brady, Russell Wilson and Aaron Rodgers have combined for 1 game with 20+ fantasy points (Player Highlighted) this season.\n",
      "Marcus Mariota (166) now has fewer drop backs than Justin Fields (171).  THAT'S Kyle Pitts (Player Highlighted)' biggest problem.\n",
      "DJ Moore (Player Highlighted) is on pace for 57 catches, 578 yards, 3 TDs in 17 games. \n",
      "D.J. Moore (Player Highlighted) with fewer fantasy points than Bennett Skowronek and Olamide Zaccheaus this season.\n",
      "“Another stat that is just hard to fathom: Jerry Jeudy (Player Highlighted) has a 47.2 percent catch rate this season (17 catches on 36 targets). That ranks Jeudy 80th among 81 qualified wide receivers, according to TruMedia, ahead of only Carolina's D.J. Moore (45.5%).”\n",
      "Fewest Pass Attempts (Player Highlighted) per Game In A Single Season + Last 30 Years  \n",
      "1. 2022 Bears (19.2)* \n",
      "2. 2004 Steelers (22.4) \n",
      "3. 2022 Falcons (22.8)* \n",
      "4. 1994 Colts (23.5) \n",
      "5. 2005 Steelers (23.7) \n",
      "6. 1993 Bears (24.3) \n",
      "... \n",
      "20. 2022 Titans (26.0)* \n",
      "... \n",
      "36. 2022 Giants (27.0)*\n",
      "Eight offenses (Player Highlighted) have failed to produced even three top-24 weekly finishes among their entire wide receiver room:  \n",
      "Titans (0) \n",
      "Falcons (1) \n",
      "Bears (1) \n",
      "Ravens (2) \n",
      "Panthers (2) \n",
      "Texans (2) \n",
      "Giants (2) \n",
      "Chiefs (2)\n",
      "The Fun Stuff:\n",
      "Seahawks (Player Highlighted) Twitter team is ruthless.\n",
      "Russell Wilson (Player Highlighted) is the answer to the question of \"What if an NFL starting quarterback with a $245 million contract had the personality of Andre from 'The League'?\"\n",
      "Russell Wilson (Player Highlighted): Let’s Ride The Ride:\n",
      "At this rate, soon the Fun Stuff section is just going to be entirely Russell Wilson (Player Highlighted).\n",
      "Russell Wilson (Player Highlighted) has seven more bathrooms in his house(12) than he has touchdown passes through 6 games(5).\n",
      "“Jakobi Meyers (Player Highlighted) has a better floor and ceiling than Najee Harris in PPR formats.  What a world, y'all.”\n",
      "Trevor Lawrence (Player Highlighted) looks like he runs an early level Pokémon gym here.\n",
      "Kyle Pitts (Player Highlighted) - a poem (video)\n",
      "The DJ Moore (Player Highlighted) situation has hit rock bottom.\n",
      "DJ Moore (Player Highlighted) seeing Sam Darnold return from IR\n",
      "Another Broncos (Player Highlighted) primetime game.\n",
      "When your opponent didn't set their lineup (Player Highlighted), so your 87.5 score was enough for the win.\n",
      "Every time the camera cuts back to Justin Fields (Player Highlighted) after the play.\n",
      "Not sure why everyone’s trying to stop Mike Gesicki (Player Highlighted). The man is sharing his art.\n",
      "👋 That’s it for now. Join our community on  Patreon (Player Highlighted) and get access to our Discord chat, where everyone shares and discusses the beast headlines/analysis, daily. You can also follow us on  Twitter (Player Highlighted), where we browse over 1,000 analysts and beat writers and retweet/post all the good stuff.\n",
      "_______________________________________________________________\n"
     ]
    }
   ],
   "source": [
    "for i in df.cleaned_body.sample(3):\n",
    "    print(i)\n",
    "    print('_______________________________________________________________')"
   ]
  },
  {
   "cell_type": "code",
   "execution_count": 37,
   "metadata": {},
   "outputs": [],
   "source": [
    "#Check the value counts of the 'year' and 'month' from the 'date' column\n",
    "df['season'] = pd.DatetimeIndex(df['date']).year\n",
    "df['month'] = pd.DatetimeIndex(df['date']).month\n",
    "#Create a week of the month column by ranking all of the rows for that given month and year combination, and giving the earliest date a rank of 1, the second earliest a rank of 2, etc.\n",
    "df['week'] = df.groupby(['season', 'month'])['date'].rank(method='first')\n",
    "#Create another column called 'Type' where the value is 'Regular' if the month is between 9 and 12\n",
    "df['type'] = df['date'].apply(lambda x: 'in_season' if x.month >= 9 else 'preseason')\n",
    "#If the row is the first row or week of the month 'September', then the value is 'preseason'\n",
    "df.loc[(df['month'] == 9) & (df['week'] == 1), 'type'] = 'preseason'\n",
    "#Drop the 'month' column\n",
    "df.drop(['month', 'week'], axis=1, inplace=True)\n",
    "df = df[['season', 'date', 'type', 'subject', 'cleaned_body']]"
   ]
  },
  {
   "cell_type": "code",
   "execution_count": 38,
   "metadata": {},
   "outputs": [],
   "source": [
    "sample = (df.loc[(df['type'] == 'preseason') & (df['season'] != 2023)])\n",
    "sample.reset_index(inplace=True, drop=True)"
   ]
  },
  {
   "cell_type": "markdown",
   "metadata": {},
   "source": [
    "Newsletters sections:\n",
    "\n",
    "Good:\n",
    "- Analysis and Hype\n",
    "- Camp Buzz/Hype/Fluff\n",
    "\n",
    "Bad:\n",
    "- Cold Water\n",
    "\n",
    "Neutral:\n",
    "- Articles and Analysis\n",
    "- News & Notes\n",
    "- Coachspeak and Beat Reports:\n",
    "\n",
    "Ignore:\n",
    "- The Fun Stuff"
   ]
  },
  {
   "cell_type": "code",
   "execution_count": 39,
   "metadata": {},
   "outputs": [
    {
     "name": "stdout",
     "output_type": "stream",
     "text": [
      "\n",
      "News & Notes:\n",
      "Carson Wentz (Player Highlighted) trending to open the season as the starter with All-Pro G Quenton Nelson on same path after foot surgeries.\n",
      "Bills and Josh Allen (Player Highlighted) have reached agreement on a 6-year, $258M extension, locking him in through 2028. $150M guaranteed.\n",
      "Ravens rookie WR Rashod Bateman (Player Highlighted) suffered a “somewhat significant” groin injury. Has a chance to be ready for Week 1.\n",
      "D'Andre Swift (Player Highlighted) has missed \"significant practice time while nursing a sore groin\" during training camp.\n",
      "DJ Chark Jr. (Player Highlighted) had a minor break on his hand, and underwent surgery. Urban Meyer says he will be back by Week 1.\n",
      "Coachspeak and Beat Reports:\n",
      "The Jerry Jeudy hype has been gaining a lot of steam in recent weeks. I’m seeing these kinds of quotes from almost all the Denver beat writers consistently:\n",
      "“Theme of 2021: Jerry Jeudy (Player Highlighted) torching DBs.”\n",
      "“It almost seems unfair at this point to ask anyone to guard Jerry Jeudy (Player Highlighted) one on one.”\n",
      "“Jerry Jeudy (Player Highlighted) has quite literally been open every single time he’s out there.   Whether it is by his route running or something else he’s always open.”\n",
      "“Jerry Jeudy (Player Highlighted): Good against other corners other than his own. Burning Minnesota dudes.” Video evidence #1 (Player Highlighted), and #2 (Player Highlighted).\n",
      "“I don’t think it’s a stretch to say Jerry Jeudy (Player Highlighted) looks like the best player in camp right now for Denver.”\n",
      "Antonio Brown has also been a hot topic lately:\n",
      "“Brady and AB (Player Highlighted) are lighting it up. Putting on a clinic this morning.”\n",
      "“Bruce Arians said WR Antonio Brown (Player Highlighted) is playing at a speed he was at 4-5 years ago.”\n",
      "“Antonio Brown (Player Highlighted) is not only one of the more impressive receivers in training camp this year, he’s been one of the most impressive players on the entire team”\n",
      "Denzel Mims went from sounding like he was on the roster bubble, to getting a ton of buzz this week “Denzel Mims (Player Highlighted) has been best receiver in camp last 4 days. Was getting limited reps because he was very sick in June (lost 15 pounds)”\n",
      "\"Valdes-Scantling (Player Highlighted)’s hands have been noticeably better so far in camp ... If he keeps this up, he’s the clear-cut No. 2 wideout behind Davante Adams. Valdes-Scantling isn’t just a deep-ball threat anymore ...\"\n",
      "On Chargers 23 year old former XFL TE Donald Parham Jr. (Player Highlighted):  “The 6-foot-8 second-year tight end has been a favorite target of quarterback Justin Herbert in training camp” \n",
      "“Something I’ve noticed in camp is that Jalen Hurts has heavily targeted Ertz and Goedert (Player Highlighted).”\n",
      "49ers rookie RB Trey Sermon (Player Highlighted): “is smoothly absorbing the complex new playbook. That’s why Sermon has enjoyed extensive time with the first-team offense.”\n",
      "“Tua Tagovailoa (Player Highlighted), in 11 on 11 work, has more than five times as many touchdown passes as interceptions (three), though many of the TDs have come in red zone drills. His velocity and accuracy - both on intermediate and deep routes - is clearly better than a year ago.”\n",
      "“Confirmation in here that Terrace Marshall (Player Highlighted) is the favorite to win CAR's No. 3 WR job aka the Big Slot role. Marshall also stepped in when Robby Anderson (personal) missed practice.”\n",
      "“Jared Goff and T.J. Hockenson (Player Highlighted) have been dialed in as a duo all training camp long. Goff went to Hockenson early and often in the 11-on-11 scrimmage portion of practice, including two of Goff's three touchdown passes on the day.”\n",
      "“Saints WR Marquez Callaway (Player Highlighted) continues to be one of the biggest standouts in camp.” … “Marquez Callaway (Player Highlighted) is taking \"ownership of being the top dog at receiver\" for the Saints.”\n",
      "Coach Matt Nagy says Darnell Mooney (Player Highlighted) is “on fire with his route running”\n",
      "Damien Harris (Player Highlighted) continues to look like the clear starting RB for the Patriots.\n",
      "Zack Moss (Player Highlighted) has \"consistently been the best running back\" at Bills camp.\n",
      "“James Robinson (Player Highlighted) is unequivocally the starting running back of the Jacksonville Jaguars.”\n",
      "“James Robinson (Player Highlighted) looks much faster than he was a year ago”\n",
      "“Albert Wilson (Player Highlighted) listed first-team on the Dolphins’ depth chart tells you how good he’s been this spring and summer”\n",
      "“he's shown a connection with both Wentz and Eason, and he's been more involved than T.Y. Hilton. If (Player Highlighted) really is set to become the Colts' WR1 at some point this year, what's gone down in training camp so far appears to be evidence.”\n",
      "\"Before training camp, it seemed like (Player Highlighted) was the odd man out in the running back room, but that is furthest from the truth. Jackson has been taking a lot of the higher-up reps. ... If he stays healthy, he will be second in command behind Austin Ekeler.\"\n",
      "This one is silly, but I’ll allow it: “Jon Gruden said on NFL Network Bryan Edwards (Player Highlighted) has been looking like Terrell Owens, but he’s looking more like Randy Moss to me.  He’s been catching balls with corners draped over him all Training Camp.”\n",
      "“Jakobi Meyers (Player Highlighted) looking like the most consistent receiver at training camp”\n",
      "On Rams rookie RB Xavier Jones (Player Highlighted): Jones is “going to carve out a role for himself” & someone the Rams are “expecting to count on throughout the season.”\n",
      "Analysis & Hype:\n",
      "Travis Kelce (Player Highlighted) has played 110-of-112 possible regular season games since 2014. The two games he missed -- Week 17 games with the AFC West clinched.\n",
      "Rookie wide receivers since the late '90s with 10 or more total touchdowns scored: Calvin Ridley, Tyreek Hill, Odell Beckham, Mike Evans, Mike Williams, Randy Moss...  Chase Claypool (Player Highlighted).\n",
      "Interesting Twitter thread: “You may be drafting Javonte Williams and Trey Sermon (Player Highlighted) for roles they most certainly do not have.”\n",
      "“By the end of this season we’re going be talking about Brandon Aiyuk (Player Highlighted) the same way we talk about Davante Adams”\n",
      "These historical comps to Chase Claypool & Tee Higgins (Player Highlighted).\n",
      "Part Three of the Ultimate Tight End Draft Guide (Player Highlighted).\n",
      "Deep (Mostly Dynasty) Sleepers:\n",
      "“Fans who were at the Eagles' public practice last night saw what reporters have seen from (Player Highlighted) all summer.” … “Jackson has been one of the biggest surprises on the roster. The 6-foot-7, 249-pound former quarterback stands out because of his size but he’s beginning to stand out because of his play too.”\n",
      "\"Rookie tight ends don't always make an immediate impact, but (Player Highlighted) has been the Colts' most impressive tight end so far. Jack Doyle has been fine, as has Mo Alie-Cox considering some drops, but Granson looks like he could be a playmaker.\"\n",
      "“Lawrence truly shined. Lawrence continues to show a knack for being able to put the ball wherever he wants to on the football field. Lawrence’s go-to receiver was Collin Johnson (Player Highlighted). The 6-5 receiver had a big day bringing in two touchdowns from Lawrence during practice.”\n",
      "\"(Josh Palmer (Player Highlighted)) looks like a steal so far in practice. The ball rarely has, if ever, touched the ground when thrown to the receiver wearing a single digit. Tyron Johnson and Jalen Guyton have missed practice, which has opened the door for people to watch Palmer perform.\"\n",
      "Cold Water:\n",
      "“Rough day for the rookie. Zach Wilson (Player Highlighted) was 11-24 for 112 yards with 2 interceptions ((unofficially)). Took a few sacks (some weren’t his fault) but looked indecisive at times, threw some inaccurate passes some were high and others low.   Even had some passes die on him.”\n",
      "“Can’t say Jalen Hurts (Player Highlighted) has done anything in camp to dissuade the Eagles from looking for a QB upgrade.”\n",
      "\"...as a runner, (Player Highlighted) is having a very good camp. He looks quick, explosive and agile. But he’s had far too many drops and also fumbled on Day Eight of practice. The drops are what are very concerning....Last season, he had eight drops, so this is a problem he needs to correct.\"\n",
      "The Fun Stuff:\n",
      "“Tom Brady and Tony Dungy (Player Highlighted) looking like they poisoned your food and are waiting for you to eat it”\n",
      "Lions rookie WR Amon-Ra St. Brown (Player Highlighted) already taking souls.\n",
      "Jalen Reagor (Player Highlighted) with a beautiful one-handed grab.\n",
      "“All joking aside... are we going to talk about the font Michael Thomas (Player Highlighted) used?”\n",
      "A reminder of just how different Calvin Johnson (Player Highlighted) was.\n",
      "Jameis Winston (Player Highlighted) not taking himself too seriously.\n",
      "Not many QBs throw as pretty of a spiral as T-Law (Player Highlighted).\n",
      "Aaron Rodgers (Player Highlighted) accurate anywhere.\n",
      "👋 \n"
     ]
    }
   ],
   "source": [
    "print(sample.cleaned_body[2])"
   ]
  },
  {
   "cell_type": "markdown",
   "metadata": {},
   "source": [
    "## Sentiment Analysis via GPT4"
   ]
  },
  {
   "cell_type": "code",
   "execution_count": 40,
   "metadata": {},
   "outputs": [],
   "source": [
    "import os\n",
    "import openai\n",
    "\n",
    "openai.api_key = os.getenv(\"OPENAI_API_KEY\")"
   ]
  },
  {
   "cell_type": "code",
   "execution_count": 127,
   "metadata": {},
   "outputs": [],
   "source": [
    "\n",
    "prompt = \"You are a Fantasy Football AI analyst tasked with analyzing the content of a newsletters for sentiment analysis. The input text will contains fantasy related news and analysis on NFL players. I've already highlighted the players of focus in the text with the characters \\\"(Player Highlighted)\\\" following their names. There will often be other players that this highlighted player is being compared to, but I'm not interested in them, just the \\\"Player Highlighted\\\". \\n\\nYou will go through the text and analyze each player highlighted and output the analysis in a list of python dicts with the following format: [{'Player': Player_Name, 'Type': Type, 'Sentiment': score}, etc.]\\n\\nType will be a short descriptor of the analysis. Only select one of the following categoryies: Performance, Injury, Contract, Roster, Other\\n\\nSentiment will measure the sentiment of the analysis based on a scale of -5 to 5 where 5 is the best positive praise, -5 is the worst negative criticism, and 0 is a very neutral statement\"\n"
   ]
  },
  {
   "cell_type": "code",
   "execution_count": 128,
   "metadata": {},
   "outputs": [],
   "source": [
    "def sentiment_analyzer(df, prompt = prompt):\n",
    "    \"\"\" \n",
    "    This function will use GPT-4 to analyze the sentiment of the newsletter.\n",
    "    \"\"\"\n",
    "    \n",
    "    #Create a empty list to store the results\n",
    "    results = []\n",
    "\n",
    "    #For loop to iterate through the dataframe\n",
    "    for i in range(len(df)):\n",
    "        season = df['season'][i]\n",
    "        text = df.cleaned_body[i]\n",
    "        messages =   [\n",
    "                        {\n",
    "                        \"role\": \"system\",\n",
    "                        \"content\": prompt\n",
    "                        },\n",
    "                        {\n",
    "                        \"role\": \"user\",\n",
    "                        \"content\": text\n",
    "                        }\n",
    "                    ]\n",
    "        response = openai.ChatCompletion.create(\n",
    "            model=\"gpt-4\",\n",
    "            messages=messages,\n",
    "            temperature=0) \n",
    "        #Convert the results\n",
    "        response = response.choices[0].message[\"content\"]\n",
    "        #convert the response to a list\n",
    "        #results = results.split(\"\\n\")\n",
    "        # Convert each string element to a dictionary using ast.literal_eval()\n",
    "        #list_of_dicts = [ast.literal_eval(item.rstrip(',')) for item in results]\n",
    "\n",
    "        # Convert the list of dictionaries into a DataFrame\n",
    "        #result_df = pd.DataFrame(results)\n",
    "        #result_df['season'] = season\n",
    "        results.append(response)\n",
    "        #Print the progress\n",
    "        print(f\"{i+1} articles completed\")\n",
    "    \n",
    "    return results\n",
    "        "
   ]
  },
  {
   "cell_type": "code",
   "execution_count": 97,
   "metadata": {},
   "outputs": [
    {
     "name": "stdout",
     "output_type": "stream",
     "text": [
      "1 articles completed\n",
      "2 articles completed\n",
      "3 articles completed\n",
      "4 articles completed\n",
      "5 articles completed\n",
      "6 articles completed\n",
      "7 articles completed\n",
      "8 articles completed\n",
      "9 articles completed\n"
     ]
    }
   ],
   "source": [
    "results = sentiment_analyzer(sample)"
   ]
  },
  {
   "cell_type": "code",
   "execution_count": 124,
   "metadata": {},
   "outputs": [
    {
     "data": {
      "text/html": [
       "<div>\n",
       "<style scoped>\n",
       "    .dataframe tbody tr th:only-of-type {\n",
       "        vertical-align: middle;\n",
       "    }\n",
       "\n",
       "    .dataframe tbody tr th {\n",
       "        vertical-align: top;\n",
       "    }\n",
       "\n",
       "    .dataframe thead th {\n",
       "        text-align: right;\n",
       "    }\n",
       "</style>\n",
       "<table border=\"1\" class=\"dataframe\">\n",
       "  <thead>\n",
       "    <tr style=\"text-align: right;\">\n",
       "      <th></th>\n",
       "      <th>Player</th>\n",
       "      <th>Type</th>\n",
       "      <th>Sentiment</th>\n",
       "      <th>season</th>\n",
       "    </tr>\n",
       "  </thead>\n",
       "  <tbody>\n",
       "    <tr>\n",
       "      <th>0</th>\n",
       "      <td>Aaron Rodgers</td>\n",
       "      <td>Training Camp Attendance</td>\n",
       "      <td>3</td>\n",
       "      <td>2021</td>\n",
       "    </tr>\n",
       "    <tr>\n",
       "      <th>1</th>\n",
       "      <td>Michael Thomas</td>\n",
       "      <td>Injury</td>\n",
       "      <td>-4</td>\n",
       "      <td>2021</td>\n",
       "    </tr>\n",
       "    <tr>\n",
       "      <th>2</th>\n",
       "      <td>Randall Cobb</td>\n",
       "      <td>Trade</td>\n",
       "      <td>2</td>\n",
       "      <td>2021</td>\n",
       "    </tr>\n",
       "    <tr>\n",
       "      <th>3</th>\n",
       "      <td>Dak Prescott</td>\n",
       "      <td>Injury</td>\n",
       "      <td>-3</td>\n",
       "      <td>2021</td>\n",
       "    </tr>\n",
       "    <tr>\n",
       "      <th>4</th>\n",
       "      <td>Kelvin Benjamin</td>\n",
       "      <td>Release</td>\n",
       "      <td>-3</td>\n",
       "      <td>2021</td>\n",
       "    </tr>\n",
       "  </tbody>\n",
       "</table>\n",
       "</div>"
      ],
      "text/plain": [
       "            Player                      Type  Sentiment  season\n",
       "0    Aaron Rodgers  Training Camp Attendance          3    2021\n",
       "1   Michael Thomas                    Injury         -4    2021\n",
       "2     Randall Cobb                     Trade          2    2021\n",
       "3     Dak Prescott                    Injury         -3    2021\n",
       "4  Kelvin Benjamin                   Release         -3    2021"
      ]
     },
     "execution_count": 124,
     "metadata": {},
     "output_type": "execute_result"
    }
   ],
   "source": [
    "dfs = []\n",
    "for i in range(len(results)):\n",
    "    test = results[i]\n",
    "    season = seasons[i]\n",
    "    test = re.sub(r\"Ty'Son Williams\", \"Tyson Williams\", test)\n",
    "    #Remove the 1st and last character from test\n",
    "    test = test[1:-1]\n",
    "    data = test.strip()\n",
    "    data = '[' + data + ']'\n",
    "    # Use ast.literal_eval to convert the string to a list of dictionaries\n",
    "    list_of_dicts = ast.literal_eval(data)\n",
    "    # Create a pandas DataFrame from the list of dictionaries\n",
    "    df = pd.DataFrame(list_of_dicts)\n",
    "    df['season'] = season\n",
    "    dfs.append(df)\n",
    "\n",
    "# Concatenate all the DataFrames in the list\n",
    "sentiment_df = pd.concat(dfs)\n",
    "sentiment_df.head()"
   ]
  },
  {
   "cell_type": "code",
   "execution_count": 138,
   "metadata": {},
   "outputs": [
    {
     "data": {
      "text/html": [
       "<div>\n",
       "<style scoped>\n",
       "    .dataframe tbody tr th:only-of-type {\n",
       "        vertical-align: middle;\n",
       "    }\n",
       "\n",
       "    .dataframe tbody tr th {\n",
       "        vertical-align: top;\n",
       "    }\n",
       "\n",
       "    .dataframe thead th {\n",
       "        text-align: right;\n",
       "    }\n",
       "</style>\n",
       "<table border=\"1\" class=\"dataframe\">\n",
       "  <thead>\n",
       "    <tr style=\"text-align: right;\">\n",
       "      <th></th>\n",
       "      <th>Player</th>\n",
       "      <th>Type</th>\n",
       "      <th>Sentiment</th>\n",
       "      <th>season</th>\n",
       "    </tr>\n",
       "  </thead>\n",
       "  <tbody>\n",
       "    <tr>\n",
       "      <th>0</th>\n",
       "      <td>Aaron Rodgers</td>\n",
       "      <td>Training Camp Attendance</td>\n",
       "      <td>3</td>\n",
       "      <td>2021</td>\n",
       "    </tr>\n",
       "    <tr>\n",
       "      <th>5</th>\n",
       "      <td>Odell Beckham Jr.</td>\n",
       "      <td>Physical Fitness</td>\n",
       "      <td>3</td>\n",
       "      <td>2021</td>\n",
       "    </tr>\n",
       "    <tr>\n",
       "      <th>8</th>\n",
       "      <td>Jerry Jeudy</td>\n",
       "      <td>Performance</td>\n",
       "      <td>4</td>\n",
       "      <td>2021</td>\n",
       "    </tr>\n",
       "    <tr>\n",
       "      <th>9</th>\n",
       "      <td>Brandon Aiyuk</td>\n",
       "      <td>Performance</td>\n",
       "      <td>4</td>\n",
       "      <td>2021</td>\n",
       "    </tr>\n",
       "    <tr>\n",
       "      <th>10</th>\n",
       "      <td>Joe Burrow</td>\n",
       "      <td>Performance</td>\n",
       "      <td>4</td>\n",
       "      <td>2021</td>\n",
       "    </tr>\n",
       "  </tbody>\n",
       "</table>\n",
       "</div>"
      ],
      "text/plain": [
       "               Player                      Type  Sentiment  season\n",
       "0       Aaron Rodgers  Training Camp Attendance          3    2021\n",
       "5   Odell Beckham Jr.          Physical Fitness          3    2021\n",
       "8         Jerry Jeudy               Performance          4    2021\n",
       "9       Brandon Aiyuk               Performance          4    2021\n",
       "10         Joe Burrow               Performance          4    2021"
      ]
     },
     "execution_count": 138,
     "metadata": {},
     "output_type": "execute_result"
    }
   ],
   "source": [
    "#Remove rows if the type contains any of the following strings: 'injury', 'contract', 'trade', 'suspen' or 'humor'\n",
    "sentiment_df2 = sentiment_df[~sentiment_df['Type'].str.contains('injury|contract|trade|suspen|humor|release', case=False)]\n",
    "sentiment_df2.head()"
   ]
  },
  {
   "cell_type": "markdown",
   "metadata": {},
   "source": [
    "### Analyze Performance"
   ]
  },
  {
   "cell_type": "code",
   "execution_count": 156,
   "metadata": {},
   "outputs": [
    {
     "data": {
      "text/html": [
       "<div>\n",
       "<style scoped>\n",
       "    .dataframe tbody tr th:only-of-type {\n",
       "        vertical-align: middle;\n",
       "    }\n",
       "\n",
       "    .dataframe tbody tr th {\n",
       "        vertical-align: top;\n",
       "    }\n",
       "\n",
       "    .dataframe thead th {\n",
       "        text-align: right;\n",
       "    }\n",
       "</style>\n",
       "<table border=\"1\" class=\"dataframe\">\n",
       "  <thead>\n",
       "    <tr style=\"text-align: right;\">\n",
       "      <th></th>\n",
       "      <th>Player</th>\n",
       "      <th>season</th>\n",
       "      <th>Sentiment_sum</th>\n",
       "      <th>Sentiment_mean</th>\n",
       "    </tr>\n",
       "  </thead>\n",
       "  <tbody>\n",
       "    <tr>\n",
       "      <th>123</th>\n",
       "      <td>Kyle Pitts</td>\n",
       "      <td>2022</td>\n",
       "      <td>15</td>\n",
       "      <td>5.000000</td>\n",
       "    </tr>\n",
       "    <tr>\n",
       "      <th>45</th>\n",
       "      <td>Damien Harris</td>\n",
       "      <td>2021</td>\n",
       "      <td>15</td>\n",
       "      <td>3.750000</td>\n",
       "    </tr>\n",
       "    <tr>\n",
       "      <th>23</th>\n",
       "      <td>Bryan Edwards</td>\n",
       "      <td>2021</td>\n",
       "      <td>15</td>\n",
       "      <td>3.750000</td>\n",
       "    </tr>\n",
       "    <tr>\n",
       "      <th>44</th>\n",
       "      <td>Dameon Pierce</td>\n",
       "      <td>2022</td>\n",
       "      <td>13</td>\n",
       "      <td>4.333333</td>\n",
       "    </tr>\n",
       "    <tr>\n",
       "      <th>94</th>\n",
       "      <td>Jerry Jeudy</td>\n",
       "      <td>2021</td>\n",
       "      <td>13</td>\n",
       "      <td>4.333333</td>\n",
       "    </tr>\n",
       "    <tr>\n",
       "      <th>18</th>\n",
       "      <td>Brandon Aiyuk</td>\n",
       "      <td>2021</td>\n",
       "      <td>13</td>\n",
       "      <td>4.333333</td>\n",
       "    </tr>\n",
       "    <tr>\n",
       "      <th>100</th>\n",
       "      <td>Jonathan Taylor</td>\n",
       "      <td>2021</td>\n",
       "      <td>13</td>\n",
       "      <td>4.333333</td>\n",
       "    </tr>\n",
       "    <tr>\n",
       "      <th>68</th>\n",
       "      <td>George Pickens</td>\n",
       "      <td>2022</td>\n",
       "      <td>13</td>\n",
       "      <td>4.333333</td>\n",
       "    </tr>\n",
       "    <tr>\n",
       "      <th>108</th>\n",
       "      <td>Justin Fields</td>\n",
       "      <td>2021</td>\n",
       "      <td>11</td>\n",
       "      <td>3.666667</td>\n",
       "    </tr>\n",
       "    <tr>\n",
       "      <th>2</th>\n",
       "      <td>Aaron Rodgers</td>\n",
       "      <td>2021</td>\n",
       "      <td>11</td>\n",
       "      <td>2.750000</td>\n",
       "    </tr>\n",
       "    <tr>\n",
       "      <th>161</th>\n",
       "      <td>Rhamondre Stevenson</td>\n",
       "      <td>2021</td>\n",
       "      <td>10</td>\n",
       "      <td>5.000000</td>\n",
       "    </tr>\n",
       "    <tr>\n",
       "      <th>9</th>\n",
       "      <td>Alvin Kamara</td>\n",
       "      <td>2021</td>\n",
       "      <td>10</td>\n",
       "      <td>5.000000</td>\n",
       "    </tr>\n",
       "    <tr>\n",
       "      <th>178</th>\n",
       "      <td>Travis Kelce</td>\n",
       "      <td>2021</td>\n",
       "      <td>10</td>\n",
       "      <td>3.333333</td>\n",
       "    </tr>\n",
       "    <tr>\n",
       "      <th>62</th>\n",
       "      <td>Elijah Moore</td>\n",
       "      <td>2021</td>\n",
       "      <td>9</td>\n",
       "      <td>4.500000</td>\n",
       "    </tr>\n",
       "    <tr>\n",
       "      <th>109</th>\n",
       "      <td>Justin Fields</td>\n",
       "      <td>2022</td>\n",
       "      <td>9</td>\n",
       "      <td>4.500000</td>\n",
       "    </tr>\n",
       "  </tbody>\n",
       "</table>\n",
       "</div>"
      ],
      "text/plain": [
       "                  Player  season  Sentiment_sum  Sentiment_mean\n",
       "123           Kyle Pitts    2022             15        5.000000\n",
       "45         Damien Harris    2021             15        3.750000\n",
       "23         Bryan Edwards    2021             15        3.750000\n",
       "44         Dameon Pierce    2022             13        4.333333\n",
       "94           Jerry Jeudy    2021             13        4.333333\n",
       "18         Brandon Aiyuk    2021             13        4.333333\n",
       "100      Jonathan Taylor    2021             13        4.333333\n",
       "68        George Pickens    2022             13        4.333333\n",
       "108        Justin Fields    2021             11        3.666667\n",
       "2          Aaron Rodgers    2021             11        2.750000\n",
       "161  Rhamondre Stevenson    2021             10        5.000000\n",
       "9           Alvin Kamara    2021             10        5.000000\n",
       "178         Travis Kelce    2021             10        3.333333\n",
       "62          Elijah Moore    2021              9        4.500000\n",
       "109        Justin Fields    2022              9        4.500000"
      ]
     },
     "execution_count": 156,
     "metadata": {},
     "output_type": "execute_result"
    }
   ],
   "source": [
    "#Group by Player and season, and create 2 agg columns: sum and mean\n",
    "df_newsletter = sentiment_df2.groupby(['Player', 'season'], as_index=False).agg({'Sentiment': ['sum', 'mean']})\n",
    "# Flattening the MultiIndex columns\n",
    "df_newsletter.columns = ['_'.join(col).strip() for col in df_newsletter.columns.values]\n",
    "\n",
    "# Renaming the columns to remove the trailing underscore for Player and season\n",
    "df_newsletter.rename(columns={\"Player_\": \"Player\", \"season_\": \"season\"}, inplace=True)\n",
    "df_newsletter.sort_values(by=[('Sentiment_sum')], ascending=False).head(15)"
   ]
  },
  {
   "cell_type": "code",
   "execution_count": 150,
   "metadata": {},
   "outputs": [],
   "source": [
    "performance = pd.read_csv('/Users/yushunli/Documents/Data Science/jupyter_notebook/Fantasy Football/player_data.csv')\n",
    "#Rename column 'player_name' to 'Player'\n",
    "performance.rename(columns={'player_name':'Player'}, inplace=True)"
   ]
  },
  {
   "cell_type": "code",
   "execution_count": 158,
   "metadata": {},
   "outputs": [
    {
     "data": {
      "text/html": [
       "<div>\n",
       "<style scoped>\n",
       "    .dataframe tbody tr th:only-of-type {\n",
       "        vertical-align: middle;\n",
       "    }\n",
       "\n",
       "    .dataframe tbody tr th {\n",
       "        vertical-align: top;\n",
       "    }\n",
       "\n",
       "    .dataframe thead th {\n",
       "        text-align: right;\n",
       "    }\n",
       "</style>\n",
       "<table border=\"1\" class=\"dataframe\">\n",
       "  <thead>\n",
       "    <tr style=\"text-align: right;\">\n",
       "      <th></th>\n",
       "      <th>Player</th>\n",
       "      <th>season</th>\n",
       "      <th>Sentiment_sum</th>\n",
       "      <th>Sentiment_mean</th>\n",
       "      <th>overallPickNumber</th>\n",
       "      <th>playerId</th>\n",
       "      <th>position</th>\n",
       "      <th>keeper</th>\n",
       "      <th>teamId</th>\n",
       "      <th>owner</th>\n",
       "      <th>draft_position_rank</th>\n",
       "      <th>budget_before</th>\n",
       "      <th>budget_after</th>\n",
       "      <th>bidAmount</th>\n",
       "      <th>Total_Points</th>\n",
       "      <th>Game_Played</th>\n",
       "      <th>PPG</th>\n",
       "      <th>actual_position_rank</th>\n",
       "      <th>bidAmount_bucket</th>\n",
       "    </tr>\n",
       "  </thead>\n",
       "  <tbody>\n",
       "    <tr>\n",
       "      <th>0</th>\n",
       "      <td>A.J. Brown</td>\n",
       "      <td>2022</td>\n",
       "      <td>5</td>\n",
       "      <td>5.00</td>\n",
       "      <td>22.0</td>\n",
       "      <td>4047646.0</td>\n",
       "      <td>WR</td>\n",
       "      <td>False</td>\n",
       "      <td>13.0</td>\n",
       "      <td>Kai Shen</td>\n",
       "      <td>7.0</td>\n",
       "      <td>192.0</td>\n",
       "      <td>157.0</td>\n",
       "      <td>35.0</td>\n",
       "      <td>175.50</td>\n",
       "      <td>12.0</td>\n",
       "      <td>14.6</td>\n",
       "      <td>5.0</td>\n",
       "      <td>35-40</td>\n",
       "    </tr>\n",
       "    <tr>\n",
       "      <th>2</th>\n",
       "      <td>Aaron Rodgers</td>\n",
       "      <td>2021</td>\n",
       "      <td>11</td>\n",
       "      <td>2.75</td>\n",
       "      <td>39.0</td>\n",
       "      <td>8439.0</td>\n",
       "      <td>QB</td>\n",
       "      <td>False</td>\n",
       "      <td>13.0</td>\n",
       "      <td>Kai Shen</td>\n",
       "      <td>2.0</td>\n",
       "      <td>64.0</td>\n",
       "      <td>54.0</td>\n",
       "      <td>10.0</td>\n",
       "      <td>224.82</td>\n",
       "      <td>11.0</td>\n",
       "      <td>20.4</td>\n",
       "      <td>9.0</td>\n",
       "      <td>10-15</td>\n",
       "    </tr>\n",
       "    <tr>\n",
       "      <th>6</th>\n",
       "      <td>Alec Pierce</td>\n",
       "      <td>2022</td>\n",
       "      <td>8</td>\n",
       "      <td>4.00</td>\n",
       "      <td>207.0</td>\n",
       "      <td>4360078.0</td>\n",
       "      <td>WR</td>\n",
       "      <td>False</td>\n",
       "      <td>2.0</td>\n",
       "      <td>Francis Jin</td>\n",
       "      <td>27.0</td>\n",
       "      <td>3.0</td>\n",
       "      <td>2.0</td>\n",
       "      <td>1.0</td>\n",
       "      <td>79.00</td>\n",
       "      <td>12.0</td>\n",
       "      <td>6.6</td>\n",
       "      <td>44.0</td>\n",
       "      <td>0-5</td>\n",
       "    </tr>\n",
       "    <tr>\n",
       "      <th>7</th>\n",
       "      <td>Allen Lazard</td>\n",
       "      <td>2022</td>\n",
       "      <td>3</td>\n",
       "      <td>3.00</td>\n",
       "      <td>128.0</td>\n",
       "      <td>3128390.0</td>\n",
       "      <td>WR</td>\n",
       "      <td>False</td>\n",
       "      <td>15.0</td>\n",
       "      <td>Kyle O'Meara</td>\n",
       "      <td>22.0</td>\n",
       "      <td>11.0</td>\n",
       "      <td>5.0</td>\n",
       "      <td>6.0</td>\n",
       "      <td>114.50</td>\n",
       "      <td>11.0</td>\n",
       "      <td>10.4</td>\n",
       "      <td>25.0</td>\n",
       "      <td>5-10</td>\n",
       "    </tr>\n",
       "    <tr>\n",
       "      <th>9</th>\n",
       "      <td>Alvin Kamara</td>\n",
       "      <td>2021</td>\n",
       "      <td>10</td>\n",
       "      <td>5.00</td>\n",
       "      <td>20.0</td>\n",
       "      <td>3054850.0</td>\n",
       "      <td>RB</td>\n",
       "      <td>False</td>\n",
       "      <td>15.0</td>\n",
       "      <td>Kyle O'Meara</td>\n",
       "      <td>4.0</td>\n",
       "      <td>128.0</td>\n",
       "      <td>49.0</td>\n",
       "      <td>79.0</td>\n",
       "      <td>142.00</td>\n",
       "      <td>8.0</td>\n",
       "      <td>17.8</td>\n",
       "      <td>14.0</td>\n",
       "      <td>75-80</td>\n",
       "    </tr>\n",
       "    <tr>\n",
       "      <th>...</th>\n",
       "      <td>...</td>\n",
       "      <td>...</td>\n",
       "      <td>...</td>\n",
       "      <td>...</td>\n",
       "      <td>...</td>\n",
       "      <td>...</td>\n",
       "      <td>...</td>\n",
       "      <td>...</td>\n",
       "      <td>...</td>\n",
       "      <td>...</td>\n",
       "      <td>...</td>\n",
       "      <td>...</td>\n",
       "      <td>...</td>\n",
       "      <td>...</td>\n",
       "      <td>...</td>\n",
       "      <td>...</td>\n",
       "      <td>...</td>\n",
       "      <td>...</td>\n",
       "      <td>...</td>\n",
       "    </tr>\n",
       "    <tr>\n",
       "      <th>186</th>\n",
       "      <td>Tua Tagovailoa</td>\n",
       "      <td>2021</td>\n",
       "      <td>8</td>\n",
       "      <td>4.00</td>\n",
       "      <td>133.0</td>\n",
       "      <td>4241479.0</td>\n",
       "      <td>QB</td>\n",
       "      <td>False</td>\n",
       "      <td>15.0</td>\n",
       "      <td>Kyle O'Meara</td>\n",
       "      <td>7.0</td>\n",
       "      <td>9.0</td>\n",
       "      <td>8.0</td>\n",
       "      <td>1.0</td>\n",
       "      <td>140.70</td>\n",
       "      <td>8.0</td>\n",
       "      <td>17.6</td>\n",
       "      <td>15.0</td>\n",
       "      <td>0-5</td>\n",
       "    </tr>\n",
       "    <tr>\n",
       "      <th>187</th>\n",
       "      <td>Tyler Allgeier</td>\n",
       "      <td>2022</td>\n",
       "      <td>4</td>\n",
       "      <td>4.00</td>\n",
       "      <td>175.0</td>\n",
       "      <td>4373626.0</td>\n",
       "      <td>RB</td>\n",
       "      <td>False</td>\n",
       "      <td>14.0</td>\n",
       "      <td>Andrew Kim</td>\n",
       "      <td>33.0</td>\n",
       "      <td>2.0</td>\n",
       "      <td>1.0</td>\n",
       "      <td>1.0</td>\n",
       "      <td>86.10</td>\n",
       "      <td>12.0</td>\n",
       "      <td>7.2</td>\n",
       "      <td>35.0</td>\n",
       "      <td>0-5</td>\n",
       "    </tr>\n",
       "    <tr>\n",
       "      <th>188</th>\n",
       "      <td>Tyler Lockett</td>\n",
       "      <td>2021</td>\n",
       "      <td>3</td>\n",
       "      <td>3.00</td>\n",
       "      <td>59.0</td>\n",
       "      <td>2577327.0</td>\n",
       "      <td>WR</td>\n",
       "      <td>False</td>\n",
       "      <td>7.0</td>\n",
       "      <td>Scott Lin</td>\n",
       "      <td>10.0</td>\n",
       "      <td>99.0</td>\n",
       "      <td>75.0</td>\n",
       "      <td>24.0</td>\n",
       "      <td>140.60</td>\n",
       "      <td>12.0</td>\n",
       "      <td>11.7</td>\n",
       "      <td>21.0</td>\n",
       "      <td>20-25</td>\n",
       "    </tr>\n",
       "    <tr>\n",
       "      <th>189</th>\n",
       "      <td>Tyreek Hill</td>\n",
       "      <td>2021</td>\n",
       "      <td>3</td>\n",
       "      <td>3.00</td>\n",
       "      <td>16.0</td>\n",
       "      <td>3116406.0</td>\n",
       "      <td>WR</td>\n",
       "      <td>False</td>\n",
       "      <td>5.0</td>\n",
       "      <td>John Dong</td>\n",
       "      <td>2.0</td>\n",
       "      <td>175.0</td>\n",
       "      <td>119.0</td>\n",
       "      <td>56.0</td>\n",
       "      <td>193.80</td>\n",
       "      <td>12.0</td>\n",
       "      <td>16.2</td>\n",
       "      <td>4.0</td>\n",
       "      <td>55-60</td>\n",
       "    </tr>\n",
       "    <tr>\n",
       "      <th>196</th>\n",
       "      <td>Zack Moss</td>\n",
       "      <td>2021</td>\n",
       "      <td>4</td>\n",
       "      <td>4.00</td>\n",
       "      <td>123.0</td>\n",
       "      <td>4035676.0</td>\n",
       "      <td>RB</td>\n",
       "      <td>False</td>\n",
       "      <td>5.0</td>\n",
       "      <td>John Dong</td>\n",
       "      <td>27.0</td>\n",
       "      <td>15.0</td>\n",
       "      <td>12.0</td>\n",
       "      <td>3.0</td>\n",
       "      <td>84.40</td>\n",
       "      <td>9.0</td>\n",
       "      <td>9.4</td>\n",
       "      <td>31.0</td>\n",
       "      <td>0-5</td>\n",
       "    </tr>\n",
       "  </tbody>\n",
       "</table>\n",
       "<p>102 rows × 19 columns</p>\n",
       "</div>"
      ],
      "text/plain": [
       "             Player  season  Sentiment_sum  Sentiment_mean  overallPickNumber   \n",
       "0        A.J. Brown    2022              5            5.00               22.0  \\\n",
       "2     Aaron Rodgers    2021             11            2.75               39.0   \n",
       "6       Alec Pierce    2022              8            4.00              207.0   \n",
       "7      Allen Lazard    2022              3            3.00              128.0   \n",
       "9      Alvin Kamara    2021             10            5.00               20.0   \n",
       "..              ...     ...            ...             ...                ...   \n",
       "186  Tua Tagovailoa    2021              8            4.00              133.0   \n",
       "187  Tyler Allgeier    2022              4            4.00              175.0   \n",
       "188   Tyler Lockett    2021              3            3.00               59.0   \n",
       "189     Tyreek Hill    2021              3            3.00               16.0   \n",
       "196       Zack Moss    2021              4            4.00              123.0   \n",
       "\n",
       "      playerId position keeper  teamId         owner  draft_position_rank   \n",
       "0    4047646.0       WR  False    13.0      Kai Shen                  7.0  \\\n",
       "2       8439.0       QB  False    13.0      Kai Shen                  2.0   \n",
       "6    4360078.0       WR  False     2.0   Francis Jin                 27.0   \n",
       "7    3128390.0       WR  False    15.0  Kyle O'Meara                 22.0   \n",
       "9    3054850.0       RB  False    15.0  Kyle O'Meara                  4.0   \n",
       "..         ...      ...    ...     ...           ...                  ...   \n",
       "186  4241479.0       QB  False    15.0  Kyle O'Meara                  7.0   \n",
       "187  4373626.0       RB  False    14.0    Andrew Kim                 33.0   \n",
       "188  2577327.0       WR  False     7.0     Scott Lin                 10.0   \n",
       "189  3116406.0       WR  False     5.0     John Dong                  2.0   \n",
       "196  4035676.0       RB  False     5.0     John Dong                 27.0   \n",
       "\n",
       "     budget_before  budget_after  bidAmount  Total_Points  Game_Played   PPG   \n",
       "0            192.0         157.0       35.0        175.50         12.0  14.6  \\\n",
       "2             64.0          54.0       10.0        224.82         11.0  20.4   \n",
       "6              3.0           2.0        1.0         79.00         12.0   6.6   \n",
       "7             11.0           5.0        6.0        114.50         11.0  10.4   \n",
       "9            128.0          49.0       79.0        142.00          8.0  17.8   \n",
       "..             ...           ...        ...           ...          ...   ...   \n",
       "186            9.0           8.0        1.0        140.70          8.0  17.6   \n",
       "187            2.0           1.0        1.0         86.10         12.0   7.2   \n",
       "188           99.0          75.0       24.0        140.60         12.0  11.7   \n",
       "189          175.0         119.0       56.0        193.80         12.0  16.2   \n",
       "196           15.0          12.0        3.0         84.40          9.0   9.4   \n",
       "\n",
       "     actual_position_rank bidAmount_bucket  \n",
       "0                     5.0            35-40  \n",
       "2                     9.0            10-15  \n",
       "6                    44.0              0-5  \n",
       "7                    25.0             5-10  \n",
       "9                    14.0            75-80  \n",
       "..                    ...              ...  \n",
       "186                  15.0              0-5  \n",
       "187                  35.0              0-5  \n",
       "188                  21.0            20-25  \n",
       "189                   4.0            55-60  \n",
       "196                  31.0              0-5  \n",
       "\n",
       "[102 rows x 19 columns]"
      ]
     },
     "execution_count": 158,
     "metadata": {},
     "output_type": "execute_result"
    }
   ],
   "source": [
    "#Flatten the df_newsletter dataframe 'Sentiment' section\n",
    "output = df_newsletter.merge(performance, on = ['Player', 'season'], how = 'left') \n",
    "#Show output rows where 'PPG' is not null\n",
    "output[output['PPG'].notnull()]"
   ]
  },
  {
   "cell_type": "code",
   "execution_count": 161,
   "metadata": {},
   "outputs": [],
   "source": [
    "df_newsletter.to_csv('ff_newsletter.csv', index=False)"
   ]
  },
  {
   "cell_type": "code",
   "execution_count": 172,
   "metadata": {},
   "outputs": [
    {
     "data": {
      "text/html": [
       "<div>\n",
       "<style scoped>\n",
       "    .dataframe tbody tr th:only-of-type {\n",
       "        vertical-align: middle;\n",
       "    }\n",
       "\n",
       "    .dataframe tbody tr th {\n",
       "        vertical-align: top;\n",
       "    }\n",
       "\n",
       "    .dataframe thead th {\n",
       "        text-align: right;\n",
       "    }\n",
       "</style>\n",
       "<table border=\"1\" class=\"dataframe\">\n",
       "  <thead>\n",
       "    <tr style=\"text-align: right;\">\n",
       "      <th></th>\n",
       "      <th>Player</th>\n",
       "      <th>Position</th>\n",
       "      <th>Sentiment_sum</th>\n",
       "      <th>Difference</th>\n",
       "      <th>actual_position_rank</th>\n",
       "    </tr>\n",
       "  </thead>\n",
       "  <tbody>\n",
       "    <tr>\n",
       "      <th>0</th>\n",
       "      <td>A.J. Brown</td>\n",
       "      <td>WR</td>\n",
       "      <td>5</td>\n",
       "      <td>2</td>\n",
       "      <td>5.0</td>\n",
       "    </tr>\n",
       "    <tr>\n",
       "      <th>1</th>\n",
       "      <td>Aaron Rodgers</td>\n",
       "      <td>QB</td>\n",
       "      <td>11</td>\n",
       "      <td>-7</td>\n",
       "      <td>9.0</td>\n",
       "    </tr>\n",
       "    <tr>\n",
       "      <th>2</th>\n",
       "      <td>Alec Pierce</td>\n",
       "      <td>WR</td>\n",
       "      <td>8</td>\n",
       "      <td>-17</td>\n",
       "      <td>44.0</td>\n",
       "    </tr>\n",
       "    <tr>\n",
       "      <th>3</th>\n",
       "      <td>Allen Lazard</td>\n",
       "      <td>WR</td>\n",
       "      <td>3</td>\n",
       "      <td>-3</td>\n",
       "      <td>25.0</td>\n",
       "    </tr>\n",
       "    <tr>\n",
       "      <th>4</th>\n",
       "      <td>Alvin Kamara</td>\n",
       "      <td>RB</td>\n",
       "      <td>10</td>\n",
       "      <td>-10</td>\n",
       "      <td>14.0</td>\n",
       "    </tr>\n",
       "  </tbody>\n",
       "</table>\n",
       "</div>"
      ],
      "text/plain": [
       "          Player Position  Sentiment_sum  Difference  actual_position_rank\n",
       "0     A.J. Brown       WR              5           2                   5.0\n",
       "1  Aaron Rodgers       QB             11          -7                   9.0\n",
       "2    Alec Pierce       WR              8         -17                  44.0\n",
       "3   Allen Lazard       WR              3          -3                  25.0\n",
       "4   Alvin Kamara       RB             10         -10                  14.0"
      ]
     },
     "execution_count": 172,
     "metadata": {},
     "output_type": "execute_result"
    }
   ],
   "source": [
    "\n",
    "sample_df.head()"
   ]
  },
  {
   "cell_type": "code",
   "execution_count": 177,
   "metadata": {},
   "outputs": [
    {
     "data": {
      "application/vnd.plotly.v1+json": {
       "config": {
        "plotlyServerURL": "https://plot.ly"
       },
       "data": [
        {
         "hovertemplate": "<b>%{hovertext}</b><br><br>Sentiment_sum=%{x}<br>Difference=%{y}<br>actual_position_rank2=%{marker.size}<extra></extra>",
         "hovertext": [
          "A.J. Brown",
          "Alec Pierce",
          "Allen Lazard",
          "Amari Cooper",
          "Antonio Brown",
          "Brandin Cooks",
          "Brandon Aiyuk",
          "Brandon Aiyuk",
          "Bryan Edwards",
          "CeeDee Lamb",
          "Chase Claypool",
          "Chase Claypool",
          "Chris Olave",
          "Corey Davis",
          "Courtland Sutton",
          "Courtland Sutton",
          "DJ Moore",
          "DJ Moore",
          "Darnell Mooney",
          "DeVonta Smith",
          "Diontae Johnson",
          "DJ Chark",
          "Drake London",
          "Elijah Moore",
          "Elijah Moore",
          "George Pickens",
          "Isaiah McKenzie",
          "Ja'Marr Chase",
          "Jahan Dotson",
          "Jalen Reagor",
          "Jaylen Waddle",
          "Jerry Jeudy",
          "Jerry Jeudy",
          "Joshua Palmer",
          "Kadarius Toney",
          "Kenny Golladay",
          "Laviska Shenault Jr.",
          "Marquez Callaway",
          "Marquise Brown",
          "Mecole Hardman",
          "Michael Pittman Jr.",
          "Michael Thomas",
          "Odell Beckham Jr.",
          "Odell Beckham Jr.",
          "Parris Campbell",
          "Quez Watkins",
          "Randall Cobb",
          "Sammy Watkins",
          "Tee Higgins",
          "Tee Higgins",
          "Treylon Burks",
          "Tyler Lockett",
          "Tyreek Hill"
         ],
         "legendgroup": "",
         "marker": {
          "color": "#636efa",
          "size": [
           0.2,
           0.022727272727272728,
           0.04,
           0.09090909090909091,
           0.02564102564102564,
           0.023255813953488372,
           0.02631578947368421,
           0.0625,
           0.021739130434782608,
           0.0625,
           0.030303030303030304,
           0.022222222222222223,
           0.06666666666666667,
           0.02702702702702703,
           0.03125,
           0.03225806451612903,
           0.05263157894736842,
           0.038461538461538464,
           0.043478260869565216,
           0.04,
           0.1,
           0.016666666666666666,
           0.030303030303030304,
           0.022727272727272728,
           0.015625,
           0.027777777777777776,
           0.01639344262295082,
           0.16666666666666666,
           0.02040816326530612,
           0.015151515151515152,
           0.07142857142857142,
           0.016666666666666666,
           0.02564102564102564,
           0.03571428571428571,
           0.014925373134328358,
           0.017857142857142856,
           0.017241379310344827,
           0.025,
           0.058823529411764705,
           0.0196078431372549,
           0.06666666666666667,
           0.017241379310344827,
           0.020833333333333332,
           0.020833333333333332,
           0.013333333333333334,
           0.01639344262295082,
           0.01694915254237288,
           0.014705882352941176,
           0.041666666666666664,
           0.08333333333333333,
           0.019230769230769232,
           0.047619047619047616,
           0.25
          ],
          "sizemode": "area",
          "sizeref": 0.000625,
          "symbol": "circle"
         },
         "mode": "markers",
         "name": "",
         "orientation": "v",
         "showlegend": false,
         "type": "scatter",
         "x": [
          5,
          8,
          3,
          4,
          5,
          4,
          13,
          9,
          15,
          3,
          4,
          0,
          8,
          4,
          3,
          3,
          4,
          8,
          4,
          4,
          4,
          4,
          4,
          9,
          4,
          13,
          4,
          0,
          3,
          7,
          4,
          13,
          3,
          3,
          4,
          -3,
          4,
          5,
          4,
          -3,
          3,
          5,
          3,
          0,
          3,
          5,
          2,
          4,
          8,
          4,
          -3,
          3,
          3
         ],
         "xaxis": "x",
         "y": [
          2,
          -17,
          -3,
          6,
          -19,
          -31,
          -24,
          6,
          -21,
          -12,
          -15,
          -19,
          11,
          -14,
          -15,
          -17,
          -6,
          -18,
          2,
          -8,
          2,
          -33,
          -10,
          -19,
          -45,
          -10,
          -34,
          10,
          -22,
          -41,
          10,
          -45,
          -27,
          -1,
          -43,
          -44,
          -37,
          -17,
          7,
          -26,
          8,
          -43,
          -34,
          -34,
          -50,
          -36,
          -34,
          -43,
          -12,
          -6,
          -25,
          -11,
          -2
         ],
         "yaxis": "y"
        }
       ],
       "layout": {
        "legend": {
         "itemsizing": "constant",
         "tracegroupgap": 0
        },
        "shapes": [
         {
          "line": {
           "color": "black",
           "width": 2
          },
          "type": "line",
          "x0": -1,
          "x1": 1,
          "y0": 0,
          "y1": 0
         },
         {
          "line": {
           "color": "black",
           "width": 2
          },
          "type": "line",
          "x0": 0,
          "x1": 0,
          "y0": -1,
          "y1": 1
         }
        ],
        "template": {
         "data": {
          "bar": [
           {
            "error_x": {
             "color": "#2a3f5f"
            },
            "error_y": {
             "color": "#2a3f5f"
            },
            "marker": {
             "line": {
              "color": "#E5ECF6",
              "width": 0.5
             },
             "pattern": {
              "fillmode": "overlay",
              "size": 10,
              "solidity": 0.2
             }
            },
            "type": "bar"
           }
          ],
          "barpolar": [
           {
            "marker": {
             "line": {
              "color": "#E5ECF6",
              "width": 0.5
             },
             "pattern": {
              "fillmode": "overlay",
              "size": 10,
              "solidity": 0.2
             }
            },
            "type": "barpolar"
           }
          ],
          "carpet": [
           {
            "aaxis": {
             "endlinecolor": "#2a3f5f",
             "gridcolor": "white",
             "linecolor": "white",
             "minorgridcolor": "white",
             "startlinecolor": "#2a3f5f"
            },
            "baxis": {
             "endlinecolor": "#2a3f5f",
             "gridcolor": "white",
             "linecolor": "white",
             "minorgridcolor": "white",
             "startlinecolor": "#2a3f5f"
            },
            "type": "carpet"
           }
          ],
          "choropleth": [
           {
            "colorbar": {
             "outlinewidth": 0,
             "ticks": ""
            },
            "type": "choropleth"
           }
          ],
          "contour": [
           {
            "colorbar": {
             "outlinewidth": 0,
             "ticks": ""
            },
            "colorscale": [
             [
              0,
              "#0d0887"
             ],
             [
              0.1111111111111111,
              "#46039f"
             ],
             [
              0.2222222222222222,
              "#7201a8"
             ],
             [
              0.3333333333333333,
              "#9c179e"
             ],
             [
              0.4444444444444444,
              "#bd3786"
             ],
             [
              0.5555555555555556,
              "#d8576b"
             ],
             [
              0.6666666666666666,
              "#ed7953"
             ],
             [
              0.7777777777777778,
              "#fb9f3a"
             ],
             [
              0.8888888888888888,
              "#fdca26"
             ],
             [
              1,
              "#f0f921"
             ]
            ],
            "type": "contour"
           }
          ],
          "contourcarpet": [
           {
            "colorbar": {
             "outlinewidth": 0,
             "ticks": ""
            },
            "type": "contourcarpet"
           }
          ],
          "heatmap": [
           {
            "colorbar": {
             "outlinewidth": 0,
             "ticks": ""
            },
            "colorscale": [
             [
              0,
              "#0d0887"
             ],
             [
              0.1111111111111111,
              "#46039f"
             ],
             [
              0.2222222222222222,
              "#7201a8"
             ],
             [
              0.3333333333333333,
              "#9c179e"
             ],
             [
              0.4444444444444444,
              "#bd3786"
             ],
             [
              0.5555555555555556,
              "#d8576b"
             ],
             [
              0.6666666666666666,
              "#ed7953"
             ],
             [
              0.7777777777777778,
              "#fb9f3a"
             ],
             [
              0.8888888888888888,
              "#fdca26"
             ],
             [
              1,
              "#f0f921"
             ]
            ],
            "type": "heatmap"
           }
          ],
          "heatmapgl": [
           {
            "colorbar": {
             "outlinewidth": 0,
             "ticks": ""
            },
            "colorscale": [
             [
              0,
              "#0d0887"
             ],
             [
              0.1111111111111111,
              "#46039f"
             ],
             [
              0.2222222222222222,
              "#7201a8"
             ],
             [
              0.3333333333333333,
              "#9c179e"
             ],
             [
              0.4444444444444444,
              "#bd3786"
             ],
             [
              0.5555555555555556,
              "#d8576b"
             ],
             [
              0.6666666666666666,
              "#ed7953"
             ],
             [
              0.7777777777777778,
              "#fb9f3a"
             ],
             [
              0.8888888888888888,
              "#fdca26"
             ],
             [
              1,
              "#f0f921"
             ]
            ],
            "type": "heatmapgl"
           }
          ],
          "histogram": [
           {
            "marker": {
             "pattern": {
              "fillmode": "overlay",
              "size": 10,
              "solidity": 0.2
             }
            },
            "type": "histogram"
           }
          ],
          "histogram2d": [
           {
            "colorbar": {
             "outlinewidth": 0,
             "ticks": ""
            },
            "colorscale": [
             [
              0,
              "#0d0887"
             ],
             [
              0.1111111111111111,
              "#46039f"
             ],
             [
              0.2222222222222222,
              "#7201a8"
             ],
             [
              0.3333333333333333,
              "#9c179e"
             ],
             [
              0.4444444444444444,
              "#bd3786"
             ],
             [
              0.5555555555555556,
              "#d8576b"
             ],
             [
              0.6666666666666666,
              "#ed7953"
             ],
             [
              0.7777777777777778,
              "#fb9f3a"
             ],
             [
              0.8888888888888888,
              "#fdca26"
             ],
             [
              1,
              "#f0f921"
             ]
            ],
            "type": "histogram2d"
           }
          ],
          "histogram2dcontour": [
           {
            "colorbar": {
             "outlinewidth": 0,
             "ticks": ""
            },
            "colorscale": [
             [
              0,
              "#0d0887"
             ],
             [
              0.1111111111111111,
              "#46039f"
             ],
             [
              0.2222222222222222,
              "#7201a8"
             ],
             [
              0.3333333333333333,
              "#9c179e"
             ],
             [
              0.4444444444444444,
              "#bd3786"
             ],
             [
              0.5555555555555556,
              "#d8576b"
             ],
             [
              0.6666666666666666,
              "#ed7953"
             ],
             [
              0.7777777777777778,
              "#fb9f3a"
             ],
             [
              0.8888888888888888,
              "#fdca26"
             ],
             [
              1,
              "#f0f921"
             ]
            ],
            "type": "histogram2dcontour"
           }
          ],
          "mesh3d": [
           {
            "colorbar": {
             "outlinewidth": 0,
             "ticks": ""
            },
            "type": "mesh3d"
           }
          ],
          "parcoords": [
           {
            "line": {
             "colorbar": {
              "outlinewidth": 0,
              "ticks": ""
             }
            },
            "type": "parcoords"
           }
          ],
          "pie": [
           {
            "automargin": true,
            "type": "pie"
           }
          ],
          "scatter": [
           {
            "fillpattern": {
             "fillmode": "overlay",
             "size": 10,
             "solidity": 0.2
            },
            "type": "scatter"
           }
          ],
          "scatter3d": [
           {
            "line": {
             "colorbar": {
              "outlinewidth": 0,
              "ticks": ""
             }
            },
            "marker": {
             "colorbar": {
              "outlinewidth": 0,
              "ticks": ""
             }
            },
            "type": "scatter3d"
           }
          ],
          "scattercarpet": [
           {
            "marker": {
             "colorbar": {
              "outlinewidth": 0,
              "ticks": ""
             }
            },
            "type": "scattercarpet"
           }
          ],
          "scattergeo": [
           {
            "marker": {
             "colorbar": {
              "outlinewidth": 0,
              "ticks": ""
             }
            },
            "type": "scattergeo"
           }
          ],
          "scattergl": [
           {
            "marker": {
             "colorbar": {
              "outlinewidth": 0,
              "ticks": ""
             }
            },
            "type": "scattergl"
           }
          ],
          "scattermapbox": [
           {
            "marker": {
             "colorbar": {
              "outlinewidth": 0,
              "ticks": ""
             }
            },
            "type": "scattermapbox"
           }
          ],
          "scatterpolar": [
           {
            "marker": {
             "colorbar": {
              "outlinewidth": 0,
              "ticks": ""
             }
            },
            "type": "scatterpolar"
           }
          ],
          "scatterpolargl": [
           {
            "marker": {
             "colorbar": {
              "outlinewidth": 0,
              "ticks": ""
             }
            },
            "type": "scatterpolargl"
           }
          ],
          "scatterternary": [
           {
            "marker": {
             "colorbar": {
              "outlinewidth": 0,
              "ticks": ""
             }
            },
            "type": "scatterternary"
           }
          ],
          "surface": [
           {
            "colorbar": {
             "outlinewidth": 0,
             "ticks": ""
            },
            "colorscale": [
             [
              0,
              "#0d0887"
             ],
             [
              0.1111111111111111,
              "#46039f"
             ],
             [
              0.2222222222222222,
              "#7201a8"
             ],
             [
              0.3333333333333333,
              "#9c179e"
             ],
             [
              0.4444444444444444,
              "#bd3786"
             ],
             [
              0.5555555555555556,
              "#d8576b"
             ],
             [
              0.6666666666666666,
              "#ed7953"
             ],
             [
              0.7777777777777778,
              "#fb9f3a"
             ],
             [
              0.8888888888888888,
              "#fdca26"
             ],
             [
              1,
              "#f0f921"
             ]
            ],
            "type": "surface"
           }
          ],
          "table": [
           {
            "cells": {
             "fill": {
              "color": "#EBF0F8"
             },
             "line": {
              "color": "white"
             }
            },
            "header": {
             "fill": {
              "color": "#C8D4E3"
             },
             "line": {
              "color": "white"
             }
            },
            "type": "table"
           }
          ]
         },
         "layout": {
          "annotationdefaults": {
           "arrowcolor": "#2a3f5f",
           "arrowhead": 0,
           "arrowwidth": 1
          },
          "autotypenumbers": "strict",
          "coloraxis": {
           "colorbar": {
            "outlinewidth": 0,
            "ticks": ""
           }
          },
          "colorscale": {
           "diverging": [
            [
             0,
             "#8e0152"
            ],
            [
             0.1,
             "#c51b7d"
            ],
            [
             0.2,
             "#de77ae"
            ],
            [
             0.3,
             "#f1b6da"
            ],
            [
             0.4,
             "#fde0ef"
            ],
            [
             0.5,
             "#f7f7f7"
            ],
            [
             0.6,
             "#e6f5d0"
            ],
            [
             0.7,
             "#b8e186"
            ],
            [
             0.8,
             "#7fbc41"
            ],
            [
             0.9,
             "#4d9221"
            ],
            [
             1,
             "#276419"
            ]
           ],
           "sequential": [
            [
             0,
             "#0d0887"
            ],
            [
             0.1111111111111111,
             "#46039f"
            ],
            [
             0.2222222222222222,
             "#7201a8"
            ],
            [
             0.3333333333333333,
             "#9c179e"
            ],
            [
             0.4444444444444444,
             "#bd3786"
            ],
            [
             0.5555555555555556,
             "#d8576b"
            ],
            [
             0.6666666666666666,
             "#ed7953"
            ],
            [
             0.7777777777777778,
             "#fb9f3a"
            ],
            [
             0.8888888888888888,
             "#fdca26"
            ],
            [
             1,
             "#f0f921"
            ]
           ],
           "sequentialminus": [
            [
             0,
             "#0d0887"
            ],
            [
             0.1111111111111111,
             "#46039f"
            ],
            [
             0.2222222222222222,
             "#7201a8"
            ],
            [
             0.3333333333333333,
             "#9c179e"
            ],
            [
             0.4444444444444444,
             "#bd3786"
            ],
            [
             0.5555555555555556,
             "#d8576b"
            ],
            [
             0.6666666666666666,
             "#ed7953"
            ],
            [
             0.7777777777777778,
             "#fb9f3a"
            ],
            [
             0.8888888888888888,
             "#fdca26"
            ],
            [
             1,
             "#f0f921"
            ]
           ]
          },
          "colorway": [
           "#636efa",
           "#EF553B",
           "#00cc96",
           "#ab63fa",
           "#FFA15A",
           "#19d3f3",
           "#FF6692",
           "#B6E880",
           "#FF97FF",
           "#FECB52"
          ],
          "font": {
           "color": "#2a3f5f"
          },
          "geo": {
           "bgcolor": "white",
           "lakecolor": "white",
           "landcolor": "#E5ECF6",
           "showlakes": true,
           "showland": true,
           "subunitcolor": "white"
          },
          "hoverlabel": {
           "align": "left"
          },
          "hovermode": "closest",
          "mapbox": {
           "style": "light"
          },
          "paper_bgcolor": "white",
          "plot_bgcolor": "#E5ECF6",
          "polar": {
           "angularaxis": {
            "gridcolor": "white",
            "linecolor": "white",
            "ticks": ""
           },
           "bgcolor": "#E5ECF6",
           "radialaxis": {
            "gridcolor": "white",
            "linecolor": "white",
            "ticks": ""
           }
          },
          "scene": {
           "xaxis": {
            "backgroundcolor": "#E5ECF6",
            "gridcolor": "white",
            "gridwidth": 2,
            "linecolor": "white",
            "showbackground": true,
            "ticks": "",
            "zerolinecolor": "white"
           },
           "yaxis": {
            "backgroundcolor": "#E5ECF6",
            "gridcolor": "white",
            "gridwidth": 2,
            "linecolor": "white",
            "showbackground": true,
            "ticks": "",
            "zerolinecolor": "white"
           },
           "zaxis": {
            "backgroundcolor": "#E5ECF6",
            "gridcolor": "white",
            "gridwidth": 2,
            "linecolor": "white",
            "showbackground": true,
            "ticks": "",
            "zerolinecolor": "white"
           }
          },
          "shapedefaults": {
           "line": {
            "color": "#2a3f5f"
           }
          },
          "ternary": {
           "aaxis": {
            "gridcolor": "white",
            "linecolor": "white",
            "ticks": ""
           },
           "baxis": {
            "gridcolor": "white",
            "linecolor": "white",
            "ticks": ""
           },
           "bgcolor": "#E5ECF6",
           "caxis": {
            "gridcolor": "white",
            "linecolor": "white",
            "ticks": ""
           }
          },
          "title": {
           "x": 0.05
          },
          "xaxis": {
           "automargin": true,
           "gridcolor": "white",
           "linecolor": "white",
           "ticks": "",
           "title": {
            "standoff": 15
           },
           "zerolinecolor": "white",
           "zerolinewidth": 2
          },
          "yaxis": {
           "automargin": true,
           "gridcolor": "white",
           "linecolor": "white",
           "ticks": "",
           "title": {
            "standoff": 15
           },
           "zerolinecolor": "white",
           "zerolinewidth": 2
          }
         }
        },
        "title": {
         "text": "Sentiment_sum vs Difference for WR"
        },
        "xaxis": {
         "anchor": "y",
         "domain": [
          0,
          1
         ],
         "title": {
          "text": "Sentiment_sum"
         }
        },
        "yaxis": {
         "anchor": "x",
         "domain": [
          0,
          1
         ],
         "title": {
          "text": "Difference"
         }
        }
       }
      }
     },
     "metadata": {},
     "output_type": "display_data"
    },
    {
     "data": {
      "application/vnd.plotly.v1+json": {
       "config": {
        "plotlyServerURL": "https://plot.ly"
       },
       "data": [
        {
         "hovertemplate": "<b>%{hovertext}</b><br><br>Sentiment_sum=%{x}<br>Difference=%{y}<br>actual_position_rank2=%{marker.size}<extra></extra>",
         "hovertext": [
          "Aaron Rodgers",
          "Derek Carr",
          "Jalen Hurts",
          "Jalen Hurts",
          "Jameis Winston",
          "Joe Burrow",
          "Joe Burrow",
          "Justin Fields",
          "Justin Fields",
          "Justin Herbert",
          "Patrick Mahomes",
          "Tom Brady",
          "Trevor Lawrence",
          "Trevor Lawrence",
          "Trey Lance",
          "Trey Lance",
          "Tua Tagovailoa"
         ],
         "legendgroup": "",
         "marker": {
          "color": "#636efa",
          "size": [
           0.1111111111111111,
           0.125,
           0.25,
           1,
           0.05555555555555555,
           0.08333333333333333,
           0.25,
           0.05,
           0.07692307692307693,
           0.3333333333333333,
           0.5,
           1,
           0.05263157894736842,
           0.05263157894736842,
           0.047619047619047616,
           0.05263157894736842,
           0.06666666666666667
          ],
          "sizemode": "area",
          "sizeref": 0.0025,
          "symbol": "circle"
         },
         "mode": "markers",
         "name": "",
         "orientation": "v",
         "showlegend": false,
         "type": "scatter",
         "x": [
          11,
          7,
          11,
          8,
          8,
          0,
          -3,
          11,
          9,
          3,
          4,
          3,
          4,
          5,
          5,
          4,
          8
         ],
         "xaxis": "x",
         "y": [
          -7,
          1,
          2,
          4,
          -11,
          -5,
          2,
          -13,
          -4,
          1,
          0,
          4,
          -13,
          -13,
          -14,
          -11,
          -8
         ],
         "yaxis": "y"
        }
       ],
       "layout": {
        "legend": {
         "itemsizing": "constant",
         "tracegroupgap": 0
        },
        "shapes": [
         {
          "line": {
           "color": "black",
           "width": 2
          },
          "type": "line",
          "x0": -1,
          "x1": 1,
          "y0": 0,
          "y1": 0
         },
         {
          "line": {
           "color": "black",
           "width": 2
          },
          "type": "line",
          "x0": 0,
          "x1": 0,
          "y0": -1,
          "y1": 1
         }
        ],
        "template": {
         "data": {
          "bar": [
           {
            "error_x": {
             "color": "#2a3f5f"
            },
            "error_y": {
             "color": "#2a3f5f"
            },
            "marker": {
             "line": {
              "color": "#E5ECF6",
              "width": 0.5
             },
             "pattern": {
              "fillmode": "overlay",
              "size": 10,
              "solidity": 0.2
             }
            },
            "type": "bar"
           }
          ],
          "barpolar": [
           {
            "marker": {
             "line": {
              "color": "#E5ECF6",
              "width": 0.5
             },
             "pattern": {
              "fillmode": "overlay",
              "size": 10,
              "solidity": 0.2
             }
            },
            "type": "barpolar"
           }
          ],
          "carpet": [
           {
            "aaxis": {
             "endlinecolor": "#2a3f5f",
             "gridcolor": "white",
             "linecolor": "white",
             "minorgridcolor": "white",
             "startlinecolor": "#2a3f5f"
            },
            "baxis": {
             "endlinecolor": "#2a3f5f",
             "gridcolor": "white",
             "linecolor": "white",
             "minorgridcolor": "white",
             "startlinecolor": "#2a3f5f"
            },
            "type": "carpet"
           }
          ],
          "choropleth": [
           {
            "colorbar": {
             "outlinewidth": 0,
             "ticks": ""
            },
            "type": "choropleth"
           }
          ],
          "contour": [
           {
            "colorbar": {
             "outlinewidth": 0,
             "ticks": ""
            },
            "colorscale": [
             [
              0,
              "#0d0887"
             ],
             [
              0.1111111111111111,
              "#46039f"
             ],
             [
              0.2222222222222222,
              "#7201a8"
             ],
             [
              0.3333333333333333,
              "#9c179e"
             ],
             [
              0.4444444444444444,
              "#bd3786"
             ],
             [
              0.5555555555555556,
              "#d8576b"
             ],
             [
              0.6666666666666666,
              "#ed7953"
             ],
             [
              0.7777777777777778,
              "#fb9f3a"
             ],
             [
              0.8888888888888888,
              "#fdca26"
             ],
             [
              1,
              "#f0f921"
             ]
            ],
            "type": "contour"
           }
          ],
          "contourcarpet": [
           {
            "colorbar": {
             "outlinewidth": 0,
             "ticks": ""
            },
            "type": "contourcarpet"
           }
          ],
          "heatmap": [
           {
            "colorbar": {
             "outlinewidth": 0,
             "ticks": ""
            },
            "colorscale": [
             [
              0,
              "#0d0887"
             ],
             [
              0.1111111111111111,
              "#46039f"
             ],
             [
              0.2222222222222222,
              "#7201a8"
             ],
             [
              0.3333333333333333,
              "#9c179e"
             ],
             [
              0.4444444444444444,
              "#bd3786"
             ],
             [
              0.5555555555555556,
              "#d8576b"
             ],
             [
              0.6666666666666666,
              "#ed7953"
             ],
             [
              0.7777777777777778,
              "#fb9f3a"
             ],
             [
              0.8888888888888888,
              "#fdca26"
             ],
             [
              1,
              "#f0f921"
             ]
            ],
            "type": "heatmap"
           }
          ],
          "heatmapgl": [
           {
            "colorbar": {
             "outlinewidth": 0,
             "ticks": ""
            },
            "colorscale": [
             [
              0,
              "#0d0887"
             ],
             [
              0.1111111111111111,
              "#46039f"
             ],
             [
              0.2222222222222222,
              "#7201a8"
             ],
             [
              0.3333333333333333,
              "#9c179e"
             ],
             [
              0.4444444444444444,
              "#bd3786"
             ],
             [
              0.5555555555555556,
              "#d8576b"
             ],
             [
              0.6666666666666666,
              "#ed7953"
             ],
             [
              0.7777777777777778,
              "#fb9f3a"
             ],
             [
              0.8888888888888888,
              "#fdca26"
             ],
             [
              1,
              "#f0f921"
             ]
            ],
            "type": "heatmapgl"
           }
          ],
          "histogram": [
           {
            "marker": {
             "pattern": {
              "fillmode": "overlay",
              "size": 10,
              "solidity": 0.2
             }
            },
            "type": "histogram"
           }
          ],
          "histogram2d": [
           {
            "colorbar": {
             "outlinewidth": 0,
             "ticks": ""
            },
            "colorscale": [
             [
              0,
              "#0d0887"
             ],
             [
              0.1111111111111111,
              "#46039f"
             ],
             [
              0.2222222222222222,
              "#7201a8"
             ],
             [
              0.3333333333333333,
              "#9c179e"
             ],
             [
              0.4444444444444444,
              "#bd3786"
             ],
             [
              0.5555555555555556,
              "#d8576b"
             ],
             [
              0.6666666666666666,
              "#ed7953"
             ],
             [
              0.7777777777777778,
              "#fb9f3a"
             ],
             [
              0.8888888888888888,
              "#fdca26"
             ],
             [
              1,
              "#f0f921"
             ]
            ],
            "type": "histogram2d"
           }
          ],
          "histogram2dcontour": [
           {
            "colorbar": {
             "outlinewidth": 0,
             "ticks": ""
            },
            "colorscale": [
             [
              0,
              "#0d0887"
             ],
             [
              0.1111111111111111,
              "#46039f"
             ],
             [
              0.2222222222222222,
              "#7201a8"
             ],
             [
              0.3333333333333333,
              "#9c179e"
             ],
             [
              0.4444444444444444,
              "#bd3786"
             ],
             [
              0.5555555555555556,
              "#d8576b"
             ],
             [
              0.6666666666666666,
              "#ed7953"
             ],
             [
              0.7777777777777778,
              "#fb9f3a"
             ],
             [
              0.8888888888888888,
              "#fdca26"
             ],
             [
              1,
              "#f0f921"
             ]
            ],
            "type": "histogram2dcontour"
           }
          ],
          "mesh3d": [
           {
            "colorbar": {
             "outlinewidth": 0,
             "ticks": ""
            },
            "type": "mesh3d"
           }
          ],
          "parcoords": [
           {
            "line": {
             "colorbar": {
              "outlinewidth": 0,
              "ticks": ""
             }
            },
            "type": "parcoords"
           }
          ],
          "pie": [
           {
            "automargin": true,
            "type": "pie"
           }
          ],
          "scatter": [
           {
            "fillpattern": {
             "fillmode": "overlay",
             "size": 10,
             "solidity": 0.2
            },
            "type": "scatter"
           }
          ],
          "scatter3d": [
           {
            "line": {
             "colorbar": {
              "outlinewidth": 0,
              "ticks": ""
             }
            },
            "marker": {
             "colorbar": {
              "outlinewidth": 0,
              "ticks": ""
             }
            },
            "type": "scatter3d"
           }
          ],
          "scattercarpet": [
           {
            "marker": {
             "colorbar": {
              "outlinewidth": 0,
              "ticks": ""
             }
            },
            "type": "scattercarpet"
           }
          ],
          "scattergeo": [
           {
            "marker": {
             "colorbar": {
              "outlinewidth": 0,
              "ticks": ""
             }
            },
            "type": "scattergeo"
           }
          ],
          "scattergl": [
           {
            "marker": {
             "colorbar": {
              "outlinewidth": 0,
              "ticks": ""
             }
            },
            "type": "scattergl"
           }
          ],
          "scattermapbox": [
           {
            "marker": {
             "colorbar": {
              "outlinewidth": 0,
              "ticks": ""
             }
            },
            "type": "scattermapbox"
           }
          ],
          "scatterpolar": [
           {
            "marker": {
             "colorbar": {
              "outlinewidth": 0,
              "ticks": ""
             }
            },
            "type": "scatterpolar"
           }
          ],
          "scatterpolargl": [
           {
            "marker": {
             "colorbar": {
              "outlinewidth": 0,
              "ticks": ""
             }
            },
            "type": "scatterpolargl"
           }
          ],
          "scatterternary": [
           {
            "marker": {
             "colorbar": {
              "outlinewidth": 0,
              "ticks": ""
             }
            },
            "type": "scatterternary"
           }
          ],
          "surface": [
           {
            "colorbar": {
             "outlinewidth": 0,
             "ticks": ""
            },
            "colorscale": [
             [
              0,
              "#0d0887"
             ],
             [
              0.1111111111111111,
              "#46039f"
             ],
             [
              0.2222222222222222,
              "#7201a8"
             ],
             [
              0.3333333333333333,
              "#9c179e"
             ],
             [
              0.4444444444444444,
              "#bd3786"
             ],
             [
              0.5555555555555556,
              "#d8576b"
             ],
             [
              0.6666666666666666,
              "#ed7953"
             ],
             [
              0.7777777777777778,
              "#fb9f3a"
             ],
             [
              0.8888888888888888,
              "#fdca26"
             ],
             [
              1,
              "#f0f921"
             ]
            ],
            "type": "surface"
           }
          ],
          "table": [
           {
            "cells": {
             "fill": {
              "color": "#EBF0F8"
             },
             "line": {
              "color": "white"
             }
            },
            "header": {
             "fill": {
              "color": "#C8D4E3"
             },
             "line": {
              "color": "white"
             }
            },
            "type": "table"
           }
          ]
         },
         "layout": {
          "annotationdefaults": {
           "arrowcolor": "#2a3f5f",
           "arrowhead": 0,
           "arrowwidth": 1
          },
          "autotypenumbers": "strict",
          "coloraxis": {
           "colorbar": {
            "outlinewidth": 0,
            "ticks": ""
           }
          },
          "colorscale": {
           "diverging": [
            [
             0,
             "#8e0152"
            ],
            [
             0.1,
             "#c51b7d"
            ],
            [
             0.2,
             "#de77ae"
            ],
            [
             0.3,
             "#f1b6da"
            ],
            [
             0.4,
             "#fde0ef"
            ],
            [
             0.5,
             "#f7f7f7"
            ],
            [
             0.6,
             "#e6f5d0"
            ],
            [
             0.7,
             "#b8e186"
            ],
            [
             0.8,
             "#7fbc41"
            ],
            [
             0.9,
             "#4d9221"
            ],
            [
             1,
             "#276419"
            ]
           ],
           "sequential": [
            [
             0,
             "#0d0887"
            ],
            [
             0.1111111111111111,
             "#46039f"
            ],
            [
             0.2222222222222222,
             "#7201a8"
            ],
            [
             0.3333333333333333,
             "#9c179e"
            ],
            [
             0.4444444444444444,
             "#bd3786"
            ],
            [
             0.5555555555555556,
             "#d8576b"
            ],
            [
             0.6666666666666666,
             "#ed7953"
            ],
            [
             0.7777777777777778,
             "#fb9f3a"
            ],
            [
             0.8888888888888888,
             "#fdca26"
            ],
            [
             1,
             "#f0f921"
            ]
           ],
           "sequentialminus": [
            [
             0,
             "#0d0887"
            ],
            [
             0.1111111111111111,
             "#46039f"
            ],
            [
             0.2222222222222222,
             "#7201a8"
            ],
            [
             0.3333333333333333,
             "#9c179e"
            ],
            [
             0.4444444444444444,
             "#bd3786"
            ],
            [
             0.5555555555555556,
             "#d8576b"
            ],
            [
             0.6666666666666666,
             "#ed7953"
            ],
            [
             0.7777777777777778,
             "#fb9f3a"
            ],
            [
             0.8888888888888888,
             "#fdca26"
            ],
            [
             1,
             "#f0f921"
            ]
           ]
          },
          "colorway": [
           "#636efa",
           "#EF553B",
           "#00cc96",
           "#ab63fa",
           "#FFA15A",
           "#19d3f3",
           "#FF6692",
           "#B6E880",
           "#FF97FF",
           "#FECB52"
          ],
          "font": {
           "color": "#2a3f5f"
          },
          "geo": {
           "bgcolor": "white",
           "lakecolor": "white",
           "landcolor": "#E5ECF6",
           "showlakes": true,
           "showland": true,
           "subunitcolor": "white"
          },
          "hoverlabel": {
           "align": "left"
          },
          "hovermode": "closest",
          "mapbox": {
           "style": "light"
          },
          "paper_bgcolor": "white",
          "plot_bgcolor": "#E5ECF6",
          "polar": {
           "angularaxis": {
            "gridcolor": "white",
            "linecolor": "white",
            "ticks": ""
           },
           "bgcolor": "#E5ECF6",
           "radialaxis": {
            "gridcolor": "white",
            "linecolor": "white",
            "ticks": ""
           }
          },
          "scene": {
           "xaxis": {
            "backgroundcolor": "#E5ECF6",
            "gridcolor": "white",
            "gridwidth": 2,
            "linecolor": "white",
            "showbackground": true,
            "ticks": "",
            "zerolinecolor": "white"
           },
           "yaxis": {
            "backgroundcolor": "#E5ECF6",
            "gridcolor": "white",
            "gridwidth": 2,
            "linecolor": "white",
            "showbackground": true,
            "ticks": "",
            "zerolinecolor": "white"
           },
           "zaxis": {
            "backgroundcolor": "#E5ECF6",
            "gridcolor": "white",
            "gridwidth": 2,
            "linecolor": "white",
            "showbackground": true,
            "ticks": "",
            "zerolinecolor": "white"
           }
          },
          "shapedefaults": {
           "line": {
            "color": "#2a3f5f"
           }
          },
          "ternary": {
           "aaxis": {
            "gridcolor": "white",
            "linecolor": "white",
            "ticks": ""
           },
           "baxis": {
            "gridcolor": "white",
            "linecolor": "white",
            "ticks": ""
           },
           "bgcolor": "#E5ECF6",
           "caxis": {
            "gridcolor": "white",
            "linecolor": "white",
            "ticks": ""
           }
          },
          "title": {
           "x": 0.05
          },
          "xaxis": {
           "automargin": true,
           "gridcolor": "white",
           "linecolor": "white",
           "ticks": "",
           "title": {
            "standoff": 15
           },
           "zerolinecolor": "white",
           "zerolinewidth": 2
          },
          "yaxis": {
           "automargin": true,
           "gridcolor": "white",
           "linecolor": "white",
           "ticks": "",
           "title": {
            "standoff": 15
           },
           "zerolinecolor": "white",
           "zerolinewidth": 2
          }
         }
        },
        "title": {
         "text": "Sentiment_sum vs Difference for QB"
        },
        "xaxis": {
         "anchor": "y",
         "domain": [
          0,
          1
         ],
         "title": {
          "text": "Sentiment_sum"
         }
        },
        "yaxis": {
         "anchor": "x",
         "domain": [
          0,
          1
         ],
         "title": {
          "text": "Difference"
         }
        }
       }
      }
     },
     "metadata": {},
     "output_type": "display_data"
    },
    {
     "data": {
      "application/vnd.plotly.v1+json": {
       "config": {
        "plotlyServerURL": "https://plot.ly"
       },
       "data": [
        {
         "hovertemplate": "<b>%{hovertext}</b><br><br>Sentiment_sum=%{x}<br>Difference=%{y}<br>actual_position_rank2=%{marker.size}<extra></extra>",
         "hovertext": [
          "Alvin Kamara",
          "Antonio Gibson",
          "Antonio Gibson",
          "Breece Hall",
          "Brian Robinson Jr.",
          "Christian McCaffrey",
          "Chuba Hubbard",
          "Clyde Edwards-Helaire",
          "Dameon Pierce",
          "Damien Harris",
          "Darrell Henderson Jr.",
          "Ezekiel Elliott",
          "Isiah Pacheco",
          "Jamaal Williams",
          "James Robinson",
          "James Robinson",
          "Javonte Williams",
          "Javonte Williams",
          "Joe Mixon",
          "Jonathan Taylor",
          "Jonathan Taylor",
          "Josh Jacobs",
          "Josh Jacobs",
          "Mike Davis",
          "Rhamondre Stevenson",
          "Ronald Jones II",
          "Tony Pollard",
          "Travis Etienne Jr.",
          "Travis Etienne Jr.",
          "Trey Sermon",
          "Tyler Allgeier",
          "Zack Moss"
         ],
         "legendgroup": "",
         "marker": {
          "color": "#636efa",
          "size": [
           0.07142857142857142,
           0.1,
           0.058823529411764705,
           0.03571428571428571,
           0.02702702702702703,
           0.04,
           0.030303030303030304,
           0.02564102564102564,
           0.0625,
           0.0625,
           0.08333333333333333,
           0.125,
           0.02564102564102564,
           0.1,
           0.06666666666666667,
           0.027777777777777776,
           0.05263157894736842,
           0.01818181818181818,
           0.3333333333333333,
           1,
           0.047619047619047616,
           0.05,
           1,
           0.024390243902439025,
           0.1111111111111111,
           0.020833333333333332,
           0.14285714285714285,
           0.017543859649122806,
           0.05555555555555555,
           0.018867924528301886,
           0.02857142857142857,
           0.03225806451612903
          ],
          "sizemode": "area",
          "sizeref": 0.0025,
          "symbol": "circle"
         },
         "mode": "markers",
         "name": "",
         "orientation": "v",
         "showlegend": false,
         "type": "scatter",
         "x": [
          10,
          2,
          -1,
          -3,
          2,
          5,
          2,
          1,
          13,
          15,
          0,
          -2,
          4,
          4,
          7,
          3,
          5,
          3,
          4,
          13,
          -3,
          3,
          -4,
          4,
          3,
          4,
          3,
          4,
          8,
          2,
          4,
          4
         ],
         "xaxis": "x",
         "y": [
          -10,
          -3,
          6,
          -12,
          -6,
          -24,
          -4,
          -29,
          3,
          0,
          6,
          -3,
          -6,
          23,
          -1,
          -4,
          0,
          -45,
          6,
          5,
          -18,
          -8,
          17,
          -24,
          19,
          -22,
          20,
          -30,
          -5,
          -30,
          -2,
          -4
         ],
         "yaxis": "y"
        }
       ],
       "layout": {
        "legend": {
         "itemsizing": "constant",
         "tracegroupgap": 0
        },
        "shapes": [
         {
          "line": {
           "color": "black",
           "width": 2
          },
          "type": "line",
          "x0": -1,
          "x1": 1,
          "y0": 0,
          "y1": 0
         },
         {
          "line": {
           "color": "black",
           "width": 2
          },
          "type": "line",
          "x0": 0,
          "x1": 0,
          "y0": -1,
          "y1": 1
         }
        ],
        "template": {
         "data": {
          "bar": [
           {
            "error_x": {
             "color": "#2a3f5f"
            },
            "error_y": {
             "color": "#2a3f5f"
            },
            "marker": {
             "line": {
              "color": "#E5ECF6",
              "width": 0.5
             },
             "pattern": {
              "fillmode": "overlay",
              "size": 10,
              "solidity": 0.2
             }
            },
            "type": "bar"
           }
          ],
          "barpolar": [
           {
            "marker": {
             "line": {
              "color": "#E5ECF6",
              "width": 0.5
             },
             "pattern": {
              "fillmode": "overlay",
              "size": 10,
              "solidity": 0.2
             }
            },
            "type": "barpolar"
           }
          ],
          "carpet": [
           {
            "aaxis": {
             "endlinecolor": "#2a3f5f",
             "gridcolor": "white",
             "linecolor": "white",
             "minorgridcolor": "white",
             "startlinecolor": "#2a3f5f"
            },
            "baxis": {
             "endlinecolor": "#2a3f5f",
             "gridcolor": "white",
             "linecolor": "white",
             "minorgridcolor": "white",
             "startlinecolor": "#2a3f5f"
            },
            "type": "carpet"
           }
          ],
          "choropleth": [
           {
            "colorbar": {
             "outlinewidth": 0,
             "ticks": ""
            },
            "type": "choropleth"
           }
          ],
          "contour": [
           {
            "colorbar": {
             "outlinewidth": 0,
             "ticks": ""
            },
            "colorscale": [
             [
              0,
              "#0d0887"
             ],
             [
              0.1111111111111111,
              "#46039f"
             ],
             [
              0.2222222222222222,
              "#7201a8"
             ],
             [
              0.3333333333333333,
              "#9c179e"
             ],
             [
              0.4444444444444444,
              "#bd3786"
             ],
             [
              0.5555555555555556,
              "#d8576b"
             ],
             [
              0.6666666666666666,
              "#ed7953"
             ],
             [
              0.7777777777777778,
              "#fb9f3a"
             ],
             [
              0.8888888888888888,
              "#fdca26"
             ],
             [
              1,
              "#f0f921"
             ]
            ],
            "type": "contour"
           }
          ],
          "contourcarpet": [
           {
            "colorbar": {
             "outlinewidth": 0,
             "ticks": ""
            },
            "type": "contourcarpet"
           }
          ],
          "heatmap": [
           {
            "colorbar": {
             "outlinewidth": 0,
             "ticks": ""
            },
            "colorscale": [
             [
              0,
              "#0d0887"
             ],
             [
              0.1111111111111111,
              "#46039f"
             ],
             [
              0.2222222222222222,
              "#7201a8"
             ],
             [
              0.3333333333333333,
              "#9c179e"
             ],
             [
              0.4444444444444444,
              "#bd3786"
             ],
             [
              0.5555555555555556,
              "#d8576b"
             ],
             [
              0.6666666666666666,
              "#ed7953"
             ],
             [
              0.7777777777777778,
              "#fb9f3a"
             ],
             [
              0.8888888888888888,
              "#fdca26"
             ],
             [
              1,
              "#f0f921"
             ]
            ],
            "type": "heatmap"
           }
          ],
          "heatmapgl": [
           {
            "colorbar": {
             "outlinewidth": 0,
             "ticks": ""
            },
            "colorscale": [
             [
              0,
              "#0d0887"
             ],
             [
              0.1111111111111111,
              "#46039f"
             ],
             [
              0.2222222222222222,
              "#7201a8"
             ],
             [
              0.3333333333333333,
              "#9c179e"
             ],
             [
              0.4444444444444444,
              "#bd3786"
             ],
             [
              0.5555555555555556,
              "#d8576b"
             ],
             [
              0.6666666666666666,
              "#ed7953"
             ],
             [
              0.7777777777777778,
              "#fb9f3a"
             ],
             [
              0.8888888888888888,
              "#fdca26"
             ],
             [
              1,
              "#f0f921"
             ]
            ],
            "type": "heatmapgl"
           }
          ],
          "histogram": [
           {
            "marker": {
             "pattern": {
              "fillmode": "overlay",
              "size": 10,
              "solidity": 0.2
             }
            },
            "type": "histogram"
           }
          ],
          "histogram2d": [
           {
            "colorbar": {
             "outlinewidth": 0,
             "ticks": ""
            },
            "colorscale": [
             [
              0,
              "#0d0887"
             ],
             [
              0.1111111111111111,
              "#46039f"
             ],
             [
              0.2222222222222222,
              "#7201a8"
             ],
             [
              0.3333333333333333,
              "#9c179e"
             ],
             [
              0.4444444444444444,
              "#bd3786"
             ],
             [
              0.5555555555555556,
              "#d8576b"
             ],
             [
              0.6666666666666666,
              "#ed7953"
             ],
             [
              0.7777777777777778,
              "#fb9f3a"
             ],
             [
              0.8888888888888888,
              "#fdca26"
             ],
             [
              1,
              "#f0f921"
             ]
            ],
            "type": "histogram2d"
           }
          ],
          "histogram2dcontour": [
           {
            "colorbar": {
             "outlinewidth": 0,
             "ticks": ""
            },
            "colorscale": [
             [
              0,
              "#0d0887"
             ],
             [
              0.1111111111111111,
              "#46039f"
             ],
             [
              0.2222222222222222,
              "#7201a8"
             ],
             [
              0.3333333333333333,
              "#9c179e"
             ],
             [
              0.4444444444444444,
              "#bd3786"
             ],
             [
              0.5555555555555556,
              "#d8576b"
             ],
             [
              0.6666666666666666,
              "#ed7953"
             ],
             [
              0.7777777777777778,
              "#fb9f3a"
             ],
             [
              0.8888888888888888,
              "#fdca26"
             ],
             [
              1,
              "#f0f921"
             ]
            ],
            "type": "histogram2dcontour"
           }
          ],
          "mesh3d": [
           {
            "colorbar": {
             "outlinewidth": 0,
             "ticks": ""
            },
            "type": "mesh3d"
           }
          ],
          "parcoords": [
           {
            "line": {
             "colorbar": {
              "outlinewidth": 0,
              "ticks": ""
             }
            },
            "type": "parcoords"
           }
          ],
          "pie": [
           {
            "automargin": true,
            "type": "pie"
           }
          ],
          "scatter": [
           {
            "fillpattern": {
             "fillmode": "overlay",
             "size": 10,
             "solidity": 0.2
            },
            "type": "scatter"
           }
          ],
          "scatter3d": [
           {
            "line": {
             "colorbar": {
              "outlinewidth": 0,
              "ticks": ""
             }
            },
            "marker": {
             "colorbar": {
              "outlinewidth": 0,
              "ticks": ""
             }
            },
            "type": "scatter3d"
           }
          ],
          "scattercarpet": [
           {
            "marker": {
             "colorbar": {
              "outlinewidth": 0,
              "ticks": ""
             }
            },
            "type": "scattercarpet"
           }
          ],
          "scattergeo": [
           {
            "marker": {
             "colorbar": {
              "outlinewidth": 0,
              "ticks": ""
             }
            },
            "type": "scattergeo"
           }
          ],
          "scattergl": [
           {
            "marker": {
             "colorbar": {
              "outlinewidth": 0,
              "ticks": ""
             }
            },
            "type": "scattergl"
           }
          ],
          "scattermapbox": [
           {
            "marker": {
             "colorbar": {
              "outlinewidth": 0,
              "ticks": ""
             }
            },
            "type": "scattermapbox"
           }
          ],
          "scatterpolar": [
           {
            "marker": {
             "colorbar": {
              "outlinewidth": 0,
              "ticks": ""
             }
            },
            "type": "scatterpolar"
           }
          ],
          "scatterpolargl": [
           {
            "marker": {
             "colorbar": {
              "outlinewidth": 0,
              "ticks": ""
             }
            },
            "type": "scatterpolargl"
           }
          ],
          "scatterternary": [
           {
            "marker": {
             "colorbar": {
              "outlinewidth": 0,
              "ticks": ""
             }
            },
            "type": "scatterternary"
           }
          ],
          "surface": [
           {
            "colorbar": {
             "outlinewidth": 0,
             "ticks": ""
            },
            "colorscale": [
             [
              0,
              "#0d0887"
             ],
             [
              0.1111111111111111,
              "#46039f"
             ],
             [
              0.2222222222222222,
              "#7201a8"
             ],
             [
              0.3333333333333333,
              "#9c179e"
             ],
             [
              0.4444444444444444,
              "#bd3786"
             ],
             [
              0.5555555555555556,
              "#d8576b"
             ],
             [
              0.6666666666666666,
              "#ed7953"
             ],
             [
              0.7777777777777778,
              "#fb9f3a"
             ],
             [
              0.8888888888888888,
              "#fdca26"
             ],
             [
              1,
              "#f0f921"
             ]
            ],
            "type": "surface"
           }
          ],
          "table": [
           {
            "cells": {
             "fill": {
              "color": "#EBF0F8"
             },
             "line": {
              "color": "white"
             }
            },
            "header": {
             "fill": {
              "color": "#C8D4E3"
             },
             "line": {
              "color": "white"
             }
            },
            "type": "table"
           }
          ]
         },
         "layout": {
          "annotationdefaults": {
           "arrowcolor": "#2a3f5f",
           "arrowhead": 0,
           "arrowwidth": 1
          },
          "autotypenumbers": "strict",
          "coloraxis": {
           "colorbar": {
            "outlinewidth": 0,
            "ticks": ""
           }
          },
          "colorscale": {
           "diverging": [
            [
             0,
             "#8e0152"
            ],
            [
             0.1,
             "#c51b7d"
            ],
            [
             0.2,
             "#de77ae"
            ],
            [
             0.3,
             "#f1b6da"
            ],
            [
             0.4,
             "#fde0ef"
            ],
            [
             0.5,
             "#f7f7f7"
            ],
            [
             0.6,
             "#e6f5d0"
            ],
            [
             0.7,
             "#b8e186"
            ],
            [
             0.8,
             "#7fbc41"
            ],
            [
             0.9,
             "#4d9221"
            ],
            [
             1,
             "#276419"
            ]
           ],
           "sequential": [
            [
             0,
             "#0d0887"
            ],
            [
             0.1111111111111111,
             "#46039f"
            ],
            [
             0.2222222222222222,
             "#7201a8"
            ],
            [
             0.3333333333333333,
             "#9c179e"
            ],
            [
             0.4444444444444444,
             "#bd3786"
            ],
            [
             0.5555555555555556,
             "#d8576b"
            ],
            [
             0.6666666666666666,
             "#ed7953"
            ],
            [
             0.7777777777777778,
             "#fb9f3a"
            ],
            [
             0.8888888888888888,
             "#fdca26"
            ],
            [
             1,
             "#f0f921"
            ]
           ],
           "sequentialminus": [
            [
             0,
             "#0d0887"
            ],
            [
             0.1111111111111111,
             "#46039f"
            ],
            [
             0.2222222222222222,
             "#7201a8"
            ],
            [
             0.3333333333333333,
             "#9c179e"
            ],
            [
             0.4444444444444444,
             "#bd3786"
            ],
            [
             0.5555555555555556,
             "#d8576b"
            ],
            [
             0.6666666666666666,
             "#ed7953"
            ],
            [
             0.7777777777777778,
             "#fb9f3a"
            ],
            [
             0.8888888888888888,
             "#fdca26"
            ],
            [
             1,
             "#f0f921"
            ]
           ]
          },
          "colorway": [
           "#636efa",
           "#EF553B",
           "#00cc96",
           "#ab63fa",
           "#FFA15A",
           "#19d3f3",
           "#FF6692",
           "#B6E880",
           "#FF97FF",
           "#FECB52"
          ],
          "font": {
           "color": "#2a3f5f"
          },
          "geo": {
           "bgcolor": "white",
           "lakecolor": "white",
           "landcolor": "#E5ECF6",
           "showlakes": true,
           "showland": true,
           "subunitcolor": "white"
          },
          "hoverlabel": {
           "align": "left"
          },
          "hovermode": "closest",
          "mapbox": {
           "style": "light"
          },
          "paper_bgcolor": "white",
          "plot_bgcolor": "#E5ECF6",
          "polar": {
           "angularaxis": {
            "gridcolor": "white",
            "linecolor": "white",
            "ticks": ""
           },
           "bgcolor": "#E5ECF6",
           "radialaxis": {
            "gridcolor": "white",
            "linecolor": "white",
            "ticks": ""
           }
          },
          "scene": {
           "xaxis": {
            "backgroundcolor": "#E5ECF6",
            "gridcolor": "white",
            "gridwidth": 2,
            "linecolor": "white",
            "showbackground": true,
            "ticks": "",
            "zerolinecolor": "white"
           },
           "yaxis": {
            "backgroundcolor": "#E5ECF6",
            "gridcolor": "white",
            "gridwidth": 2,
            "linecolor": "white",
            "showbackground": true,
            "ticks": "",
            "zerolinecolor": "white"
           },
           "zaxis": {
            "backgroundcolor": "#E5ECF6",
            "gridcolor": "white",
            "gridwidth": 2,
            "linecolor": "white",
            "showbackground": true,
            "ticks": "",
            "zerolinecolor": "white"
           }
          },
          "shapedefaults": {
           "line": {
            "color": "#2a3f5f"
           }
          },
          "ternary": {
           "aaxis": {
            "gridcolor": "white",
            "linecolor": "white",
            "ticks": ""
           },
           "baxis": {
            "gridcolor": "white",
            "linecolor": "white",
            "ticks": ""
           },
           "bgcolor": "#E5ECF6",
           "caxis": {
            "gridcolor": "white",
            "linecolor": "white",
            "ticks": ""
           }
          },
          "title": {
           "x": 0.05
          },
          "xaxis": {
           "automargin": true,
           "gridcolor": "white",
           "linecolor": "white",
           "ticks": "",
           "title": {
            "standoff": 15
           },
           "zerolinecolor": "white",
           "zerolinewidth": 2
          },
          "yaxis": {
           "automargin": true,
           "gridcolor": "white",
           "linecolor": "white",
           "ticks": "",
           "title": {
            "standoff": 15
           },
           "zerolinecolor": "white",
           "zerolinewidth": 2
          }
         }
        },
        "title": {
         "text": "Sentiment_sum vs Difference for RB"
        },
        "xaxis": {
         "anchor": "y",
         "domain": [
          0,
          1
         ],
         "title": {
          "text": "Sentiment_sum"
         }
        },
        "yaxis": {
         "anchor": "x",
         "domain": [
          0,
          1
         ],
         "title": {
          "text": "Difference"
         }
        }
       }
      }
     },
     "metadata": {},
     "output_type": "display_data"
    },
    {
     "data": {
      "application/vnd.plotly.v1+json": {
       "config": {
        "plotlyServerURL": "https://plot.ly"
       },
       "data": [
        {
         "hovertemplate": "<b>%{hovertext}</b><br><br>Sentiment_sum=%{x}<br>Difference=%{y}<br>actual_position_rank2=%{marker.size}<extra></extra>",
         "hovertext": [
          "Cole Kmet",
          "Dallas Goedert",
          "Darren Waller",
          "David Njoku",
          "Evan Engram",
          "Kyle Pitts",
          "Kyle Pitts",
          "Kyle Pitts",
          "Logan Thomas",
          "Mark Andrews",
          "Noah Fant",
          "T.J. Hockenson",
          "T.J. Hockenson",
          "Travis Kelce"
         ],
         "legendgroup": "",
         "marker": {
          "color": "#636efa",
          "size": [
           0.07142857142857142,
           0.16666666666666666,
           0.0625,
           0.1111111111111111,
           0.05263157894736842,
           0.125,
           0.08333333333333333,
           0.125,
           0.05555555555555555,
           0.5,
           0.05555555555555555,
           0.3333333333333333,
           0.3333333333333333,
           1
          ],
          "sizemode": "area",
          "sizeref": 0.0025,
          "symbol": "circle"
         },
         "mode": "markers",
         "name": "",
         "orientation": "v",
         "showlegend": false,
         "type": "scatter",
         "x": [
          3,
          3,
          3,
          8,
          2,
          3,
          15,
          3,
          4,
          3,
          -3,
          8,
          5,
          10
         ],
         "xaxis": "x",
         "y": [
          -5,
          2,
          -11,
          1,
          -10,
          -4,
          -9,
          -4,
          -11,
          -1,
          -8,
          2,
          2,
          0
         ],
         "yaxis": "y"
        }
       ],
       "layout": {
        "legend": {
         "itemsizing": "constant",
         "tracegroupgap": 0
        },
        "shapes": [
         {
          "line": {
           "color": "black",
           "width": 2
          },
          "type": "line",
          "x0": -1,
          "x1": 1,
          "y0": 0,
          "y1": 0
         },
         {
          "line": {
           "color": "black",
           "width": 2
          },
          "type": "line",
          "x0": 0,
          "x1": 0,
          "y0": -1,
          "y1": 1
         }
        ],
        "template": {
         "data": {
          "bar": [
           {
            "error_x": {
             "color": "#2a3f5f"
            },
            "error_y": {
             "color": "#2a3f5f"
            },
            "marker": {
             "line": {
              "color": "#E5ECF6",
              "width": 0.5
             },
             "pattern": {
              "fillmode": "overlay",
              "size": 10,
              "solidity": 0.2
             }
            },
            "type": "bar"
           }
          ],
          "barpolar": [
           {
            "marker": {
             "line": {
              "color": "#E5ECF6",
              "width": 0.5
             },
             "pattern": {
              "fillmode": "overlay",
              "size": 10,
              "solidity": 0.2
             }
            },
            "type": "barpolar"
           }
          ],
          "carpet": [
           {
            "aaxis": {
             "endlinecolor": "#2a3f5f",
             "gridcolor": "white",
             "linecolor": "white",
             "minorgridcolor": "white",
             "startlinecolor": "#2a3f5f"
            },
            "baxis": {
             "endlinecolor": "#2a3f5f",
             "gridcolor": "white",
             "linecolor": "white",
             "minorgridcolor": "white",
             "startlinecolor": "#2a3f5f"
            },
            "type": "carpet"
           }
          ],
          "choropleth": [
           {
            "colorbar": {
             "outlinewidth": 0,
             "ticks": ""
            },
            "type": "choropleth"
           }
          ],
          "contour": [
           {
            "colorbar": {
             "outlinewidth": 0,
             "ticks": ""
            },
            "colorscale": [
             [
              0,
              "#0d0887"
             ],
             [
              0.1111111111111111,
              "#46039f"
             ],
             [
              0.2222222222222222,
              "#7201a8"
             ],
             [
              0.3333333333333333,
              "#9c179e"
             ],
             [
              0.4444444444444444,
              "#bd3786"
             ],
             [
              0.5555555555555556,
              "#d8576b"
             ],
             [
              0.6666666666666666,
              "#ed7953"
             ],
             [
              0.7777777777777778,
              "#fb9f3a"
             ],
             [
              0.8888888888888888,
              "#fdca26"
             ],
             [
              1,
              "#f0f921"
             ]
            ],
            "type": "contour"
           }
          ],
          "contourcarpet": [
           {
            "colorbar": {
             "outlinewidth": 0,
             "ticks": ""
            },
            "type": "contourcarpet"
           }
          ],
          "heatmap": [
           {
            "colorbar": {
             "outlinewidth": 0,
             "ticks": ""
            },
            "colorscale": [
             [
              0,
              "#0d0887"
             ],
             [
              0.1111111111111111,
              "#46039f"
             ],
             [
              0.2222222222222222,
              "#7201a8"
             ],
             [
              0.3333333333333333,
              "#9c179e"
             ],
             [
              0.4444444444444444,
              "#bd3786"
             ],
             [
              0.5555555555555556,
              "#d8576b"
             ],
             [
              0.6666666666666666,
              "#ed7953"
             ],
             [
              0.7777777777777778,
              "#fb9f3a"
             ],
             [
              0.8888888888888888,
              "#fdca26"
             ],
             [
              1,
              "#f0f921"
             ]
            ],
            "type": "heatmap"
           }
          ],
          "heatmapgl": [
           {
            "colorbar": {
             "outlinewidth": 0,
             "ticks": ""
            },
            "colorscale": [
             [
              0,
              "#0d0887"
             ],
             [
              0.1111111111111111,
              "#46039f"
             ],
             [
              0.2222222222222222,
              "#7201a8"
             ],
             [
              0.3333333333333333,
              "#9c179e"
             ],
             [
              0.4444444444444444,
              "#bd3786"
             ],
             [
              0.5555555555555556,
              "#d8576b"
             ],
             [
              0.6666666666666666,
              "#ed7953"
             ],
             [
              0.7777777777777778,
              "#fb9f3a"
             ],
             [
              0.8888888888888888,
              "#fdca26"
             ],
             [
              1,
              "#f0f921"
             ]
            ],
            "type": "heatmapgl"
           }
          ],
          "histogram": [
           {
            "marker": {
             "pattern": {
              "fillmode": "overlay",
              "size": 10,
              "solidity": 0.2
             }
            },
            "type": "histogram"
           }
          ],
          "histogram2d": [
           {
            "colorbar": {
             "outlinewidth": 0,
             "ticks": ""
            },
            "colorscale": [
             [
              0,
              "#0d0887"
             ],
             [
              0.1111111111111111,
              "#46039f"
             ],
             [
              0.2222222222222222,
              "#7201a8"
             ],
             [
              0.3333333333333333,
              "#9c179e"
             ],
             [
              0.4444444444444444,
              "#bd3786"
             ],
             [
              0.5555555555555556,
              "#d8576b"
             ],
             [
              0.6666666666666666,
              "#ed7953"
             ],
             [
              0.7777777777777778,
              "#fb9f3a"
             ],
             [
              0.8888888888888888,
              "#fdca26"
             ],
             [
              1,
              "#f0f921"
             ]
            ],
            "type": "histogram2d"
           }
          ],
          "histogram2dcontour": [
           {
            "colorbar": {
             "outlinewidth": 0,
             "ticks": ""
            },
            "colorscale": [
             [
              0,
              "#0d0887"
             ],
             [
              0.1111111111111111,
              "#46039f"
             ],
             [
              0.2222222222222222,
              "#7201a8"
             ],
             [
              0.3333333333333333,
              "#9c179e"
             ],
             [
              0.4444444444444444,
              "#bd3786"
             ],
             [
              0.5555555555555556,
              "#d8576b"
             ],
             [
              0.6666666666666666,
              "#ed7953"
             ],
             [
              0.7777777777777778,
              "#fb9f3a"
             ],
             [
              0.8888888888888888,
              "#fdca26"
             ],
             [
              1,
              "#f0f921"
             ]
            ],
            "type": "histogram2dcontour"
           }
          ],
          "mesh3d": [
           {
            "colorbar": {
             "outlinewidth": 0,
             "ticks": ""
            },
            "type": "mesh3d"
           }
          ],
          "parcoords": [
           {
            "line": {
             "colorbar": {
              "outlinewidth": 0,
              "ticks": ""
             }
            },
            "type": "parcoords"
           }
          ],
          "pie": [
           {
            "automargin": true,
            "type": "pie"
           }
          ],
          "scatter": [
           {
            "fillpattern": {
             "fillmode": "overlay",
             "size": 10,
             "solidity": 0.2
            },
            "type": "scatter"
           }
          ],
          "scatter3d": [
           {
            "line": {
             "colorbar": {
              "outlinewidth": 0,
              "ticks": ""
             }
            },
            "marker": {
             "colorbar": {
              "outlinewidth": 0,
              "ticks": ""
             }
            },
            "type": "scatter3d"
           }
          ],
          "scattercarpet": [
           {
            "marker": {
             "colorbar": {
              "outlinewidth": 0,
              "ticks": ""
             }
            },
            "type": "scattercarpet"
           }
          ],
          "scattergeo": [
           {
            "marker": {
             "colorbar": {
              "outlinewidth": 0,
              "ticks": ""
             }
            },
            "type": "scattergeo"
           }
          ],
          "scattergl": [
           {
            "marker": {
             "colorbar": {
              "outlinewidth": 0,
              "ticks": ""
             }
            },
            "type": "scattergl"
           }
          ],
          "scattermapbox": [
           {
            "marker": {
             "colorbar": {
              "outlinewidth": 0,
              "ticks": ""
             }
            },
            "type": "scattermapbox"
           }
          ],
          "scatterpolar": [
           {
            "marker": {
             "colorbar": {
              "outlinewidth": 0,
              "ticks": ""
             }
            },
            "type": "scatterpolar"
           }
          ],
          "scatterpolargl": [
           {
            "marker": {
             "colorbar": {
              "outlinewidth": 0,
              "ticks": ""
             }
            },
            "type": "scatterpolargl"
           }
          ],
          "scatterternary": [
           {
            "marker": {
             "colorbar": {
              "outlinewidth": 0,
              "ticks": ""
             }
            },
            "type": "scatterternary"
           }
          ],
          "surface": [
           {
            "colorbar": {
             "outlinewidth": 0,
             "ticks": ""
            },
            "colorscale": [
             [
              0,
              "#0d0887"
             ],
             [
              0.1111111111111111,
              "#46039f"
             ],
             [
              0.2222222222222222,
              "#7201a8"
             ],
             [
              0.3333333333333333,
              "#9c179e"
             ],
             [
              0.4444444444444444,
              "#bd3786"
             ],
             [
              0.5555555555555556,
              "#d8576b"
             ],
             [
              0.6666666666666666,
              "#ed7953"
             ],
             [
              0.7777777777777778,
              "#fb9f3a"
             ],
             [
              0.8888888888888888,
              "#fdca26"
             ],
             [
              1,
              "#f0f921"
             ]
            ],
            "type": "surface"
           }
          ],
          "table": [
           {
            "cells": {
             "fill": {
              "color": "#EBF0F8"
             },
             "line": {
              "color": "white"
             }
            },
            "header": {
             "fill": {
              "color": "#C8D4E3"
             },
             "line": {
              "color": "white"
             }
            },
            "type": "table"
           }
          ]
         },
         "layout": {
          "annotationdefaults": {
           "arrowcolor": "#2a3f5f",
           "arrowhead": 0,
           "arrowwidth": 1
          },
          "autotypenumbers": "strict",
          "coloraxis": {
           "colorbar": {
            "outlinewidth": 0,
            "ticks": ""
           }
          },
          "colorscale": {
           "diverging": [
            [
             0,
             "#8e0152"
            ],
            [
             0.1,
             "#c51b7d"
            ],
            [
             0.2,
             "#de77ae"
            ],
            [
             0.3,
             "#f1b6da"
            ],
            [
             0.4,
             "#fde0ef"
            ],
            [
             0.5,
             "#f7f7f7"
            ],
            [
             0.6,
             "#e6f5d0"
            ],
            [
             0.7,
             "#b8e186"
            ],
            [
             0.8,
             "#7fbc41"
            ],
            [
             0.9,
             "#4d9221"
            ],
            [
             1,
             "#276419"
            ]
           ],
           "sequential": [
            [
             0,
             "#0d0887"
            ],
            [
             0.1111111111111111,
             "#46039f"
            ],
            [
             0.2222222222222222,
             "#7201a8"
            ],
            [
             0.3333333333333333,
             "#9c179e"
            ],
            [
             0.4444444444444444,
             "#bd3786"
            ],
            [
             0.5555555555555556,
             "#d8576b"
            ],
            [
             0.6666666666666666,
             "#ed7953"
            ],
            [
             0.7777777777777778,
             "#fb9f3a"
            ],
            [
             0.8888888888888888,
             "#fdca26"
            ],
            [
             1,
             "#f0f921"
            ]
           ],
           "sequentialminus": [
            [
             0,
             "#0d0887"
            ],
            [
             0.1111111111111111,
             "#46039f"
            ],
            [
             0.2222222222222222,
             "#7201a8"
            ],
            [
             0.3333333333333333,
             "#9c179e"
            ],
            [
             0.4444444444444444,
             "#bd3786"
            ],
            [
             0.5555555555555556,
             "#d8576b"
            ],
            [
             0.6666666666666666,
             "#ed7953"
            ],
            [
             0.7777777777777778,
             "#fb9f3a"
            ],
            [
             0.8888888888888888,
             "#fdca26"
            ],
            [
             1,
             "#f0f921"
            ]
           ]
          },
          "colorway": [
           "#636efa",
           "#EF553B",
           "#00cc96",
           "#ab63fa",
           "#FFA15A",
           "#19d3f3",
           "#FF6692",
           "#B6E880",
           "#FF97FF",
           "#FECB52"
          ],
          "font": {
           "color": "#2a3f5f"
          },
          "geo": {
           "bgcolor": "white",
           "lakecolor": "white",
           "landcolor": "#E5ECF6",
           "showlakes": true,
           "showland": true,
           "subunitcolor": "white"
          },
          "hoverlabel": {
           "align": "left"
          },
          "hovermode": "closest",
          "mapbox": {
           "style": "light"
          },
          "paper_bgcolor": "white",
          "plot_bgcolor": "#E5ECF6",
          "polar": {
           "angularaxis": {
            "gridcolor": "white",
            "linecolor": "white",
            "ticks": ""
           },
           "bgcolor": "#E5ECF6",
           "radialaxis": {
            "gridcolor": "white",
            "linecolor": "white",
            "ticks": ""
           }
          },
          "scene": {
           "xaxis": {
            "backgroundcolor": "#E5ECF6",
            "gridcolor": "white",
            "gridwidth": 2,
            "linecolor": "white",
            "showbackground": true,
            "ticks": "",
            "zerolinecolor": "white"
           },
           "yaxis": {
            "backgroundcolor": "#E5ECF6",
            "gridcolor": "white",
            "gridwidth": 2,
            "linecolor": "white",
            "showbackground": true,
            "ticks": "",
            "zerolinecolor": "white"
           },
           "zaxis": {
            "backgroundcolor": "#E5ECF6",
            "gridcolor": "white",
            "gridwidth": 2,
            "linecolor": "white",
            "showbackground": true,
            "ticks": "",
            "zerolinecolor": "white"
           }
          },
          "shapedefaults": {
           "line": {
            "color": "#2a3f5f"
           }
          },
          "ternary": {
           "aaxis": {
            "gridcolor": "white",
            "linecolor": "white",
            "ticks": ""
           },
           "baxis": {
            "gridcolor": "white",
            "linecolor": "white",
            "ticks": ""
           },
           "bgcolor": "#E5ECF6",
           "caxis": {
            "gridcolor": "white",
            "linecolor": "white",
            "ticks": ""
           }
          },
          "title": {
           "x": 0.05
          },
          "xaxis": {
           "automargin": true,
           "gridcolor": "white",
           "linecolor": "white",
           "ticks": "",
           "title": {
            "standoff": 15
           },
           "zerolinecolor": "white",
           "zerolinewidth": 2
          },
          "yaxis": {
           "automargin": true,
           "gridcolor": "white",
           "linecolor": "white",
           "ticks": "",
           "title": {
            "standoff": 15
           },
           "zerolinecolor": "white",
           "zerolinewidth": 2
          }
         }
        },
        "title": {
         "text": "Sentiment_sum vs Difference for TE"
        },
        "xaxis": {
         "anchor": "y",
         "domain": [
          0,
          1
         ],
         "title": {
          "text": "Sentiment_sum"
         }
        },
        "yaxis": {
         "anchor": "x",
         "domain": [
          0,
          1
         ],
         "title": {
          "text": "Difference"
         }
        }
       }
      }
     },
     "metadata": {},
     "output_type": "display_data"
    }
   ],
   "source": [
    "sample_df = pd.read_csv('/Users/yushunli/Documents/Data Science/jupyter_notebook/Fantasy Football/ffnewsletter.csv')\n",
    "#Filter for rows where 'actual_position_rank' is not null\n",
    "sample_df = sample_df[sample_df['actual_position_rank'].notnull()]\n",
    "sample_df['actual_position_rank2'] = 1 / sample_df['actual_position_rank']\n",
    "for i in sample_df['Position'].unique():\n",
    "    #Create a new column for inverse of 'actual_position_rank'\n",
    "    #Plot the scatter plot using plotly and set the 'Player' as the hover text, use the inverse of 'actual_position_rank' as size\n",
    "    fig = px.scatter(sample_df[sample_df['Position'] == i], x='Sentiment_sum', y='Difference', hover_name='Player', size='actual_position_rank2', title='Sentiment_sum vs Difference for ' + i)\n",
    "    #Plot a black line at y = 0\n",
    "    fig.add_shape(type='line', x0=-1, y0=0, x1=1, y1=0, line=dict(color='black', width=2))\n",
    "    #Plot a black line at x = 0\n",
    "    fig.add_shape(type='line', x0=0, y0=-1, x1=0, y1=1, line=dict(color='black', width=2))\n",
    "    #Plot a regression line\n",
    "    #fig.add_trace(go.Scatter(x=sample_df[sample_df['Position'] == i]['Sentiment_sum'], y=sample_df[sample_df['Position'] == i]['Difference'], mode='lines', name='Regression Line'))\n",
    "    #Show the plot\n",
    "    fig.show()\n"
   ]
  },
  {
   "cell_type": "code",
   "execution_count": 179,
   "metadata": {},
   "outputs": [
    {
     "name": "stdout",
     "output_type": "stream",
     "text": [
      "WR 0.047880092719984425\n",
      "QB -0.18859727265383266\n",
      "RB 0.06514825247809901\n",
      "TE 0.20470395978399825\n"
     ]
    }
   ],
   "source": [
    "#Calculate the correlation between 'Sentiment_sum' and 'Difference' from the sample_df\n",
    "for i in sample_df.Position.unique():\n",
    "    subset = sample_df[sample_df['Position'] == i]\n",
    "    #Calculate the correlation between 'Sentiment_sum' and 'Difference' from the subset and print the results\n",
    "    print(i, subset['Sentiment_sum'].corr(subset['Difference']))"
   ]
  },
  {
   "cell_type": "code",
   "execution_count": null,
   "metadata": {},
   "outputs": [],
   "source": []
  }
 ],
 "metadata": {
  "kernelspec": {
   "display_name": "base",
   "language": "python",
   "name": "python3"
  },
  "language_info": {
   "codemirror_mode": {
    "name": "ipython",
    "version": 3
   },
   "file_extension": ".py",
   "mimetype": "text/x-python",
   "name": "python",
   "nbconvert_exporter": "python",
   "pygments_lexer": "ipython3",
   "version": "3.8.5"
  },
  "orig_nbformat": 4
 },
 "nbformat": 4,
 "nbformat_minor": 2
}
