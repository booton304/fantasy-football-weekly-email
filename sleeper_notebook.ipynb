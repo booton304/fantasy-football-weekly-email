{
 "cells": [
  {
   "cell_type": "markdown",
   "metadata": {},
   "source": [
    "## I. Load & Process the data from Sleeper"
   ]
  },
  {
   "cell_type": "code",
   "execution_count": 1,
   "metadata": {},
   "outputs": [
    {
     "name": "stdout",
     "output_type": "stream",
     "text": [
      "Loaded the League Data from Sleeper\n",
      " - Week 1 has been processed\n",
      " - Week 2 has been processed\n",
      "Completed processing scores and updating standings\n",
      "Saved week 2 matchup data\n"
     ]
    }
   ],
   "source": [
    "from sleeper_functions import *\n",
    "#Define week\n",
    "week = 2\n",
    "matchup_df, updated_standings, HT_Owner, HT_Score, HP_Owner, HP_Player, HP_Score = run_sleeper_weekly(week)"
   ]
  },
  {
   "cell_type": "markdown",
   "metadata": {},
   "source": [
    "## II. Feed Data into GPT"
   ]
  },
  {
   "cell_type": "code",
   "execution_count": 25,
   "metadata": {},
   "outputs": [
    {
     "name": "stdout",
     "output_type": "stream",
     "text": [
      "Hey there, \n",
      "\n",
      "Week 2 in our one-year-old Dynasty league is officially in the books, and boy, was it a doozy! We had some high-scoring matchups, some underperforming teams, and some, well, unfortunate sounding team names. Let's dive right into the action!\n",
      "\n",
      "In the highlight matchup of the week, Andrew's \"King Drew\" continued his dominance by taking down JD's \"Big Cheese.\" Andrew rode the arm of Daniel Jones, who somehow managed to put up 31.74 points (I didn't know he had that in him either) and Tyreek Hill's steady performance to secure a 121.08-109.54 victory. JD, on the other hand, couldn't quite keep up despite strong showings from Bijan Robinson and Derrick Henry. It seems the \"Big Cheese\" may have melted a bit this week.\n",
      "\n",
      "Johnny's \"ChubbHub\" had a tough go of it as he fell to David's \"Korean Jesus\" in a battle that went down to the wire. Despite strong performances from Jared Goff and Saquon Barkley, Johnny couldn't overcome a receiving corps led by Justin Jefferson and a solid outing from Mac Jones. Maybe Johnny needs to rename his team to \"Change of Fortunes Hub\"?\n",
      "\n",
      "While we're on the topic of wild finishes, Richard's \"RAVENS KICKERS & D & O\" narrowly escaped with a win over Scott's \"sc00t3r.\" Joe Burrow lit up the scoreboard for Richard, while Russell Wilson did his best to keep Scott in the game. In the end, it was Richard's decision to stream the Baltimore Ravens defense that made the difference. I guess their kickers, defense, and offense can all contribute in fantasy football!\n",
      "\n",
      "Finally, we have to give a shoutout to the highest scoring team of the week, Kyle's \"GOAT Dynasty.\" Josh Allen put on a show, and his supporting cast of Deebo Samuel, Mike Evans, and T.J. Hockenson all delivered big performances. With a whopping 172.88 points, Kyle's team is looking like a force to be reckoned with. Can anyone knock them off their perch?\n",
      "\n",
      "On the other end of the spectrum, we have Peter's appropriately named \"Trust the Process\" team, which could maybe use a new process. Trevor Lawrence's disappointing start and a lackluster performance from his running backs left Peter with just 92.78 points. Hang in there, Peter. Remember, it's a marathon, not a sprint.\n",
      "\n",
      "Looking at the standings, five teams have jumped out to a perfect 2-0 start: Kyle's \"GOAT Dynasty,\" Andrew's \"King Drew,\" Dan's \"Prototypical NFL Corner,\" Henry's \"haamsuplo21,\" and David's \"Korean Jesus.\" These teams are off to a hot start and will be looking to keep the momentum rolling in Week 3. On the flip side, Johnny's \"ChubbHub,\" Scott's \"sc00t3r,\" Tom's \"I Choose You, Pukachu,\" JD's \"Big Cheese,\" and Peter's \"Trust the Process\" have some work to do to turn their seasons around.\n",
      "\n",
      "That wraps up Week 2, folks! As always, stay attentive to the waiver wire, make those trades while they're hot, and remember, it's just a game until you lose to your brother-in-law and have to hear about it for a year. Good luck in Week 3!\n",
      "\n",
      "Cheers,\n",
      "Your AI Fantasy Football Commissioner\n"
     ]
    }
   ],
   "source": [
    "summary = generate_summary(week, matchup_df, updated_standings)\n",
    "print(summary)"
   ]
  },
  {
   "cell_type": "markdown",
   "metadata": {},
   "source": [
    "## III. Draft Summary Email via Smtpblib"
   ]
  },
  {
   "cell_type": "code",
   "execution_count": 27,
   "metadata": {},
   "outputs": [
    {
     "data": {
      "text/plain": [
       "(221,\n",
       " b'2.0.0 closing connection d3-20020a0caa03000000b00655e3e86ad7sm4834421qvb.6 - gsmtp')"
      ]
     },
     "execution_count": 27,
     "metadata": {},
     "output_type": "execute_result"
    }
   ],
   "source": [
    "#Load Credentials\n",
    "import json\n",
    "# Load the configuration from config.json\n",
    "with open('config.json') as config_file:\n",
    "    config_data = json.load(config_file)\n",
    "import smtplib\n",
    "from email.mime.text import MIMEText\n",
    "from email.mime.multipart import MIMEMultipart\n",
    "\n",
    "# Load the user name and password from yaml file\n",
    "user, password = config_data['gmail']['GMAIL_USER'], config_data['gmail']['GMAIL_PW']\n",
    "\n",
    "matchup = matchup_df.to_html(index=False)\n",
    "standings = updated_standings.to_html(index=False)\n",
    "\n",
    "# Initialize the server\n",
    "s = smtplib.SMTP('smtp.gmail.com', 587)\n",
    "s.starttls()\n",
    "s.login(user, password)\n",
    "\n",
    "# Define message\n",
    "subject = f\"Dynasty FF Week {week} Recap\"\n",
    "summary_html = summary.replace('\\n', '<br>')\n",
    "body = f\"\"\"\\\n",
    "<html>\n",
    "  <head></head>\n",
    "  <body>\n",
    "    <h1>{subject}</h1>\n",
    "    <br>{summary_html}</br>\n",
    "    <br>\n",
    "    <hr>\n",
    "    <p>Highest Scoring Team: {HT_Owner}: {HT_Score} points</p>\n",
    "    <p>Highest Scoring Player: {HP_Owner} - {HP_Player}: {HP_Score} Points</p>\n",
    "    <br>\n",
    "    {standings}\n",
    "  </body>\n",
    "</html>\n",
    "\"\"\"\n",
    "\n",
    "recipients = list(config_data['emails']['sleeper_email_dict'].values())\n",
    "sender = \"peteryushunli@gmail.com\"\n",
    "\n",
    "msg = MIMEMultipart(\"alternative\")\n",
    "msg[\"From\"] = sender\n",
    "msg[\"To\"] = \", \".join(recipients)\n",
    "msg[\"Subject\"] = subject\n",
    "\n",
    "# Attach the HTML body\n",
    "msg.attach(MIMEText(body, 'html'))\n",
    "\n",
    "# Send email\n",
    "s.sendmail(sender, recipients, msg.as_string())\n",
    "\n",
    "# Terminate the session\n",
    "s.quit()"
   ]
  }
 ],
 "metadata": {
  "kernelspec": {
   "display_name": "base",
   "language": "python",
   "name": "python3"
  },
  "language_info": {
   "codemirror_mode": {
    "name": "ipython",
    "version": 3
   },
   "file_extension": ".py",
   "mimetype": "text/x-python",
   "name": "python",
   "nbconvert_exporter": "python",
   "pygments_lexer": "ipython3",
   "version": "3.8.5"
  },
  "orig_nbformat": 4
 },
 "nbformat": 4,
 "nbformat_minor": 2
}
