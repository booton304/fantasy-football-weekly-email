{
 "cells": [
  {
   "cell_type": "markdown",
   "metadata": {},
   "source": [
    "## I. Load & Process the data from Sleeper"
   ]
  },
  {
   "cell_type": "code",
   "execution_count": 1,
   "metadata": {},
   "outputs": [
    {
     "name": "stdout",
     "output_type": "stream",
     "text": [
      "Loaded the League Data from Sleeper\n",
      " - Week 1 has been processed\n",
      " - Week 2 has been processed\n",
      " - Week 3 has been processed\n",
      "Completed processing scores and updating standings\n",
      "Saved week 3 matchup data\n"
     ]
    }
   ],
   "source": [
    "from sleeper_functions import *\n",
    "#Define week\n",
    "week = 3\n",
    "matchup_df, updated_standings, HT_Owner, HT_Score, HP_Owner, HP_Player, HP_Score = run_sleeper_weekly(week)"
   ]
  },
  {
   "cell_type": "markdown",
   "metadata": {},
   "source": [
    "## II. Feed Data into GPT"
   ]
  },
  {
   "cell_type": "code",
   "execution_count": 3,
   "metadata": {},
   "outputs": [
    {
     "name": "stdout",
     "output_type": "stream",
     "text": [
      "Generated the summary\n",
      "Hello you fantasy football savages,\n",
      "\n",
      "We're here today to retrospect this roller-coaster of a week in our Dynasty league. The bruises are fresh, the tears are still wet, and the laughter, oh the sweet laughter rings loudly in our ears. \n",
      "\n",
      "First things first, let's tip our helmets to 'haamsuplo21' owned by none other than Henry, who smashed everyone with a whopping 182.8 points. Yes, you read it right! Apparently, Justin Herbert isn't the only one who can throw bombs; Henry here made sure his metaphorical football landed boom smack in the middle of our poor, unsuspecting hearts. \"Stefon Diggs\", who put up a handsome 15.1 pts, fast becoming the WWE superstar of his team. Bravo Henry, your fantasy prowess is as surprising as Drake’s ability to switch accents!\n",
      "\n",
      "On the other corner, we have 'Trust the Process' by the way-downtrodden Peter - going 0-3 after a depressing 71.52 showing. Peter, my man, you gotta trust the process! That process might involve trading Trevor Lawrence, who pulled in a less-than-thrilling 15.36 pts. Nobody sees you cry if you're under a helmet, right Peter?\n",
      "\n",
      "Meanwhile, Johnny faced JD, in a fight that was mildly more exciting than a lame duck race. Johnny's team 'ChubbHub' won with 149.38 points, led by Davante Adams, who had 35.7 points. On the other side, JD must have been wishing Tua could share some of his 28.36 points load with Derrick Henry who barely showed up with 2 pts. Yikes! JD, change the name from Big Cheese to Shredded Cheese?\n",
      "\n",
      "Then we had Scott, whose team 'sc00t3r' put up numbers that made us question if they misunderstood the concept of \"high scoring.\" Pulling in with a weak 78.64, I think Scott spent too much time on his scooter rather than managing his team.\n",
      "\n",
      "Fantasy football is an unpredictable beast, as David, owner of 'Korean Jesus,' experienced. Landing Mac Jones whose 13.34 performance was the antithesis of the real life Messis of football is some hard luck. But hey, even Jesus had a bad day.\n",
      "\n",
      "Wrapping things up here, we anxiously await what Week 4 will bring. If there's one lesson we've learned from this week's matchups, it's clear: Fantasy football giveth, and fantasy football taketh away. \n",
      "\n",
      "Until the next rollicking round,\n",
      "Your friendly AI Commissioner.\n"
     ]
    }
   ],
   "source": [
    "summary = generate_summary(week, matchup_df, updated_standings)\n",
    "print(summary)"
   ]
  },
  {
   "cell_type": "markdown",
   "metadata": {},
   "source": [
    "## III. Draft Summary Email via Smtpblib"
   ]
  },
  {
   "cell_type": "code",
   "execution_count": 3,
   "metadata": {},
   "outputs": [
    {
     "data": {
      "text/plain": [
       "(221,\n",
       " b'2.0.0 closing connection he21-20020a05622a601500b004120ae42859sm2647481qtb.90 - gsmtp')"
      ]
     },
     "execution_count": 3,
     "metadata": {},
     "output_type": "execute_result"
    }
   ],
   "source": [
    "#Load Credentials\n",
    "import json\n",
    "# Load the configuration from config.json\n",
    "with open('config.json') as config_file:\n",
    "    config_data = json.load(config_file)\n",
    "import smtplib\n",
    "from email.mime.text import MIMEText\n",
    "from email.mime.multipart import MIMEMultipart\n",
    "\n",
    "# Load the user name and password from yaml file\n",
    "user, password = config_data['gmail']['GMAIL_USER'], config_data['gmail']['GMAIL_PW']\n",
    "\n",
    "matchup = matchup_df.to_html(index=False)\n",
    "standings = updated_standings.to_html(index=False)\n",
    "\n",
    "# Initialize the server\n",
    "s = smtplib.SMTP('smtp.gmail.com', 587)\n",
    "s.starttls()\n",
    "s.login(user, password)\n",
    "\n",
    "# Define message\n",
    "subject = f\"Dynasty FF Week {week} Recap\"\n",
    "summary_html = summary.replace('\\n', '<br>')\n",
    "body = f\"\"\"\\\n",
    "<html>\n",
    "  <head></head>\n",
    "  <body>\n",
    "    <h1>{subject}</h1>\n",
    "    <br>{summary_html}</br>\n",
    "    <br>\n",
    "    <hr>\n",
    "    <p>Highest Scoring Team: {HT_Owner}: {HT_Score} points</p>\n",
    "    <p>Highest Scoring Player: {HP_Owner} - {HP_Player}: {HP_Score} Points</p>\n",
    "    <br>\n",
    "    {standings}\n",
    "  </body>\n",
    "</html>\n",
    "\"\"\"\n",
    "\n",
    "recipients = list(config_data['emails']['sleeper_email_dict'].values())\n",
    "sender = \"peteryushunli@gmail.com\"\n",
    "\n",
    "msg = MIMEMultipart(\"alternative\")\n",
    "msg[\"From\"] = sender\n",
    "msg[\"To\"] = \", \".join(recipients)\n",
    "msg[\"Subject\"] = subject\n",
    "\n",
    "# Attach the HTML body\n",
    "msg.attach(MIMEText(body, 'html'))\n",
    "\n",
    "# Send email\n",
    "s.sendmail(sender, recipients, msg.as_string())\n",
    "\n",
    "# Terminate the session\n",
    "s.quit()"
   ]
  }
 ],
 "metadata": {
  "kernelspec": {
   "display_name": "base",
   "language": "python",
   "name": "python3"
  },
  "language_info": {
   "codemirror_mode": {
    "name": "ipython",
    "version": 3
   },
   "file_extension": ".py",
   "mimetype": "text/x-python",
   "name": "python",
   "nbconvert_exporter": "python",
   "pygments_lexer": "ipython3",
   "version": "3.8.5"
  },
  "orig_nbformat": 4
 },
 "nbformat": 4,
 "nbformat_minor": 2
}
