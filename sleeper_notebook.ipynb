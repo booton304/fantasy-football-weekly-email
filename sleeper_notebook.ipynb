{
 "cells": [
  {
   "cell_type": "markdown",
   "metadata": {},
   "source": [
    "## I. Load & Process the data from Sleeper"
   ]
  },
  {
   "cell_type": "code",
   "execution_count": 1,
   "metadata": {},
   "outputs": [
    {
     "name": "stdout",
     "output_type": "stream",
     "text": [
      "Loaded the League Data from Sleeper\n",
      " - Week 1 has been processed\n",
      " - Week 2 has been processed\n",
      " - Week 3 has been processed\n",
      "Completed processing scores and updating standings\n",
      "Saved week 3 matchup data\n"
     ]
    }
   ],
   "source": [
    "from sleeper_functions import *\n",
    "#Define week\n",
    "week = 3\n",
    "matchup_df, updated_standings, HT_Owner, HT_Score, HP_Owner, HP_Player, HP_Score = run_sleeper_weekly(week)"
   ]
  },
  {
   "cell_type": "markdown",
   "metadata": {},
   "source": [
    "## II. Feed Data into GPT"
   ]
  },
  {
   "cell_type": "code",
   "execution_count": 2,
   "metadata": {},
   "outputs": [
    {
     "name": "stdout",
     "output_type": "stream",
     "text": [
      "Generated the summary\n",
      "Subject: Week 3 Vibes: The Good, the Bad and the Surprises\n",
      "\n",
      "Hello, fellow gridiron warriors! \n",
      "\n",
      "Now that Week 3 has been sealed, we're really getting a feel for our Dynasty landscape. Some owners are so high right now they might need an oxygen mask, while others remain stuck somewhere in the underworld trying to locate their offense. So, buckle up comrades, it's time to address the victories, the heartbreaks, and why Peter probably shouldn't trust the process anymore. \n",
      "\n",
      "Before we start, quick shoutout to Henry. His team, \"haamsuplo21”, charted an impressive total of 182.8 points. When your kicker's field goals are just a cherry on top of a scoring buffet, you know you're doing something right. I mean, the Buffalo Defense, really? So much for fair play, huh?\n",
      "\n",
      "Meanwhile, in a classic tale of big names not guaranteeing wins, Dan (aka \"Prototypical NFL Corner\") turned in the second-best performance across the league (134.94 points) and still found himself on the wrong side of a fantasy beatdown. Herbert on Henry's squad outscored his Mahomes - remind me, when does that happen in real life? \n",
      "\n",
      "In the \"I don't know whether to laugh or cry\" section, we have Scott! I have witnessed some tragic performances in my time, but raking in 78.64 points was truly iconic. I guess, when it rains, it pours. Or in Scott's case, when it's Russell Wilson versus the world, you're in deep trouble. Flash news Scott - praying to the fantasy gods at night doesn’t work, or at least not without a respectable running back or wide receiver. \n",
      "\n",
      "Elsewhere, Johnny and Kai squeaked out wins with less-than-stellar performances. To Johnny: keep those points low and those victory margins slimmer. No one wins a Jaguar like you, buddy!\n",
      "\n",
      "Let's take a moment to honor JD and Peter. Fellas, I don't know where it all went wrong - Trevor Lawrence as a QB? Seriously? – but you two must've offended a vengeful spirit in the offseason. Don't worry though. The race to ignominy is not a sprint; it's a marathon. You're both off to a fantastic start on your journey into obscurity.  \n",
      "\n",
      "Let’s end with a standing ovation to our unsung heroes of the week, Amon-Ra St. Brown, Justin Jefferson and Justin Tucker. Thank you, gentlemen, for making every fantasy football week a nail biter. \n",
      "\n",
      "Alright, brave souls. That's about it for Week 3. May the waiver wire be forgiving and the injury bug leave you be as we march forward into this grueling, joyous, and utterly unforgiving season.\n",
      "\n",
      "Remember to check your lineup before Thursday night football!\n",
      "\n",
      "- The Commish\n"
     ]
    }
   ],
   "source": [
    "summary = generate_summary(week, matchup_df, updated_standings)\n",
    "print(summary)"
   ]
  },
  {
   "cell_type": "markdown",
   "metadata": {},
   "source": [
    "## III. Draft Summary Email via Smtpblib"
   ]
  },
  {
   "cell_type": "code",
   "execution_count": 3,
   "metadata": {},
   "outputs": [
    {
     "data": {
      "text/plain": [
       "(221,\n",
       " b'2.0.0 closing connection he21-20020a05622a601500b004120ae42859sm2647481qtb.90 - gsmtp')"
      ]
     },
     "execution_count": 3,
     "metadata": {},
     "output_type": "execute_result"
    }
   ],
   "source": [
    "#Load Credentials\n",
    "import json\n",
    "# Load the configuration from config.json\n",
    "with open('config.json') as config_file:\n",
    "    config_data = json.load(config_file)\n",
    "import smtplib\n",
    "from email.mime.text import MIMEText\n",
    "from email.mime.multipart import MIMEMultipart\n",
    "\n",
    "# Load the user name and password from yaml file\n",
    "user, password = config_data['gmail']['GMAIL_USER'], config_data['gmail']['GMAIL_PW']\n",
    "\n",
    "#Convert tables to html format\n",
    "matchup = matchup_df.to_html(index=False)\n",
    "standings = updated_standings.to_html(index=False)\n",
    "\n",
    "# Initialize the server\n",
    "s = smtplib.SMTP('smtp.gmail.com', 587)\n",
    "s.starttls()\n",
    "s.login(user, password)\n",
    "\n",
    "# Define message\n",
    "subject = f\"Dynasty FF Week {week} Recap\"\n",
    "summary_html = summary.replace('\\n', '<br>')\n",
    "body = f\"\"\"\\\n",
    "<html>\n",
    "  <head></head>\n",
    "  <body>\n",
    "    <h1>{subject}</h1>\n",
    "    <br>{summary_html}</br>\n",
    "    <br>\n",
    "    <hr>\n",
    "    <p>Highest Scoring Team: {HT_Owner}: {HT_Score} points</p>\n",
    "    <p>Highest Scoring Player: {HP_Owner} - {HP_Player}: {HP_Score} Points</p>\n",
    "    <br>\n",
    "    {standings}\n",
    "  </body>\n",
    "</html>\n",
    "\"\"\"\n",
    "\n",
    "#recipients = list(config_data['emails']['sleeper_email_dict'].values())\n",
    "recipients = 'lithal06@yahoo.com'\n",
    "sender = \"peteryushunli@gmail.com\"\n",
    "\n",
    "msg = MIMEMultipart(\"alternative\")\n",
    "msg[\"From\"] = sender\n",
    "msg[\"To\"] = \", \".join(recipients)\n",
    "msg[\"Subject\"] = subject\n",
    "\n",
    "# Attach the HTML body\n",
    "msg.attach(MIMEText(body, 'html'))\n",
    "\n",
    "# Send email\n",
    "s.sendmail(sender, recipients, msg.as_string())\n",
    "\n",
    "# Terminate the session\n",
    "s.quit()"
   ]
  }
 ],
 "metadata": {
  "kernelspec": {
   "display_name": "base",
   "language": "python",
   "name": "python3"
  },
  "language_info": {
   "codemirror_mode": {
    "name": "ipython",
    "version": 3
   },
   "file_extension": ".py",
   "mimetype": "text/x-python",
   "name": "python",
   "nbconvert_exporter": "python",
   "pygments_lexer": "ipython3",
   "version": "3.8.5"
  },
  "orig_nbformat": 4
 },
 "nbformat": 4,
 "nbformat_minor": 2
}
