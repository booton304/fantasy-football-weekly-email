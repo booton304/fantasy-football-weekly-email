{
 "cells": [
  {
   "cell_type": "markdown",
   "metadata": {},
   "source": [
    "## I. Load & Process the data from Sleeper"
   ]
  },
  {
   "cell_type": "code",
   "execution_count": 5,
   "metadata": {},
   "outputs": [
    {
     "name": "stdout",
     "output_type": "stream",
     "text": [
      "Loaded the League Data from Sleeper\n",
      " - Week 1 has been processed\n",
      " - Week 2 has been processed\n",
      " - Week 3 has been processed\n",
      " - Week 4 has been processed\n",
      "Completed processing scores and updating standings\n",
      "Saved week 4 matchup data\n"
     ]
    }
   ],
   "source": [
    "from sleeper_functions import *\n",
    "week = 4\n",
    "matchup_df, updated_standings, HT_Owner, HT_Score, HP_Owner, HP_Player, HP_Score = run_sleeper_weekly(week)"
   ]
  },
  {
   "cell_type": "markdown",
   "metadata": {},
   "source": [
    "## II. Feed Data into GPT"
   ]
  },
  {
   "cell_type": "code",
   "execution_count": 2,
   "metadata": {},
   "outputs": [
    {
     "name": "stdout",
     "output_type": "stream",
     "text": [
      "Generated the summary\n",
      "Greetings Fantasy Gladiators,\n",
      "\n",
      "In the ceaseless gridiron battleground that is our league, Week 4 brought wins, losses, stinging humiliation, and of course some utterly confounding performances.\n",
      "\n",
      "Our Top Scorer of the Week honour is bestowed upon the terrifically unpredictable Kai, whose team \"Not Sketch\" brilliantly danced to victory with a whopping 153.54 points. If someone could explain to me the occult knowledge he consults when picking his team, I'm sure we would all be grateful. According to our logs, Christian McCaffrey had another superhero outing, racking up a ludicrous 45.2 points. On behalf of all fantasy owners who don't have him, Kai, we're not jealous, just emotionally wounded.\n",
      "\n",
      "In the \"winning ugly\" category, Johnny's \"ChubbHub\" bested Peter's \"Trust the Process\" by a grand total of 3.5 points. Not every victory is a symphony, eh Johnny?\n",
      "\n",
      "Shoutout to Justin Herbert's 24.38 points and Stefon Diggs' 33 points; it was a valiant effort, but alas, Henry's \"haamsuplo21\" couldn't outscore the almighty \"GOAT Dynasty\" helmed by the relentless Kyle, who had Josh Allen amass a considerable 36.5 points. \n",
      "\n",
      "At the halfway point may I propose we rename David's team to 'Korean Jesus Walks on Water' because it takes nothing short of a miracle to lose with a score of 82.14. I haven't seen a beating that brutal since Rocky met Drago. Travis Etienne's 8.7 points were, in a word, pitiful. Let's pray David's Week 5 is less Titanic and more Life of Pi.\n",
      "\n",
      "In 'just scrape by' fashion, Andrew's \"King Drew\" managed to sneak a victory with 139.62 points over Dan's \"Prototypical NFL Corner.\" A.J. Brown, with 34 points, reinforced his status as a fantasy god.\n",
      "\n",
      "Finally, light a candle for Peter's \"Trust the Process\" - without a single win in 4 weeks, Peter now officially holds the dubious title of being voted League's Saddest Team. With Jerome Ford barely achieving 7 and Jordan Addison choosing to simple not play with a big ol' goose egg, one could say the process is truly falling apart. Perhaps it's time to shake things up a bit, Peter? \n",
      "\n",
      "To wrap up, folks, remember - a carefully piled heap of points is a great start, but strategy, instinct, and a summoning circle of football cards might edge you into a win. \n",
      "\n",
      "On to the feast or famine of Week 5! It's anyone's game.\n",
      "\n",
      "Yours in banter and subtle judgment,\n",
      "\n",
      "Your AI Commissioner\n",
      "\n"
     ]
    }
   ],
   "source": [
    "summary = generate_summary(week, matchup_df, updated_standings)\n",
    "print(summary)"
   ]
  },
  {
   "cell_type": "markdown",
   "metadata": {},
   "source": [
    "## III. Draft Summary Email via Smtpblib"
   ]
  },
  {
   "cell_type": "code",
   "execution_count": 6,
   "metadata": {},
   "outputs": [
    {
     "data": {
      "text/plain": [
       "(221,\n",
       " b'2.0.0 closing connection o1-20020ac86d01000000b004199c98f87dsm448068qtt.74 - gsmtp')"
      ]
     },
     "execution_count": 6,
     "metadata": {},
     "output_type": "execute_result"
    }
   ],
   "source": [
    "#Load Credentials\n",
    "import json\n",
    "# Load the configuration from config.json\n",
    "with open('config.json') as config_file:\n",
    "    config_data = json.load(config_file)\n",
    "import smtplib\n",
    "from email.mime.text import MIMEText\n",
    "from email.mime.multipart import MIMEMultipart\n",
    "\n",
    "# Load the user name and password from yaml file\n",
    "user, password = config_data['gmail']['GMAIL_USER'], config_data['gmail']['GMAIL_PW']\n",
    "\n",
    "#Convert tables to html format\n",
    "matchup = matchup_df.to_html(index=False)\n",
    "standings = updated_standings.to_html(index=False)\n",
    "\n",
    "# Initialize the server\n",
    "s = smtplib.SMTP('smtp.gmail.com', 587)\n",
    "s.starttls()\n",
    "s.login(user, password)\n",
    "\n",
    "# Define message\n",
    "subject = f\"Dynasty FF Week {week} Recap\"\n",
    "summary_html = summary.replace('\\n', '<br>')\n",
    "body = f\"\"\"\\\n",
    "<html>\n",
    "  <head></head>\n",
    "  <body>\n",
    "    <h1>{subject}</h1>\n",
    "    <br>{summary_html}</br>\n",
    "    <br>\n",
    "    <hr>\n",
    "    <p>Highest Scoring Team: {HT_Owner}: {HT_Score} points</p>\n",
    "    <p>Highest Scoring Player: {HP_Owner} - {HP_Player}: {HP_Score} Points</p>\n",
    "    <br>\n",
    "    {standings}\n",
    "  </body>\n",
    "</html>\n",
    "\"\"\"\n",
    "\n",
    "recipients = list(config_data['emails']['sleeper_email_dict'].values())\n",
    "sender = \"peteryushunli@gmail.com\"\n",
    "\n",
    "msg = MIMEMultipart(\"alternative\")\n",
    "msg[\"From\"] = sender\n",
    "msg[\"To\"] = \", \".join(recipients)\n",
    "msg[\"Subject\"] = subject\n",
    "\n",
    "# Attach the HTML body\n",
    "msg.attach(MIMEText(body, 'html'))\n",
    "\n",
    "# Send email\n",
    "s.sendmail(sender, recipients, msg.as_string())\n",
    "\n",
    "# Terminate the session\n",
    "s.quit()"
   ]
  },
  {
   "cell_type": "code",
   "execution_count": null,
   "metadata": {},
   "outputs": [],
   "source": []
  }
 ],
 "metadata": {
  "kernelspec": {
   "display_name": "base",
   "language": "python",
   "name": "python3"
  },
  "language_info": {
   "codemirror_mode": {
    "name": "ipython",
    "version": 3
   },
   "file_extension": ".py",
   "mimetype": "text/x-python",
   "name": "python",
   "nbconvert_exporter": "python",
   "pygments_lexer": "ipython3",
   "version": "3.8.5"
  },
  "orig_nbformat": 4
 },
 "nbformat": 4,
 "nbformat_minor": 2
}
