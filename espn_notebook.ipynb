{
 "cells": [
  {
   "attachments": {},
   "cell_type": "markdown",
   "metadata": {},
   "source": [
    "# I. Load Scores via ESPN API"
   ]
  },
  {
   "cell_type": "code",
   "execution_count": 1,
   "metadata": {},
   "outputs": [
    {
     "name": "stdout",
     "output_type": "stream",
     "text": [
      "Data not loaded correctly (Attempt 1 of 5), retrying in 1 second...\n",
      "Loaded data from ESPN for week 4 of the 2023 season\n",
      "Completed processing weekly scores and standings\n"
     ]
    }
   ],
   "source": [
    "from espn_functions import *\n",
    "#Define week and year\n",
    "week = 4\n",
    "year = 2023\n",
    "standings_df, matchup_df, HP_Owner, HP_Player, HP_Score, HT_Owner, HT_Score = run_espn_weekly(week, year)"
   ]
  },
  {
   "cell_type": "code",
   "execution_count": 7,
   "metadata": {},
   "outputs": [
    {
     "name": "stdout",
     "output_type": "stream",
     "text": [
      "Loaded data from ESPN for week 4 of the 2023 season\n"
     ]
    }
   ],
   "source": [
    "espn_cookies = {\n",
    "    \"swid\": config_data['espn']['swid'],\n",
    "    \"espn_s2\": config_data['espn']['espn_s2']\n",
    "}\n",
    "\n",
    "league_id = config_data['espn']['league_id']\n",
    "league_data = load_league(league_id, espn_cookies, year)\n",
    "owner_dict = config_data['espn']['owner_dict']\n",
    "\n",
    "league_id = config_data['espn']['league_id']\n",
    "league_data = load_league(league_id, espn_cookies, year)\n",
    "owner_dict = config_data['espn']['owner_dict']\n",
    "\n",
    "attempts = 0\n",
    "max_attempts=5\n",
    "while attempts < max_attempts:\n",
    "    #Load the league data via the ESPN API\n",
    "    standings_df = load_records(league_data)\n",
    "    weekly_df = load_weekly_stats(year, league_id, espn_cookies, week)\n",
    "    schedule_df = load_schedule(year, league_id, espn_cookies, week)\n",
    "\n",
    "    matchup_df = transform_weekly(weekly_df, schedule_df)\n",
    "    standings_df = iterate_weeks_espn(year, week, standings_df, league_id, espn_cookies)\n",
    "    standings_df = rank_playoff_seeds(standings_df)\n",
    "    matchup_df = standings_df[['teamId', 'team_name']].merge(matchup_df, on='teamId', how='left').sort_values(by='matchup_id').reset_index(drop=True)\n",
    "\n",
    "    if (len(matchup_df) > 0) and (len(schedule_df) > 0) and (len(standings_df) > 0):\n",
    "        print('Loaded data from ESPN for week ' + str(week) + ' of the ' + str(year) + ' season')\n",
    "        break  # Break the loop if data is loaded correctly\n",
    "    else:\n",
    "        attempts += 1\n",
    "        print(f'Data not loaded correctly (Attempt {attempts} of {max_attempts}), retrying in 1 second...')\n",
    "        time.sleep(1)  # Wait for 1\n"
   ]
  },
  {
   "cell_type": "markdown",
   "metadata": {},
   "source": [
    "# II. Create GPT Summary Email"
   ]
  },
  {
   "cell_type": "code",
   "execution_count": 17,
   "metadata": {},
   "outputs": [
    {
     "name": "stdout",
     "output_type": "stream",
     "text": [
      "Generated the summary\n",
      "Hello Punt-Intentional Leaguers,\n",
      "\n",
      "Another week of nail-biting games is now in the books and I'm here to serve up the deets with a side of good natured ribbing. So, let's get scoring!\n",
      "\n",
      "Starting off with the top tier, we've got King Drew and The Real Artist sitting pretty undefeated after four weeks. Looks like Andrew's draft strategy and John's auction shenanigans are paying off. Sleep with one eye open, fellas. History has shown us there are no safe leads in this league. \n",
      "\n",
      "Also, is Kai Shen in the room? Not Sketch just quietly moved into 3rd place at 3-1. All hail C.J. Stroud and company. Shen's consistent approach to mediocre performance is turning out to be quite the master plan. Everyone, take note. “Barely satisfactory” is the way to go! On a related note, did Richard Liang get the memo? Sadly, he has a 1-3 record, but in the spirit of looking at the glass half-full, at least you're not Richie... \n",
      "\n",
      "Moving onto the disappointments of the week, sorry Kyle O'Meara, but \"Holistically Most Athletic\" rings rather hollow when you're sitting at the bottom with 73.8 points. Judging by your players' performance, the only thing they've been athletic about is running away from the ball. Better luck next week!\n",
      "\n",
      "And Richie, look at this mess. Not even the hardest working \"ㄱㅅㄲ\" could help you this week. Feels like your team has declared some sort of a silent protest and has forgotten they're supposed to score points, not just roll over. Maybe you can shock them back to their senses in Week 5 (Or not...I for one am enjoying the show).\n",
      "\n",
      "And shout out to Tom Zhang with the Cowboys D/ST putting up an impressive 26 points, only to be outdone by John Dong's Seahawks D/ST with a whopping 29. The competition for top defensive team is heating up people! \n",
      "\n",
      "Lastly, I have just one plea: Can someone please take down those undefeated titans, Andrew and John, to put an end to their insufferable smugness? They've forgotten what it's like to lose.\n",
      "\n",
      "That's all for now folks! Remember, the only thing better than a touchdown is mercilessly roasting your friends over fantasy football stats. See you for Week 5!\n",
      "\n",
      "Play Hard, Roast Harder,\n",
      "\n",
      "Your Expert AI Commissioner.\n"
     ]
    }
   ],
   "source": [
    "summary = generate_summary(week, matchup_df_true, standings_df, model = 'gpt-4')\n",
    "print(summary)"
   ]
  },
  {
   "cell_type": "markdown",
   "metadata": {},
   "source": [
    "# III. Send G-Mail"
   ]
  },
  {
   "cell_type": "code",
   "execution_count": 19,
   "metadata": {},
   "outputs": [
    {
     "data": {
      "text/plain": [
       "(221,\n",
       " b'2.0.0 closing connection z19-20020ae9c113000000b0076daaccb7f7sm456117qki.135 - gsmtp')"
      ]
     },
     "execution_count": 19,
     "metadata": {},
     "output_type": "execute_result"
    }
   ],
   "source": [
    "import smtplib\n",
    "from email.mime.text import MIMEText\n",
    "from email.mime.multipart import MIMEMultipart\n",
    "\n",
    "# Load the user name and password from yaml file\n",
    "user, password = config_data['gmail']['GMAIL_USER'], config_data['gmail']['GMAIL_PW']\n",
    "recipients = list(config_data['emails']['espn_email_dict'].values())\n",
    "\n",
    "# Initialize the server\n",
    "s = smtplib.SMTP('smtp.gmail.com', 587)\n",
    "s.starttls()\n",
    "s.login(user, password)\n",
    "\n",
    "#Format the tables\n",
    "scoring_tabulate = tabulate(matchup_df, headers='keys', tablefmt='html', showindex=False)\n",
    "standings_tabulate = tabulate(standings_df, headers='keys', tablefmt='html', showindex=False)\n",
    "\n",
    "# Define message\n",
    "subject = f\"Weekly Fagudas FF Recap: Week {week}\"\n",
    "summary_html = summary.replace('\\n', '<br>')\n",
    "body = f\"\"\"\\\n",
    "<html>\n",
    "  <head></head>\n",
    "  <body>\n",
    "    <br>{summary_html}</br>\n",
    "    <br>\n",
    "    <hr>\n",
    "    <p><b>Highest Scoring Team</b>: {HT_Owner}: {HT_Score} points</p>\n",
    "    <p><b>Highest Scoring Player</b>: {HP_Owner} - {HP_Player}: {HP_Score} Points</p>\n",
    "    <br>\n",
    "    {standings_tabulate}\n",
    "  </body>\n",
    "</html>\n",
    "\"\"\"\n",
    "\n",
    "sender = user\n",
    "\n",
    "msg = MIMEMultipart(\"alternative\")\n",
    "msg[\"From\"] = sender\n",
    "msg[\"To\"] = \", \".join(recipients)\n",
    "msg[\"Subject\"] = subject\n",
    "\n",
    "# Attach the HTML body\n",
    "msg.attach(MIMEText(body, 'html'))\n",
    "\n",
    "# Send email\n",
    "s.sendmail(sender, recipients, msg.as_string())\n",
    "\n",
    "# Terminate the session\n",
    "s.quit()"
   ]
  },
  {
   "cell_type": "code",
   "execution_count": null,
   "metadata": {},
   "outputs": [],
   "source": []
  }
 ],
 "metadata": {
  "kernelspec": {
   "display_name": "base",
   "language": "python",
   "name": "python3"
  },
  "language_info": {
   "codemirror_mode": {
    "name": "ipython",
    "version": 3
   },
   "file_extension": ".py",
   "mimetype": "text/x-python",
   "name": "python",
   "nbconvert_exporter": "python",
   "pygments_lexer": "ipython3",
   "version": "3.8.5"
  },
  "orig_nbformat": 4
 },
 "nbformat": 4,
 "nbformat_minor": 2
}
