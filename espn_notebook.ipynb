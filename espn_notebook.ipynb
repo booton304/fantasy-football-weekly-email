{
 "cells": [
  {
   "attachments": {},
   "cell_type": "markdown",
   "metadata": {},
   "source": [
    "# I. Load Scores via ESPN API"
   ]
  },
  {
   "cell_type": "code",
   "execution_count": 1,
   "metadata": {},
   "outputs": [
    {
     "name": "stdout",
     "output_type": "stream",
     "text": [
      "Data not loaded correctly (Attempt 1 of 5), retrying in 1 second...\n",
      "Loaded data from ESPN for week 3 of the 2023 season\n",
      "Completed processing weekly scores and standings\n",
      "Saved week 3 matchup data\n"
     ]
    }
   ],
   "source": [
    "from espn_functions import *\n",
    "#Define week and year\n",
    "week = 3\n",
    "year = 2023\n",
    "standings_df, matchup_df, HP_Owner, HP_Player, HP_Score, HT_Owner, HT_Score = run_espn_weekly(week, year)"
   ]
  },
  {
   "cell_type": "markdown",
   "metadata": {},
   "source": [
    "# II. Create GPT Summary Email"
   ]
  },
  {
   "cell_type": "code",
   "execution_count": 5,
   "metadata": {},
   "outputs": [
    {
     "name": "stdout",
     "output_type": "stream",
     "text": [
      "Generated the summary\n",
      "Hey there, Fantasy Football Fanatics! Here's a rundown of the Pro League Pummelings, Harrowing Hits, and Epic Fails from Week 3. Grab your popcorn, folks!\n",
      "\n",
      "Kicking things off with a bang (more like a thermonuclear explosion), we have \"King Drew\" (Andrew Kim) who took the crown (quite literally) marching to the top with a high score of 137.08. The Bills' DST carrying the day with 31 points. Quite a draft pick, Andrew, your crystal ball deserves a standing ovation. \n",
      "\n",
      "\"One sketch, two sketch, red sketch, Not Sketch\" (Kai Shen) busted out a 128.8 this week, starring Raheem Mostert who surged with 41.7 points. As unpredictable as Dr. Seuss rhythm, but hey it's working!\n",
      "\n",
      "\"Can you Digg it, Sucka?\" (Tom Zhang) fought valiantly but couldn’t dig their way out against \"NACHOS TEAM\" (Justin Chen), both shy of a hundred, scraping 96.3 and 97.06 respectively. What happened, guys? Did you let your cats pick your lineups this week?\n",
      "\n",
      "Meanwhile \"Good Things Bad People\" (Dan Jiang) continue to prove that you don't have to be good to win (just less awful than the other guy). A mighty performance from Keenan Allen scored them 36.46 points, contributing to a strong week total of 137.44. I'll bet the ear-to-ear grin hasn't left Dan's face all week. \n",
      "\n",
      "Turning our attention to the bottom end of the table, it wasn’t a great week for the ”Richie's ㄱㅅㄲ s” run by Richie Kay, ending their third bout still sans victory. Richie, I think it’s safe to say your team’s performance would make a sloth sprint past you and, oh wait… it just did. \n",
      "\n",
      "But the star of our tragicomedy for this week is \"Big Cheese\" (John Dong) with a jaw-droppingly low score of 71.74, less scoring than a library on a weekend night. Derrick Henry forgot he was playing football? Tough break, John. Who knew that a \"Big Cheese\" could get so... moldy? \n",
      "\n",
      "So there you have it, folks, another week in the record books! Get back to the drawing board, make those trades, and most importantly, pray to the Fantasy Football gods for Week 4. Stay tuned for more disasters, triumphs and a whole lot of laughs! \n",
      "\n",
      "Over and out!\n"
     ]
    }
   ],
   "source": [
    "summary = generate_summary(week, matchup_df, standings_df)\n",
    "print(summary)"
   ]
  },
  {
   "cell_type": "markdown",
   "metadata": {},
   "source": [
    "# III. Send G-Mail"
   ]
  },
  {
   "cell_type": "code",
   "execution_count": 6,
   "metadata": {},
   "outputs": [
    {
     "data": {
      "text/plain": [
       "(221,\n",
       " b'2.0.0 closing connection vu4-20020a05620a560400b00774309d3e89sm1903092qkn.7 - gsmtp')"
      ]
     },
     "execution_count": 6,
     "metadata": {},
     "output_type": "execute_result"
    }
   ],
   "source": [
    "import smtplib\n",
    "from email.mime.text import MIMEText\n",
    "from email.mime.multipart import MIMEMultipart\n",
    "\n",
    "# Load the user name and password from yaml file\n",
    "user, password = config_data['gmail']['GMAIL_USER'], config_data['gmail']['GMAIL_PW']\n",
    "recipients = list(config_data['emails']['espn_email_dict'].values())\n",
    "\n",
    "# Initialize the server\n",
    "s = smtplib.SMTP('smtp.gmail.com', 587)\n",
    "s.starttls()\n",
    "s.login(user, password)\n",
    "\n",
    "#Format the tables\n",
    "scoring_tabulate = tabulate(matchup_df, headers='keys', tablefmt='html', showindex=False)\n",
    "standings_tabulate = tabulate(standings_df, headers='keys', tablefmt='html', showindex=False)\n",
    "\n",
    "# Define message\n",
    "subject = f\"Weekly Fagudas FF Recap: Week {week}\"\n",
    "summary_html = summary.replace('\\n', '<br>')\n",
    "body = f\"\"\"\\\n",
    "<html>\n",
    "  <head></head>\n",
    "  <body>\n",
    "    <br>{summary_html}</br>\n",
    "    <br>\n",
    "    <hr>\n",
    "    <p><b>Highest Scoring Team</b>: {HT_Owner}: {HT_Score} points</p>\n",
    "    <p><b>Highest Scoring Player</b>: {HP_Owner} - {HP_Player}: {HP_Score} Points</p>\n",
    "    <br>\n",
    "    {standings_tabulate}\n",
    "  </body>\n",
    "</html>\n",
    "\"\"\"\n",
    "\n",
    "\n",
    "#recipients = ['lithal06@yahoo.com']\n",
    "sender = user\n",
    "\n",
    "msg = MIMEMultipart(\"alternative\")\n",
    "msg[\"From\"] = sender\n",
    "msg[\"To\"] = \", \".join(recipients)\n",
    "msg[\"Subject\"] = subject\n",
    "\n",
    "# Attach the HTML body\n",
    "msg.attach(MIMEText(body, 'html'))\n",
    "\n",
    "# Send email\n",
    "s.sendmail(sender, recipients, msg.as_string())\n",
    "\n",
    "# Terminate the session\n",
    "s.quit()"
   ]
  }
 ],
 "metadata": {
  "kernelspec": {
   "display_name": "base",
   "language": "python",
   "name": "python3"
  },
  "language_info": {
   "codemirror_mode": {
    "name": "ipython",
    "version": 3
   },
   "file_extension": ".py",
   "mimetype": "text/x-python",
   "name": "python",
   "nbconvert_exporter": "python",
   "pygments_lexer": "ipython3",
   "version": "3.8.5"
  },
  "orig_nbformat": 4
 },
 "nbformat": 4,
 "nbformat_minor": 2
}
