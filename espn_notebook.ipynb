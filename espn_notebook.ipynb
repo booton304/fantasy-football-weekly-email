{
 "cells": [
  {
   "cell_type": "code",
   "execution_count": 2,
   "metadata": {},
   "outputs": [],
   "source": [
    "import requests\n",
    "import pandas as pd\n",
    "import time \n",
    "from datetime import datetime\n",
    "\n",
    "#Load Credentials\n",
    "import json\n",
    "# Load the configuration from config.json\n",
    "with open('config.json') as config_file:\n",
    "    config_data = json.load(config_file)\n"
   ]
  },
  {
   "attachments": {},
   "cell_type": "markdown",
   "metadata": {},
   "source": [
    "# I. Load Scores via ESPN API"
   ]
  },
  {
   "cell_type": "code",
   "execution_count": 2,
   "metadata": {},
   "outputs": [
    {
     "name": "stdout",
     "output_type": "stream",
     "text": [
      "Completed week: 1\n",
      "Completed week: 2\n",
      "Loaded data from ESPN for week 2 of the 2023 season\n",
      "Completed processing weekly scores and standings\n",
      "Saved week 2 matchup data\n"
     ]
    }
   ],
   "source": [
    "from espn_functions import *\n",
    "standings_df, matchup_df, HP_Owner, HP_Player, HP_Score, HT_Owner, HT_Score = run_espn_weekly(week = 2, year=2023)"
   ]
  },
  {
   "cell_type": "markdown",
   "metadata": {},
   "source": [
    "# II. Create GPT Summary Email"
   ]
  },
  {
   "cell_type": "code",
   "execution_count": 3,
   "metadata": {},
   "outputs": [],
   "source": [
    "import openai\n",
    "openai.api_key = config_data['openai']['api_key']\n",
    "from tabulate import tabulate\n",
    "scoring_tabulate = tabulate(matchup_df.drop(columns = 'teamId'), headers='keys', tablefmt='plain', showindex=False)\n",
    "standings_tabulate = tabulate(standings_df, headers='keys', tablefmt='plain', showindex=False)"
   ]
  },
  {
   "cell_type": "code",
   "execution_count": 4,
   "metadata": {},
   "outputs": [
    {
     "name": "stdout",
     "output_type": "stream",
     "text": [
      "team_name                       matchup_id  owner            total_points  QB                 QB_PTS  RB1                    RB1_PTS  RB2                    RB2_PTS  WR1                  WR1_PTS  WR2                   WR2_PTS  TE                TE_PTS  Flex                   Flex_PTS  D/ST               D/ST_PTS  K                  K_PTS\n",
      "Not Sketch                               8  Kai Shen               105.46  C.J. Stroud         21.46  Najee Harris               4.8  Alexander Mattison         3.4  A.J. Brown               4.9  Tee Higgins             24.9   David Njoku          4.8  Raheem Mostert             25.2  49ers D/ST                4  Jake Elliott          12\n",
      "LI JINGPING                              8  Peter Li               101.92  Tua Tagovailoa      12.26  Bijan Robinson            19.2  James Cook                17.9  Davante Adams           17.4  Christian Kirk          16.46  Dalton Kincaid       6.8  Kendrick Bourne             4.9  Broncos D/ST              0  Riley Patterson        7\n",
      "The Real Artist                          9  John Qian              118.8   Patrick Mahomes     21.2   Travis Etienne Jr.         5.2  David Montgomery          11.9  Deebo Samuel            19.1  Mike Williams           12.6   Dallas Goedert       5.2  Michael Pittman Jr.         9.6  Steelers D/ST            23  Justin Tucker         11\n",
      "Richie's ㄱㅅㄲ s                        9  Richie Kay             108.9   Deshaun Watson      11.6   Rachaad White             18.8  Jamaal Williams            2.9  Ja'Marr Chase            5.6  Mike Evans              26.1   George Kittle        4.5  DJ Moore                   13.4  Buccaneers D/ST          19  Jason Myers            7\n",
      "Can you Digg it, Sucka?                 10  Tom Zhang              109.2   Justin Herbert      22.2   Miles Sanders              6.2  Joshua Kelley              3.9  Chris Olave             11.6  Stefon Diggs            10.1   Mark Andrews        13    Gus Edwards                12.2  Cowboys D/ST             16  Jake Moody            14\n",
      "J SMITH-SCHUSTER-NJIGBA                 10  Richard Liang          137.98  Lamar Jackson       22.88  Saquon Barkley            24.2  AJ Dillon                  6.8  Amon-Ra St. Brown       11.2  Jaxon Smith-Njigba       5.9   T.J. Hockenson      22.1  Brian Robinson Jr.         27.9  Dolphins D/ST            11  Jason Sanders          6\n",
      "King Drew                               11  Andrew Kim             107.76  Kirk Cousins        28.56  Josh Jacobs                7.4  Kenneth Walker III        17.9  DK Metcalf              10.5  Jaylen Waddle           10.4   Evan Engram          8.7  Chris Godwin                8.3  Bills D/ST               11  Daniel Carlson         5\n",
      "MackDarnolds chicken nuggets            11  Francis Jin             83.66  Josh Allen          23.66  Christian McCaffrey       21    Devin Singletary           2.9  DJ Chark Jr.             2    Van Jefferson            1.4   Tyler Higbee         2.7  Isaiah Hodgins             12    Commanders D/ST           9  Dustin Hopkins         9\n",
      "YoungHoe Never Broke Again              12  Scott Lin               93.94  Trevor Lawrence      9.24  Tony Pollard              16.4  Jahmyr Gibbs               9.1  DeVonta Smith           21.1  Brandon Aiyuk            5.8   Sam LaPorta          8.8  Dameon Pierce               4.5  Colts D/ST                7  Younghoe Koo          12\n",
      "NACHOS TEAM                             12  Justin Chen            107.3   Dak Prescott        19.6   Nick Chubb                 6.4  James Conner              16.6  Garrett Wilson          15.3  Puka Nacua              22.6   Pat Freiermuth       0.7  Courtland Sutton            9.1  Browns D/ST               9  Matt Gay               8\n",
      "Good Things Bad People                  13  Dan Jiang              150.02  Jalen Hurts         25.22  Kyren Williams            25    Justice Hill               6.8  Keenan Allen            27.1  Josh Reynolds           21.1   Travis Kelce        10.6  Gabe Davis                 18.2  Eagles D/ST               6  Cameron Dicker        10\n",
      "Holistically  Most Athletic             13  Kyle O'Meara            72.64  Justin Fields       14.74  Joe Mixon                 11.5  Dalvin Cook               -0.3  DeAndre Hopkins          6    CeeDee Lamb             19.8   Kyle Pitts           2.5  Odell Beckham Jr.           4.4  Saints D/ST               9  Harrison Butker        5\n",
      "TOUCH MY TDs                            14  John Choi              103.04  Daniel Jones        30.74  Javonte Williams           6.8  Rhamondre Stevenson       13.5  Calvin Ridley            4.2  Tyreek Hill             12.5   Darren Waller       10.6  Zack Moss                  18.7  Giants D/ST              -2  Tyler Bass             8\n",
      "Big Cheese                              14  John Dong              108.58  Joe Burrow          15.38  Derrick Henry             17    Tyler Allgeier             4.8  Justin Jefferson        19.4  Tyler Lockett           21.9   Hunter Henry        14.2  Samaje Perine               3.9  Jets D/ST                -1  Eddy Pineiro          13\n"
     ]
    }
   ],
   "source": [
    "print(scoring_tabulate)"
   ]
  },
  {
   "cell_type": "code",
   "execution_count": 8,
   "metadata": {},
   "outputs": [
    {
     "name": "stdout",
     "output_type": "stream",
     "text": [
      "Hey there, fantasy football enthusiasts!\n",
      "\n",
      "Week 2 of our league is officially in the books, and boy, oh boy, did we have some interesting matchups. Let's dive right in and dissect the madness, shall we?\n",
      "\n",
      "First off, let's give a standing ovation to Kai Shen and his team, Not Sketch, who managed to eke out a win with a whopping 105.46 points. I'm not sure if there was some artistic inspiration behind his team name, but his performance was anything but sketchy. Well done, Kai!\n",
      "\n",
      "And speaking of impressive performances, our league's resident \"artist\" John Qian and his team, fittingly named The Real Artist, secured their second consecutive victory with a commanding score of 118.8 points. Maybe he's got a secret paint-by-numbers strategy we don't know about.\n",
      "\n",
      "But alas, not everyone can have a victorious week. I'm sorry to say, Richie Kay, but your team, Richie's ㄱㅅㄲ s, is currently begging to be placed in the nearest dumpster after scoring a total of 108.9 points. Richie, I'm not sure what those symbols in your team name mean, but they sure didn't bring you any luck this week. Maybe next time, try forming your team name using actual words and see if that makes a difference.\n",
      "\n",
      "Now, let's give a shoutout to our highest-scoring team of the week: Richard Liang's J SMITH-SCHUSTER-NJIGBA. Richard unleashed a fantasy football onslaught, amassing 137.98 points. Lamar Jackson and Saquon Barkley were clearly in a \"you scratch my back, I'll scratch yours\" kind of mood this week. Nicely played, Richard!\n",
      "\n",
      "But let's not forget about the teams that failed to reach the fantasy football equivalent of mediocrity. Kyle O'Meara and his team, Holistically Most Athletic, should maybe consider renaming themselves to \"Holistically Least Athletic\" after their paltry performance of 72.64 points. It's okay, Kyle. We all have our off weeks. Just try not to be so holistic about it next time.\n",
      "\n",
      "Now, let's take a quick gander at our standings table to see who's leading the pack. John Qian's The Real Artist and Andrew Kim's King Drew both sit proudly at the top with unblemished records of 2-0. It's still early in the season, but these two are definitely ones to watch out for.\n",
      "\n",
      "On the flip side, we have Peter Li's LI JINGPING and Richie Kay's Richie's ㄱㅅㄲ s, both struggling with 0-2 records. Peter, I hope you're not literally following the footsteps of your team name, because that would mean jumping off a cliff right about now.\n",
      "\n",
      "That wraps up our Week 2 recap, folks! As always, remember that fantasy football is a rollercoaster ride of emotion, and we're all just here for the laughs and occasional tears. Good luck in Week 3, and may the fantasy gods be ever in your favor!\n",
      "\n",
      "Yours in roasting and fantasy football madness,\n",
      "\n",
      "Your AI Fantasy Football Commissioner\n"
     ]
    }
   ],
   "source": [
    "week =2\n",
    "input_prompt = f\"Week:{week}, \\nScores Table: \\n\\n{scoring_tabulate}\\n\\nStandings Table: \\n\\n{standings_tabulate}\\n\\nSummary:\"\n",
    "\n",
    "response = openai.ChatCompletion.create(\n",
    "  model=\"gpt-3.5-turbo-16k\",\n",
    "  messages=[\n",
    "    {\n",
    "      \"role\": \"system\",\n",
    "      \"content\": \"You are an AI Fantasy Football commissioner tasked with writing a weekly summary to your league mates recapping the latest week of Fantasy Football.\\n\\nI will provide you a weekly scores table with each matchup (rows with the same matchup_id played each other and the total_points determines the winner), the owners, their players and what they scored. There will also be a standings table with everyone's records. \\nUsing this information, write an email in the style of Bill Simmons recapping the performances of teams and players. In particular, make sure to roast of the team with lowest total points). \\nMake the tone funny, light-hearted and slightly sarcastic \"\n",
    "    },\n",
    "    {\n",
    "      \"role\": \"user\",\n",
    "      \"content\": input_prompt\n",
    "    }\n",
    "  ],\n",
    "  temperature=1,\n",
    "  max_tokens=8000,\n",
    "  top_p=1,\n",
    "  frequency_penalty=0,\n",
    "  presence_penalty=0\n",
    ")\n",
    "\n",
    "print(response['choices'][0]['message']['content'])"
   ]
  },
  {
   "cell_type": "markdown",
   "metadata": {},
   "source": [
    "# III. Send G-Mail"
   ]
  },
  {
   "cell_type": "code",
   "execution_count": 9,
   "metadata": {},
   "outputs": [],
   "source": [
    "owners_dict = {\n",
    "    'Peter': 'peteryushunli@gmail.com',\n",
    "    'Richard': 'Richardliang2015@gmail.com',\n",
    "    'Johnny': 'choi.john91@gmail.com',\n",
    "    #'Henry': 'henryzhang21@gmail.com',\n",
    "    'Kyle': 'komearadoc@gmail.com',\n",
    "    'Scott': 'lin.scott.bhs@gmail.com',\n",
    "    'JD': 'johndong2015@u.northwestern.edu',\n",
    "    #'David': 'dchoi26273@gmail.com',\n",
    "    'Tom': 'tzhangbhs@gmail.com',\n",
    "    'Kai': 'Kaishen2@gmail.com',\n",
    "    'Dan': 'jiangd93@gmail.com',\n",
    "    'Andrew': 'Andydozntcare@gmail.com',\n",
    "    'Justin': \"jchen49@gmail.com\",\n",
    "    'Richie' : 'richiekayy@gmail.com',\n",
    "    'John Qian': 'Ziangqian@gmail.com',\n",
    "    'Francis': 'francis0jin@gmail.com'\n",
    "}"
   ]
  },
  {
   "cell_type": "code",
   "execution_count": 12,
   "metadata": {},
   "outputs": [
    {
     "data": {
      "text/plain": [
       "(221,\n",
       " b'2.0.0 closing connection i16-20020a05620a145000b00767721aebc0sm4424494qkl.32 - gsmtp')"
      ]
     },
     "execution_count": 12,
     "metadata": {},
     "output_type": "execute_result"
    }
   ],
   "source": [
    "import smtplib\n",
    "from email.mime.text import MIMEText\n",
    "from email.mime.multipart import MIMEMultipart\n",
    "\n",
    "# Load the user name and password from yaml file\n",
    "user, password = config_data['gmail']['GMAIL_USER'], config_data['gmail']['GMAIL_PW']\n",
    "\n",
    "# Initialize the server\n",
    "s = smtplib.SMTP('smtp.gmail.com', 587)\n",
    "s.starttls()\n",
    "s.login(user, password)\n",
    "\n",
    "#Format the tables\n",
    "scoring_tabulate = tabulate(matchup_df, headers='keys', tablefmt='html', showindex=False)\n",
    "standings_tabulate = tabulate(standings_df, headers='keys', tablefmt='html', showindex=False)\n",
    "\n",
    "# Define message\n",
    "subject = f\"Weekly Fagudas FF Recap: Week {week}\"\n",
    "summary = response['choices'][0]['message']['content']\n",
    "summary_html = summary.replace('\\n', '<br>')\n",
    "body = f\"\"\"\\\n",
    "<html>\n",
    "  <head></head>\n",
    "  <body>\n",
    "    <br>{summary_html}</br>\n",
    "    <br>\n",
    "    <hr>\n",
    "    <p><b>Highest Scoring Team</b>: {HT_Owner}: {HT_Score} points</p>\n",
    "    <p><b>Highest Scoring Player</b>: {HP_Owner} - {HP_Player}: {HP_Score} Points</p>\n",
    "    <br>\n",
    "    {standings_tabulate}\n",
    "  </body>\n",
    "</html>\n",
    "\"\"\"\n",
    "\n",
    "recipients = list(owners_dict.values())\n",
    "#recipients = ['lithal06@yahoo.com']\n",
    "sender = \"peteryushunli@gmail.com\"\n",
    "\n",
    "msg = MIMEMultipart(\"alternative\")\n",
    "msg[\"From\"] = sender\n",
    "msg[\"To\"] = \", \".join(recipients)\n",
    "msg[\"Subject\"] = subject\n",
    "\n",
    "# Attach the HTML body\n",
    "msg.attach(MIMEText(body, 'html'))\n",
    "\n",
    "# Send email\n",
    "s.sendmail(sender, recipients, msg.as_string())\n",
    "\n",
    "# Terminate the session\n",
    "s.quit()"
   ]
  },
  {
   "cell_type": "code",
   "execution_count": null,
   "metadata": {},
   "outputs": [],
   "source": []
  }
 ],
 "metadata": {
  "kernelspec": {
   "display_name": "base",
   "language": "python",
   "name": "python3"
  },
  "language_info": {
   "codemirror_mode": {
    "name": "ipython",
    "version": 3
   },
   "file_extension": ".py",
   "mimetype": "text/x-python",
   "name": "python",
   "nbconvert_exporter": "python",
   "pygments_lexer": "ipython3",
   "version": "3.8.5"
  },
  "orig_nbformat": 4
 },
 "nbformat": 4,
 "nbformat_minor": 2
}
