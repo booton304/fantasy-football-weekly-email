{
 "cells": [
  {
   "attachments": {},
   "cell_type": "markdown",
   "metadata": {},
   "source": [
    "# I. Load Scores via ESPN API"
   ]
  },
  {
   "cell_type": "code",
   "execution_count": 2,
   "metadata": {},
   "outputs": [
    {
     "name": "stdout",
     "output_type": "stream",
     "text": [
      "Data not loaded correctly (Attempt 1 of 5), retrying in 1 second...\n",
      "Loaded data from ESPN for week 2 of the 2023 season\n",
      "Completed processing weekly scores and standings\n",
      "Saved week 2 matchup data\n"
     ]
    }
   ],
   "source": [
    "from espn_functions import *\n",
    "#Define week and year\n",
    "week = 2\n",
    "year = 2023\n",
    "standings_df, matchup_df, HP_Owner, HP_Player, HP_Score, HT_Owner, HT_Score = run_espn_weekly(week, year)"
   ]
  },
  {
   "cell_type": "markdown",
   "metadata": {},
   "source": [
    "# II. Create GPT Summary Email"
   ]
  },
  {
   "cell_type": "code",
   "execution_count": 8,
   "metadata": {},
   "outputs": [
    {
     "name": "stdout",
     "output_type": "stream",
     "text": [
      "Hey there, fantasy football enthusiasts!\n",
      "\n",
      "Week 2 of our league is officially in the books, and boy, oh boy, did we have some interesting matchups. Let's dive right in and dissect the madness, shall we?\n",
      "\n",
      "First off, let's give a standing ovation to Kai Shen and his team, Not Sketch, who managed to eke out a win with a whopping 105.46 points. I'm not sure if there was some artistic inspiration behind his team name, but his performance was anything but sketchy. Well done, Kai!\n",
      "\n",
      "And speaking of impressive performances, our league's resident \"artist\" John Qian and his team, fittingly named The Real Artist, secured their second consecutive victory with a commanding score of 118.8 points. Maybe he's got a secret paint-by-numbers strategy we don't know about.\n",
      "\n",
      "But alas, not everyone can have a victorious week. I'm sorry to say, Richie Kay, but your team, Richie's ㄱㅅㄲ s, is currently begging to be placed in the nearest dumpster after scoring a total of 108.9 points. Richie, I'm not sure what those symbols in your team name mean, but they sure didn't bring you any luck this week. Maybe next time, try forming your team name using actual words and see if that makes a difference.\n",
      "\n",
      "Now, let's give a shoutout to our highest-scoring team of the week: Richard Liang's J SMITH-SCHUSTER-NJIGBA. Richard unleashed a fantasy football onslaught, amassing 137.98 points. Lamar Jackson and Saquon Barkley were clearly in a \"you scratch my back, I'll scratch yours\" kind of mood this week. Nicely played, Richard!\n",
      "\n",
      "But let's not forget about the teams that failed to reach the fantasy football equivalent of mediocrity. Kyle O'Meara and his team, Holistically Most Athletic, should maybe consider renaming themselves to \"Holistically Least Athletic\" after their paltry performance of 72.64 points. It's okay, Kyle. We all have our off weeks. Just try not to be so holistic about it next time.\n",
      "\n",
      "Now, let's take a quick gander at our standings table to see who's leading the pack. John Qian's The Real Artist and Andrew Kim's King Drew both sit proudly at the top with unblemished records of 2-0. It's still early in the season, but these two are definitely ones to watch out for.\n",
      "\n",
      "On the flip side, we have Peter Li's LI JINGPING and Richie Kay's Richie's ㄱㅅㄲ s, both struggling with 0-2 records. Peter, I hope you're not literally following the footsteps of your team name, because that would mean jumping off a cliff right about now.\n",
      "\n",
      "That wraps up our Week 2 recap, folks! As always, remember that fantasy football is a rollercoaster ride of emotion, and we're all just here for the laughs and occasional tears. Good luck in Week 3, and may the fantasy gods be ever in your favor!\n",
      "\n",
      "Yours in roasting and fantasy football madness,\n",
      "\n",
      "Your AI Fantasy Football Commissioner\n"
     ]
    }
   ],
   "source": [
    "summary = generate_summary(week, matchup_df, standings_df)\n",
    "print(summary)"
   ]
  },
  {
   "cell_type": "markdown",
   "metadata": {},
   "source": [
    "# III. Send G-Mail"
   ]
  },
  {
   "cell_type": "code",
   "execution_count": 12,
   "metadata": {},
   "outputs": [
    {
     "data": {
      "text/plain": [
       "(221,\n",
       " b'2.0.0 closing connection i16-20020a05620a145000b00767721aebc0sm4424494qkl.32 - gsmtp')"
      ]
     },
     "execution_count": 12,
     "metadata": {},
     "output_type": "execute_result"
    }
   ],
   "source": [
    "import smtplib\n",
    "from email.mime.text import MIMEText\n",
    "from email.mime.multipart import MIMEMultipart\n",
    "\n",
    "# Load the user name and password from yaml file\n",
    "user, password = config_data['gmail']['GMAIL_USER'], config_data['gmail']['GMAIL_PW']\n",
    "recipients = list(config_data['emails']['espn_email_dict'].values())\n",
    "\n",
    "# Initialize the server\n",
    "s = smtplib.SMTP('smtp.gmail.com', 587)\n",
    "s.starttls()\n",
    "s.login(user, password)\n",
    "\n",
    "#Format the tables\n",
    "scoring_tabulate = tabulate(matchup_df, headers='keys', tablefmt='html', showindex=False)\n",
    "standings_tabulate = tabulate(standings_df, headers='keys', tablefmt='html', showindex=False)\n",
    "\n",
    "# Define message\n",
    "subject = f\"Weekly Fagudas FF Recap: Week {week}\"\n",
    "summary_html = summary.replace('\\n', '<br>')\n",
    "body = f\"\"\"\\\n",
    "<html>\n",
    "  <head></head>\n",
    "  <body>\n",
    "    <br>{summary_html}</br>\n",
    "    <br>\n",
    "    <hr>\n",
    "    <p><b>Highest Scoring Team</b>: {HT_Owner}: {HT_Score} points</p>\n",
    "    <p><b>Highest Scoring Player</b>: {HP_Owner} - {HP_Player}: {HP_Score} Points</p>\n",
    "    <br>\n",
    "    {standings_tabulate}\n",
    "  </body>\n",
    "</html>\n",
    "\"\"\"\n",
    "\n",
    "\n",
    "#recipients = ['lithal06@yahoo.com']\n",
    "sender = user\n",
    "\n",
    "msg = MIMEMultipart(\"alternative\")\n",
    "msg[\"From\"] = sender\n",
    "msg[\"To\"] = \", \".join(recipients)\n",
    "msg[\"Subject\"] = subject\n",
    "\n",
    "# Attach the HTML body\n",
    "msg.attach(MIMEText(body, 'html'))\n",
    "\n",
    "# Send email\n",
    "s.sendmail(sender, recipients, msg.as_string())\n",
    "\n",
    "# Terminate the session\n",
    "s.quit()"
   ]
  }
 ],
 "metadata": {
  "kernelspec": {
   "display_name": "base",
   "language": "python",
   "name": "python3"
  },
  "language_info": {
   "codemirror_mode": {
    "name": "ipython",
    "version": 3
   },
   "file_extension": ".py",
   "mimetype": "text/x-python",
   "name": "python",
   "nbconvert_exporter": "python",
   "pygments_lexer": "ipython3",
   "version": "3.8.5"
  },
  "orig_nbformat": 4
 },
 "nbformat": 4,
 "nbformat_minor": 2
}
