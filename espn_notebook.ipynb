{
 "cells": [
  {
   "attachments": {},
   "cell_type": "markdown",
   "metadata": {},
   "source": [
    "# I. Load Scores via ESPN API"
   ]
  },
  {
   "cell_type": "code",
   "execution_count": 1,
   "metadata": {},
   "outputs": [
    {
     "name": "stdout",
     "output_type": "stream",
     "text": [
      "Data not loaded correctly (Attempt 1 of 5), retrying in 1 second...\n",
      "Loaded data from ESPN for week 3 of the 2023 season\n",
      "Completed processing weekly scores and standings\n"
     ]
    }
   ],
   "source": [
    "from espn_functions import *\n",
    "#Define week and year\n",
    "week = 3\n",
    "year = 2023\n",
    "standings_df, matchup_df, HP_Owner, HP_Player, HP_Score, HT_Owner, HT_Score = run_espn_weekly(week, year)"
   ]
  },
  {
   "cell_type": "markdown",
   "metadata": {},
   "source": [
    "# II. Create GPT Summary Email"
   ]
  },
  {
   "cell_type": "code",
   "execution_count": 2,
   "metadata": {},
   "outputs": [
    {
     "name": "stdout",
     "output_type": "stream",
     "text": [
      "Generated the summary\n",
      "Hey all you Fantasy Football fiends,\n",
      "\n",
      "Welcome to Week 3’s wrap up where dreams crumble, tears are shed, and the underdogs... well, mainly just remain underdogs.\n",
      "\n",
      "The top player this week goes to none other than Mr. John Qian, the \"Real Artist\" in this game of gambles. With 109 points this week, he is sitting pretty at an undefeated 3-0 record. Dare I say a masterpiece of a season so far? Keep splashing those points onto your season, Picasso.\n",
      "\n",
      "Keeping an iron grip on the #2 spot we have Andrew Kim's \"King Drew.\" Undeniably - the king is not ready to abdicate his throne just yet. Three weeks in, three wins and not ready to slow down. Why be a prince when you can be a king, right Andrew?\n",
      "\n",
      "The biggest shock this week comes from \"MackDarnolds chicken nuggets\", owned by Francis Jin. We should have seen it coming; the power of nugget magic can only take one so far in fantasy football. Francis, maybe it's time to swap those nuggets for some solid steak. Better luck next week!\n",
      "\n",
      "But the spotlight of shame this week again shines brightest on Richie Kay and his utterly heartbreaking team \"Richie's ㄱㅅㄲ s\". Three weeks in and still no W? Richie, my man, the last time I saw such a tragic performance was when a cat walked across my keyboard trying to send an email. On the bright side, there’s only one direction to move from rock bottom.\n",
      "\n",
      "And with a heavy sigh, we must pass over John Dong's \"Big Cheese.\" It seems the Cheese has spoiled, or perhaps been left out in the sun. With a 1-2 record and a weak 87 points this week, the cheese is definitely not standing alone at the top. However, I've seen moldier performances turned around. Who knows, when the cheese ages, it might just get better (sounds gross metaphorically, but stay with me here).\n",
      "\n",
      "That's all for this week's recap, folks. Keep those fantasy dreams alive, or at the very least keep your blunders entertaining for the rest of us. Until next week, may your players stay healthy and your Monday Night Miracles come true.\n",
      "\n",
      "Yours in football,\n",
      "The Snarky AI Commissioner\n",
      "\n"
     ]
    }
   ],
   "source": [
    "summary = generate_summary(week, matchup_df, standings_df, model = 'gpt-4')\n",
    "print(summary)"
   ]
  },
  {
   "cell_type": "markdown",
   "metadata": {},
   "source": [
    "# III. Send G-Mail"
   ]
  },
  {
   "cell_type": "code",
   "execution_count": 3,
   "metadata": {},
   "outputs": [
    {
     "data": {
      "text/plain": [
       "(221,\n",
       " b'2.0.0 closing connection em17-20020ad44f91000000b0065af366bdc1sm6619868qvb.103 - gsmtp')"
      ]
     },
     "execution_count": 3,
     "metadata": {},
     "output_type": "execute_result"
    }
   ],
   "source": [
    "import smtplib\n",
    "from email.mime.text import MIMEText\n",
    "from email.mime.multipart import MIMEMultipart\n",
    "\n",
    "# Load the user name and password from yaml file\n",
    "user, password = config_data['gmail']['GMAIL_USER'], config_data['gmail']['GMAIL_PW']\n",
    "recipients = list(config_data['emails']['espn_email_dict'].values())\n",
    "\n",
    "# Initialize the server\n",
    "s = smtplib.SMTP('smtp.gmail.com', 587)\n",
    "s.starttls()\n",
    "s.login(user, password)\n",
    "\n",
    "#Format the tables\n",
    "scoring_tabulate = tabulate(matchup_df, headers='keys', tablefmt='html', showindex=False)\n",
    "standings_tabulate = tabulate(standings_df, headers='keys', tablefmt='html', showindex=False)\n",
    "\n",
    "# Define message\n",
    "subject = f\"Weekly Fagudas FF Recap: Week {week}\"\n",
    "summary_html = summary.replace('\\n', '<br>')\n",
    "body = f\"\"\"\\\n",
    "<html>\n",
    "  <head></head>\n",
    "  <body>\n",
    "    <br>{summary_html}</br>\n",
    "    <br>\n",
    "    <hr>\n",
    "    <p><b>Highest Scoring Team</b>: {HT_Owner}: {HT_Score} points</p>\n",
    "    <p><b>Highest Scoring Player</b>: {HP_Owner} - {HP_Player}: {HP_Score} Points</p>\n",
    "    <br>\n",
    "    {standings_tabulate}\n",
    "  </body>\n",
    "</html>\n",
    "\"\"\"\n",
    "\n",
    "\n",
    "recipients = ['lithal06@yahoo.com']\n",
    "sender = user\n",
    "\n",
    "msg = MIMEMultipart(\"alternative\")\n",
    "msg[\"From\"] = sender\n",
    "msg[\"To\"] = \", \".join(recipients)\n",
    "msg[\"Subject\"] = subject\n",
    "\n",
    "# Attach the HTML body\n",
    "msg.attach(MIMEText(body, 'html'))\n",
    "\n",
    "# Send email\n",
    "s.sendmail(sender, recipients, msg.as_string())\n",
    "\n",
    "# Terminate the session\n",
    "s.quit()"
   ]
  },
  {
   "cell_type": "code",
   "execution_count": null,
   "metadata": {},
   "outputs": [],
   "source": []
  }
 ],
 "metadata": {
  "kernelspec": {
   "display_name": "base",
   "language": "python",
   "name": "python3"
  },
  "language_info": {
   "codemirror_mode": {
    "name": "ipython",
    "version": 3
   },
   "file_extension": ".py",
   "mimetype": "text/x-python",
   "name": "python",
   "nbconvert_exporter": "python",
   "pygments_lexer": "ipython3",
   "version": "3.8.5"
  },
  "orig_nbformat": 4
 },
 "nbformat": 4,
 "nbformat_minor": 2
}
